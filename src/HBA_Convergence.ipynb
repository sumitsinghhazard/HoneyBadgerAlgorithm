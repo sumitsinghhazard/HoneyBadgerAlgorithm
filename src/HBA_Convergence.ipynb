{
 "cells": [
  {
   "cell_type": "markdown",
   "id": "3388ac4a",
   "metadata": {},
   "source": [
    "Unimodal"
   ]
  },
  {
   "cell_type": "code",
   "execution_count": 2,
   "id": "f1ba6340",
   "metadata": {},
   "outputs": [],
   "source": [
    "#getting libraries\n",
    "using Distributions\n",
    "using Distances\n",
    "using Random\n",
    "using Plots"
   ]
  },
  {
   "cell_type": "code",
   "execution_count": 3,
   "id": "21902dfa",
   "metadata": {},
   "outputs": [
    {
     "data": {
      "text/plain": [
       "sphere (generic function with 1 method)"
      ]
     },
     "execution_count": 3,
     "metadata": {},
     "output_type": "execute_result"
    }
   ],
   "source": [
    "# De Jong (sphere) function\n",
    "\n",
    "sphere(x)=sum(x.^2)"
   ]
  },
  {
   "cell_type": "code",
   "execution_count": 4,
   "id": "f3949556",
   "metadata": {},
   "outputs": [
    {
     "data": {
      "text/plain": [
       "Chung_Reynolds (generic function with 1 method)"
      ]
     },
     "execution_count": 4,
     "metadata": {},
     "output_type": "execute_result"
    }
   ],
   "source": [
    "#Chung Reynolds\n",
    "\n",
    "function Chung_Reynolds(x)\n",
    "    sum = 0\n",
    "    n = length(x)\n",
    "    for i in 1:n\n",
    "        sum += x[i]^2\n",
    "    end\n",
    "    val = sum^2\n",
    "    return val\n",
    "end"
   ]
  },
  {
   "cell_type": "code",
   "execution_count": 5,
   "id": "8bda65ba",
   "metadata": {},
   "outputs": [
    {
     "data": {
      "text/plain": [
       "schwefel_2_22 (generic function with 1 method)"
      ]
     },
     "execution_count": 5,
     "metadata": {},
     "output_type": "execute_result"
    }
   ],
   "source": [
    "# Schwefel 2.22 function\n",
    "\n",
    "function schwefel_2_22(x)\n",
    "    sum = 0\n",
    "    prod = 1\n",
    "    n = length(x)\n",
    "    for i in 1:n\n",
    "        sum += abs(x[i])\n",
    "        prod *= abs(x[i])\n",
    "    end\n",
    "    val = sum+ prod\n",
    "    return val\n",
    "end"
   ]
  },
  {
   "cell_type": "code",
   "execution_count": 6,
   "id": "b683f873",
   "metadata": {},
   "outputs": [
    {
     "data": {
      "text/plain": [
       "schwefel_2_20 (generic function with 1 method)"
      ]
     },
     "execution_count": 6,
     "metadata": {},
     "output_type": "execute_result"
    }
   ],
   "source": [
    "# Schwefel 2.20 function\n",
    "\n",
    "function schwefel_2_20(x)\n",
    "    sum = 0\n",
    "    n = length(x)\n",
    "    for i in 1:n\n",
    "        sum += abs(x[i])\n",
    "    end\n",
    "    val = sum\n",
    "    return val\n",
    "end"
   ]
  },
  {
   "cell_type": "code",
   "execution_count": 7,
   "id": "e0498301",
   "metadata": {},
   "outputs": [
    {
     "data": {
      "text/plain": [
       "schwefel_2_23 (generic function with 1 method)"
      ]
     },
     "execution_count": 7,
     "metadata": {},
     "output_type": "execute_result"
    }
   ],
   "source": [
    "# Schwefel 2.23 function\n",
    "\n",
    "function schwefel_2_23(x)\n",
    "    sum = 0\n",
    "    n = length(x)\n",
    "    for i in 1:n\n",
    "        sum += x[i]^10\n",
    "    end\n",
    "    val = sum\n",
    "    return val\n",
    "end"
   ]
  },
  {
   "cell_type": "code",
   "execution_count": 8,
   "id": "19c93295",
   "metadata": {},
   "outputs": [
    {
     "data": {
      "text/plain": [
       "Sum_Squares (generic function with 1 method)"
      ]
     },
     "execution_count": 8,
     "metadata": {},
     "output_type": "execute_result"
    }
   ],
   "source": [
    "# Sum Squares function\n",
    "\n",
    "function Sum_Squares(x)\n",
    "    sum = 0\n",
    "    n = length(x)\n",
    "    for i in 1:n\n",
    "        ele = x[i]^2\n",
    "        sum += (i*ele)\n",
    "    end\n",
    "    val = sum\n",
    "    return val\n",
    "end"
   ]
  },
  {
   "cell_type": "code",
   "execution_count": 9,
   "id": "cd579997",
   "metadata": {},
   "outputs": [
    {
     "data": {
      "text/plain": [
       "Powell_Sum (generic function with 1 method)"
      ]
     },
     "execution_count": 9,
     "metadata": {},
     "output_type": "execute_result"
    }
   ],
   "source": [
    "# Powell Sum function\n",
    "\n",
    "function Powell_Sum(x)\n",
    "    sum = 0\n",
    "    n = length(x)\n",
    "    for i in 1:n\n",
    "        ele = abs(x[i])\n",
    "        sum += ele^(i+1)\n",
    "    end\n",
    "    val = sum\n",
    "    return val\n",
    "end"
   ]
  },
  {
   "cell_type": "code",
   "execution_count": 10,
   "id": "20e4bf8e",
   "metadata": {},
   "outputs": [
    {
     "data": {
      "text/plain": [
       "Powell_Singular_2 (generic function with 1 method)"
      ]
     },
     "execution_count": 10,
     "metadata": {},
     "output_type": "execute_result"
    }
   ],
   "source": [
    "# Powell Singular-2 function\n",
    "\n",
    "function Powell_Singular_2(x)\n",
    "    sum = 0\n",
    "    n = length(x)\n",
    "    for i in 2:n-3\n",
    "        p1 = (x[i-1] - 10x[i])^2\n",
    "        p2 = 5*((x[i+1] + x[i+2])^2)\n",
    "        p3 = (x[i] - x[i+1])^4\n",
    "        p4 = 10*((x[i-1] + x[i+2])^4)\n",
    "        sum += p1 + p2 + p3 +p4\n",
    "    end\n",
    "    val = sum\n",
    "    return val\n",
    "end"
   ]
  },
  {
   "cell_type": "markdown",
   "id": "20f8db31",
   "metadata": {},
   "source": [
    "Multimodal"
   ]
  },
  {
   "cell_type": "code",
   "execution_count": 11,
   "id": "70845e7b",
   "metadata": {},
   "outputs": [
    {
     "data": {
      "text/plain": [
       "ackley (generic function with 1 method)"
      ]
     },
     "execution_count": 11,
     "metadata": {},
     "output_type": "execute_result"
    }
   ],
   "source": [
    "# ackley function\n",
    "\n",
    "function ackley(x)\n",
    "    # x = [x1, x2, ..., xd]\n",
    "    # a = default value 20\n",
    "    # b = default value 0.2\n",
    "    # c = default value 2*pi\n",
    "    a = 20\n",
    "    b = 0.2\n",
    "    c = 2*π\n",
    "    n = length(x)\n",
    "    sum1 = 0\n",
    "    sum2 = 0\n",
    "    for i in 1:n\n",
    "        sum1 += x[i]^2\n",
    "        sum2 += cos(c*x[i])\n",
    "    end\n",
    "    \n",
    "    term1 = -a * exp(-b*sqrt(sum1/n))\n",
    "    term2 = -exp(sum2/n)\n",
    "    y = term1 + term2 + a + exp(1)\n",
    "    return y\n",
    "end"
   ]
  },
  {
   "cell_type": "code",
   "execution_count": 12,
   "id": "2798eefc",
   "metadata": {},
   "outputs": [
    {
     "data": {
      "text/plain": [
       "rastrigin (generic function with 1 method)"
      ]
     },
     "execution_count": 12,
     "metadata": {},
     "output_type": "execute_result"
    }
   ],
   "source": [
    "# rastrigin function\n",
    "\n",
    "function rastrigin(x)\n",
    "    val = -10length(x)\n",
    "    n = length(x)\n",
    "    for i in 1:n\n",
    "        val += -x[i]^2+10cos(π*x[i])\n",
    "    end\n",
    "    val =-val\n",
    "    return val\n",
    "end"
   ]
  },
  {
   "cell_type": "code",
   "execution_count": 13,
   "id": "ca0a83b7",
   "metadata": {},
   "outputs": [
    {
     "data": {
      "text/plain": [
       "brown (generic function with 1 method)"
      ]
     },
     "execution_count": 13,
     "metadata": {},
     "output_type": "execute_result"
    }
   ],
   "source": [
    "# Brown function\n",
    "\n",
    "function brown(x)\n",
    "    val = 0\n",
    "    n = length(x)\n",
    "    for i in 1:n-1\n",
    "        p1 = x[i]^2\n",
    "        p2 = x[i+1]^2\n",
    "        val += p1^(x[i+1]^2 + 1) + p2^(x[i]^2+1) \n",
    "    end\n",
    "    return val\n",
    "end"
   ]
  },
  {
   "cell_type": "code",
   "execution_count": 14,
   "id": "1a5fe09a",
   "metadata": {},
   "outputs": [
    {
     "data": {
      "text/plain": [
       "cigar (generic function with 1 method)"
      ]
     },
     "execution_count": 14,
     "metadata": {},
     "output_type": "execute_result"
    }
   ],
   "source": [
    "# cigar function\n",
    "\n",
    "function cigar(x)\n",
    "    val = 0\n",
    "    n = length(x)\n",
    "    for i in 2:n\n",
    "        val += x[i]^2\n",
    "    end\n",
    "    val *= 10^6\n",
    "    val += x[1]^2\n",
    "    return val\n",
    "end\n"
   ]
  },
  {
   "cell_type": "code",
   "execution_count": 15,
   "id": "7836718c",
   "metadata": {},
   "outputs": [
    {
     "data": {
      "text/plain": [
       "csendes (generic function with 1 method)"
      ]
     },
     "execution_count": 15,
     "metadata": {},
     "output_type": "execute_result"
    }
   ],
   "source": [
    "# Csendes function\n",
    "\n",
    "function csendes(x)\n",
    "    val = -10length(x)\n",
    "    n = length(x)\n",
    "    for i in 1:n\n",
    "        val += (x[i]^6) *(2 + sin(1/x[i]))\n",
    "    end\n",
    "    return val\n",
    "end"
   ]
  },
  {
   "cell_type": "code",
   "execution_count": 16,
   "id": "d1e737f2",
   "metadata": {},
   "outputs": [
    {
     "data": {
      "text/plain": [
       "griewank (generic function with 1 method)"
      ]
     },
     "execution_count": 16,
     "metadata": {},
     "output_type": "execute_result"
    }
   ],
   "source": [
    "# Griewank function\n",
    "\n",
    "function griewank(x)\n",
    "    sum = 0\n",
    "    prod = 1\n",
    "    n = length(x)\n",
    "    for i in 1:n\n",
    "        sum += (x[i]^2) / 4000\n",
    "        prod *= cos(x[i]/(i^1/2))\n",
    "    end\n",
    "    val = 1+ sum - prod\n",
    "    return val\n",
    "end"
   ]
  },
  {
   "cell_type": "code",
   "execution_count": 17,
   "id": "d4907f02",
   "metadata": {},
   "outputs": [
    {
     "data": {
      "text/plain": [
       "schwefel_2_25 (generic function with 1 method)"
      ]
     },
     "execution_count": 17,
     "metadata": {},
     "output_type": "execute_result"
    }
   ],
   "source": [
    "# Schwefel 2.25 function\n",
    "\n",
    "function schwefel_2_25(x)\n",
    "    sum = 0\n",
    "    n = length(x)\n",
    "    for i in 2:n\n",
    "        p1 = (x[i]-1)^2\n",
    "        p2 = (x[1] - x[i]^2)^2\n",
    "        sum += p1 + p2\n",
    "    end\n",
    "    val = sum\n",
    "    return val\n",
    "end"
   ]
  },
  {
   "cell_type": "code",
   "execution_count": 18,
   "id": "cc20bf9b",
   "metadata": {},
   "outputs": [
    {
     "data": {
      "text/plain": [
       "zakharov (generic function with 1 method)"
      ]
     },
     "execution_count": 18,
     "metadata": {},
     "output_type": "execute_result"
    }
   ],
   "source": [
    "# Zakharov function\n",
    "\n",
    "function zakharov(x)\n",
    "    sum1 = 0\n",
    "    sum2 = 0\n",
    "    n = length(x)\n",
    "    for i in 2:n\n",
    "        sum1 += x[i]^2\n",
    "        sum2 += 0.5 * i * x[i]\n",
    "    end\n",
    "    val = sum1 + sum2^2 + sum2^4\n",
    "    return val\n",
    "end"
   ]
  },
  {
   "cell_type": "markdown",
   "id": "03cfd568",
   "metadata": {},
   "source": [
    "Fixed Dimension"
   ]
  },
  {
   "cell_type": "code",
   "execution_count": 19,
   "id": "fb809daf",
   "metadata": {},
   "outputs": [
    {
     "data": {
      "text/plain": [
       "zirilli2 (generic function with 1 method)"
      ]
     },
     "execution_count": 19,
     "metadata": {},
     "output_type": "execute_result"
    }
   ],
   "source": [
    "# zirilli function\n",
    "\n",
    "function zirilli2(x)\n",
    "    x1 = x[1]\n",
    "    x2 = x[2]\n",
    "    val = (0.5 * (x1 ^ 2)) + (0.5 * (1 - cos(2*x1)) ) + (x2 ^ 2)\n",
    "    return val\n",
    "end"
   ]
  },
  {
   "cell_type": "code",
   "execution_count": 20,
   "id": "085ec7c2",
   "metadata": {},
   "outputs": [
    {
     "data": {
      "text/plain": [
       "matyas2 (generic function with 1 method)"
      ]
     },
     "execution_count": 20,
     "metadata": {},
     "output_type": "execute_result"
    }
   ],
   "source": [
    "# matyas function\n",
    "\n",
    "function matyas2(x)\n",
    "    x1 = x[1]\n",
    "    x2 = x[2]\n",
    "    val = (0.26 * ((x1 ^ 2) + (x2 ^ 2) ))  - (0.48 * x1 * x2)\n",
    "    return val\n",
    "end"
   ]
  },
  {
   "cell_type": "code",
   "execution_count": 21,
   "id": "8a9b0e70",
   "metadata": {},
   "outputs": [
    {
     "data": {
      "text/plain": [
       "trecanni2 (generic function with 1 method)"
      ]
     },
     "execution_count": 21,
     "metadata": {},
     "output_type": "execute_result"
    }
   ],
   "source": [
    "# Trecanni function\n",
    "\n",
    "function trecanni2(x)\n",
    "    x1 = x[1]\n",
    "    x2 = x[2]\n",
    "    val = 4 − 4*(x1^3) + 4*x1 + x2\n",
    "    return val\n",
    "end"
   ]
  },
  {
   "cell_type": "code",
   "execution_count": 22,
   "id": "aaca8fa4",
   "metadata": {},
   "outputs": [
    {
     "data": {
      "text/plain": [
       "price2 (generic function with 1 method)"
      ]
     },
     "execution_count": 22,
     "metadata": {},
     "output_type": "execute_result"
    }
   ],
   "source": [
    "# Price function\n",
    "\n",
    "function price2(x)\n",
    "    x1 = x[1]\n",
    "    x2 = x[2]\n",
    "    val = ((2*(x1^3)*x2) - x2^3)^2 + (6*x1 - x2^2 + x2)^2\n",
    "    return val\n",
    "end"
   ]
  },
  {
   "cell_type": "code",
   "execution_count": 23,
   "id": "00141668",
   "metadata": {},
   "outputs": [
    {
     "data": {
      "text/plain": [
       "chen_bird2 (generic function with 1 method)"
      ]
     },
     "execution_count": 23,
     "metadata": {},
     "output_type": "execute_result"
    }
   ],
   "source": [
    "# Chen Bird function\n",
    "\n",
    "function chen_bird2(x)\n",
    "    x1 = x[1]\n",
    "    x2 = x[2]\n",
    "    val = (0.001 / (floor(0.001^2 + (x1 -0.4x2 -0.1)^2))) - (0.001 / (floor(0.001^2 + (2x1 +x2 -1.5)^2)))\n",
    "    return val\n",
    "end"
   ]
  },
  {
   "cell_type": "code",
   "execution_count": 24,
   "id": "7eb002d5",
   "metadata": {},
   "outputs": [
    {
     "data": {
      "text/plain": [
       "colville4 (generic function with 1 method)"
      ]
     },
     "execution_count": 24,
     "metadata": {},
     "output_type": "execute_result"
    }
   ],
   "source": [
    "# Colville function\n",
    "\n",
    "function colville4(x)\n",
    "    x1 = x[1]\n",
    "    x2 = x[2]\n",
    "    x3 = x[3]\n",
    "    x4 = x[4]\n",
    "    val = (100*(x1-x2^2)^2) + ((1-x1)^2) + (90*(x4-x3^2)^2) + ((1-x3)^2) + (10.1*(x2-1)^2) + ((x4-1)^2) + (19.8*(x2-1)*(x4-1))\n",
    "    return val\n",
    "end"
   ]
  },
  {
   "cell_type": "code",
   "execution_count": 25,
   "id": "b9a25b8a",
   "metadata": {},
   "outputs": [],
   "source": [
    "# Damavandi function"
   ]
  },
  {
   "cell_type": "code",
   "execution_count": 26,
   "id": "06f4b61e",
   "metadata": {},
   "outputs": [],
   "source": [
    "# Sawtoothxy function"
   ]
  },
  {
   "cell_type": "markdown",
   "id": "1a355984",
   "metadata": {},
   "source": [
    "Testing"
   ]
  },
  {
   "cell_type": "code",
   "execution_count": 27,
   "id": "afeadff7",
   "metadata": {},
   "outputs": [
    {
     "data": {
      "text/plain": [
       "rand_population_uniform (generic function with 1 method)"
      ]
     },
     "execution_count": 27,
     "metadata": {},
     "output_type": "execute_result"
    }
   ],
   "source": [
    "# create m random vectors of d dimensions in the range [a,b]\n",
    "function rand_population_uniform(m, d, a, b)\n",
    "    return [rand(Uniform(a,b),d) for i in 1:m]\n",
    "end"
   ]
  },
  {
   "cell_type": "code",
   "execution_count": 28,
   "id": "f6d40e95",
   "metadata": {},
   "outputs": [
    {
     "data": {
      "text/plain": [
       "10-element Vector{Vector{Float64}}:\n",
       " [3.5074888182933357, 3.6673339041794097]\n",
       " [-0.5520939230971686, 3.4553506415701314]\n",
       " [4.206387989743318, -0.7130054221140378]\n",
       " [1.0114836157508762, -4.677133071333548]\n",
       " [-4.099334251584401, -2.9058972592912644]\n",
       " [-2.436003373891741, -2.44817595047623]\n",
       " [-3.0487757532287683, 0.23266328188799967]\n",
       " [3.09036437580769, -1.4341798228838396]\n",
       " [-4.43439954779874, -1.9660400394607613]\n",
       " [1.8945340899102403, -2.0104307287486947]"
      ]
     },
     "execution_count": 28,
     "metadata": {},
     "output_type": "execute_result"
    }
   ],
   "source": [
    "a = rand_population_uniform(10, 2, -5, 5)"
   ]
  },
  {
   "cell_type": "code",
   "execution_count": 29,
   "id": "0eeb53df",
   "metadata": {},
   "outputs": [
    {
     "data": {
      "text/plain": [
       "10-element Vector{Float64}:\n",
       " -150.90592425250728\n",
       "    5.9201048645395025\n",
       " -277.5937208179033\n",
       "   -0.7705905360443479\n",
       "  260.24649276926715\n",
       "   49.62988223025938\n",
       "  105.39145244991457\n",
       " -103.128992402741\n",
       "  333.0867073031886\n",
       "  -17.63219166756433"
      ]
     },
     "execution_count": 29,
     "metadata": {},
     "output_type": "execute_result"
    }
   ],
   "source": [
    "trecanni2.(a)"
   ]
  },
  {
   "cell_type": "markdown",
   "id": "9260d719",
   "metadata": {},
   "source": [
    "Honey Badger Algorithm"
   ]
  },
  {
   "cell_type": "code",
   "execution_count": 30,
   "id": "900bdc2d",
   "metadata": {},
   "outputs": [
    {
     "data": {
      "text/plain": [
       "intensity (generic function with 1 method)"
      ]
     },
     "execution_count": 30,
     "metadata": {},
     "output_type": "execute_result"
    }
   ],
   "source": [
    "# intensity function\n",
    "\n",
    "function intensity(N, x, x_prey)\n",
    "    d = zeros(N)\n",
    "    S = zeros(N)\n",
    "    I = zeros(N)\n",
    "    for i in 1:N-1\n",
    "        d[i] = euclidean(x[i], x_prey) ^ 2\n",
    "        S[i] = euclidean(x[i],x[i+1]) ^ 2\n",
    "    end\n",
    "    \n",
    "    d[N] = euclidean(x[N], x_prey)\n",
    "    S[N] = euclidean(x[N],x[1])\n",
    "    \n",
    "    \n",
    "    \n",
    "    for i in 1:N\n",
    "        r2 = rand(Uniform(0,1))\n",
    "        I[i] = r2 * S[i] / (4 * π * d[i] )\n",
    "    end\n",
    "    return I\n",
    "end"
   ]
  },
  {
   "cell_type": "code",
   "execution_count": 31,
   "id": "2517e29e",
   "metadata": {},
   "outputs": [
    {
     "data": {
      "text/plain": [
       "honey_badger_algorithm (generic function with 1 method)"
      ]
     },
     "execution_count": 31,
     "metadata": {},
     "output_type": "execute_result"
    }
   ],
   "source": [
    "# Honey Badger Algorithm\n",
    "\n",
    "function honey_badger_algorithm(t_max, N, beta, C, x, obj_func)\n",
    "    # t_max = maximum no of iterations\n",
    "    # N = population size\n",
    "    # beta = default value as 6\n",
    "    # C = default value as 2\n",
    "    # x = initial population\n",
    "    # obj_func = benchmark function\n",
    "    # f = fitness of the population\n",
    "    # x_prey = best position found so far\n",
    "    # f_prey = best fitness value so far for the x_prey\n",
    "    # x_new = new position calculated for the ith honey badger\n",
    "    # f_new = new fitness calculated for the ith honey badger\n",
    "    # I = intensity of the honey badger\n",
    "    # F = disturbance direction\n",
    "    \n",
    "    #calucalte the fitness of each honey badger\n",
    "    f = obj_func.(x)\n",
    "    #println(\"fitness vecor: \", f)\n",
    "    \n",
    "    #save best posiiton and fitness\n",
    "    f_prey, x_prey_index = findmin(f)\n",
    "    x_prey = x[x_prey_index]\n",
    "    #println(\"best solution: \", x_prey, \" fitness: \", f_prey)\n",
    "    println(\"fitness: \", f_prey)\n",
    "    fitness_values = []\n",
    "    push!(fitness_values,(0,f_prey))\n",
    "    for t in 1:t_max\n",
    "        \n",
    "        #println(\"iteration: \", t)\n",
    "        \n",
    "        #calculate the density factor / decreasing factor\n",
    "        alpha = C * exp(-t / t_max)\n",
    "        #println(\"alpha: \", alpha)\n",
    "        \n",
    "        #calcualte the intensity of the all honey badgers\n",
    "        I = intensity(N, x, x_prey)\n",
    "        #println(\"Intensity: \", I)\n",
    "        \n",
    "        for i in 1:N\n",
    "            \n",
    "            #calcuate distance between prey and ith honey badger\n",
    "            d = x_prey - x[i]\n",
    "            \n",
    "            #generate disturbance\n",
    "            r6 = rand(Uniform(0,1))\n",
    "            if r6<=0.5\n",
    "                F = 1\n",
    "            else\n",
    "                F = -1\n",
    "            end\n",
    "            \n",
    "            \n",
    "            #generate a random value to deicde between digging vs honey mode\n",
    "            r2 = rand(Uniform(0,1))\n",
    "            \n",
    "            #TODO : if intensity is infinite then go for honey mode\n",
    "            if isinf(I[i])\n",
    "                r2 = 0.9\n",
    "            end\n",
    "            \n",
    "            if r2<0.5\n",
    "                # digging mode\n",
    "                #println(\"Digging mode\")\n",
    "                r3 = rand(Uniform(0,1))\n",
    "                r4 = rand(Uniform(0,1))\n",
    "                r5 = rand(Uniform(0,1))\n",
    "                #println(\"Intensity: \", I[i])\n",
    "                #p = abs(cos(2*π*r4) * (1 - cos(2*π*r5)))\n",
    "                #println(\"cos value: \", p)\n",
    "                x_new = x_prey + (F * beta * I[i] * x_prey) + (F * r3 * alpha * d * abs(cos(2*π*r4) * (1 - cos(2*π*r5))))\n",
    "                f_new = obj_func(x_new)\n",
    "            \n",
    "            else\n",
    "                # honey node\n",
    "                #println(\"Honey mode\")\n",
    "                r7 = rand(Uniform(0,1))\n",
    "                x_new = x_prey + (F * r7 * alpha * d)\n",
    "                f_new = obj_func(x_new)\n",
    "            end\n",
    "            \n",
    "            #TODO: mange xnew to be within the bounds\n",
    "            \n",
    "            # evaluate the new posiiton and fitness values\n",
    "            \n",
    "            #local position update\n",
    "            if f_new < f[i]\n",
    "                #println(\"local position is improved\")\n",
    "                #println(\"values\", x[i], \";\", x_new, \";\", f[i], \";\", f_new  )\n",
    "                x[i] = x_new\n",
    "                f[i] = f_new\n",
    "                \n",
    "                #println(\"local position is improved fin\")\n",
    "            end\n",
    "            \n",
    "            #prey position update\n",
    "            if f_new<f_prey\n",
    "                #println(\"prey position is improved with honey badger # \", i)\n",
    "                x_prey = x_new\n",
    "                f_prey = f_new\n",
    "            end\n",
    "            \n",
    "        end\n",
    "        push!(fitness_values,(t,f_prey))\n",
    "        #println(\"fitness: \", f_prey)\n",
    "    end\n",
    "   return x_prey, f_prey, fitness_values \n",
    "end\n",
    "    "
   ]
  },
  {
   "cell_type": "code",
   "execution_count": 36,
   "id": "181e7228",
   "metadata": {
    "scrolled": false
   },
   "outputs": [
    {
     "name": "stdout",
     "output_type": "stream",
     "text": [
      "fitness: 5.155737323048767e9\n",
      "best solution: [2.766165906724444e-10, 6.561378808617234e-10, 9.442175233737953e-10, -4.833169939649675e-10, -3.3989725988709257e-10, 4.786318562015831e-10, 2.553440237571992e-10, -2.022430397191879e-10, 2.4780773773461975e-10, -1.1469760196213295e-9, 7.369328373289591e-10, -3.327540298356123e-10, 1.060265965562902e-9, 7.411973558022556e-10, 4.6448388823406973e-10, -2.653637222625e-10, 8.444045798047943e-11, -2.346051402517108e-10, -7.25347265894477e-10, 6.189167525013798e-10, 3.6319166897354533e-10, 1.401499174966562e-10, -2.797510207425073e-10, 1.9426082354136104e-10, 5.754599538242763e-10, -1.147693258026847e-9, 5.2646526277006235e-11, -2.526162071340456e-10, -9.268974814869755e-10, 5.69171473647732e-10] fitness: 1.0425014041657902e-34\n",
      "fitness: 4.753175260554336e9\n",
      "best solution: [2.6845778272487624e-8, -2.0130557945403633e-8, 4.777496943796848e-10, 9.7681807424046e-10, 7.1806867839475214e-9, -2.6717231792198897e-8, 5.137832651782675e-9, -2.7247619839947424e-9, 4.816006351340661e-8, 3.160060247002353e-8, -4.377915789944628e-9, -1.8590010915784947e-8, 2.8562105365626607e-8, -3.4826726168389836e-8, 2.019326612273971e-9, 2.5834999493423994e-8, -6.018629867491426e-9, 4.356365387859687e-9, 3.40671971774419e-8, -7.23630089392917e-9, -3.741075750824416e-9, 8.885607332309158e-9, -1.1056964091432554e-8, -3.6687913240659647e-9, -1.585632969933428e-9, -2.725866693859238e-8, -9.194240156806665e-9, 2.8792570120236532e-8, 8.697087806014751e-9, -1.0272417092610185e-8] fitness: 1.3563721596500991e-28\n",
      "fitness: 5.058051948520895e9\n",
      "best solution: [-3.766223431440576e-9, 1.2022208383941325e-9, 9.240981156725739e-9, -9.48842598568332e-9, 5.1903936763405684e-9, -5.559023118431861e-9, 1.3315235368685616e-9, -3.1155459615121696e-9, 6.101915619807676e-9, 6.290012747179825e-9, -4.188268776301509e-9, 4.081940683310148e-10, -1.6985598837105745e-9, 5.291625847840008e-9, 8.674879021367233e-9, 7.521822279971599e-9, 2.5185782612584324e-8, 5.387418014602214e-9, -3.2265906838438432e-9, 8.089030279504372e-9, -5.095472611744972e-9, 6.029062588089504e-9, -9.618870796076143e-9, -1.3618062677934293e-9, 4.68016407553795e-9, -1.0366791421169143e-8, -1.1627934952895402e-8, 8.141931298209739e-9, 1.4627040106142052e-9, -1.7181346139028032e-8] fitness: 4.16852279874409e-30\n",
      "fitness: 4.2174995330630946e9\n",
      "best solution: [7.647691085909835e-10, 1.3483428152400677e-10, -3.0093990069947227e-10, -4.5862942771602244e-10, 7.248464709184679e-10, 1.0108835056728086e-9, 4.2403241629516155e-10, -8.969365853460001e-10, 9.68059512322084e-10, 1.5273464874502482e-10, -3.2939205421307764e-9, -1.985267158633785e-9, 1.0825572925352372e-9, 5.586198250571043e-10, -1.778554852674198e-9, -2.832443541959285e-10, -6.918324003820644e-10, -3.553945128024509e-10, -1.4134791366288714e-9, 2.8313833136090326e-10, -9.768997398570416e-10, 8.258167846535571e-10, -3.685012386540964e-10, 7.263062420323288e-10, 1.7315829056574987e-9, 2.906642518555986e-10, -2.250780079363564e-9, -1.1236762777382582e-9, 9.190375709155553e-10, -1.25128620830522e-11] fitness: 1.5330075433519835e-33\n",
      "fitness: 5.114835686100965e9\n",
      "best solution: [7.71741559809887e-10, -1.7433684342952772e-9, 1.2030382320928075e-9, -2.1786352342353015e-9, 4.469353669408549e-10, 2.514443677327802e-9, 1.5640620880422583e-11, 3.2119898153810305e-10, 1.52239461111006e-9, 1.3180586571943493e-10, 3.2153804463605065e-9, 1.4025354092954785e-9, 6.286172999547381e-10, 5.748309564615819e-10, -1.900223880042604e-9, -3.8334301737867855e-10, 1.8536107600813553e-9, 6.413632292307484e-10, 1.296277999154605e-9, -2.2043336737720805e-9, -3.9312901327176655e-10, 2.343947165331752e-9, -7.746694509581502e-10, 1.9655276125774553e-9, -1.3297671442544204e-10, -8.121589702103788e-10, -3.5912792680043557e-10, 2.899029622633386e-9, -1.8589889340706783e-10, 1.625705345567186e-9] fitness: 4.61928080700124e-33\n",
      "fitness: 2.6944199743707685e9\n",
      "best solution: [3.569584888805735e-9, 3.9272406040993185e-9, 1.4094156769776207e-9, -2.3505484879502473e-9, -1.7679851955138421e-9, 2.0065208827962816e-9, 2.0194312772385066e-9, 3.55279773931176e-10, 3.316164586986743e-11, -1.2128326277155383e-9, -8.565081032558625e-10, -3.418201303011645e-9, -2.6500382057035873e-9, -5.492498770217995e-10, 5.6302747728925755e-9, 6.779095397634728e-9, 3.9037192873459395e-9, 2.8035472027031814e-9, 7.990255365247146e-10, -2.9788202567038997e-9, 1.0023285837374612e-9, 8.071344755186181e-10, -3.2650450724454596e-9, -5.2464016528823895e-9, -3.1499961953620265e-9, -1.4943998728214533e-9, -6.45038407371786e-9, -2.4875820084272433e-9, 7.84396482061436e-9, 8.133585113460318e-9] fitness: 1.6482746879996672e-31\n",
      "fitness: 3.7715922162413263e9\n",
      "best solution: [-1.3160615168990726e-9, -7.1218364783256685e-9, 7.945331013838267e-9, 1.4515983336403276e-9, -2.4078457772277595e-9, -2.2139921000656368e-9, 6.545634301438369e-9, 3.9546222951974084e-9, -4.983323158080336e-9, -4.571425551192992e-9, 3.185780856562503e-9, 1.8266832478598157e-9, -2.7709374717634697e-9, -2.9838617778223566e-9, 5.382030084046604e-9, -2.0364468496549546e-9, 9.516459178248725e-10, -9.503108969609857e-10, -9.647949113897602e-9, -3.465989149686534e-9, -1.8562144577766793e-9, -1.5891561904243862e-9, 4.535416857223789e-10, -7.90165684808453e-9, -5.133127449627594e-9, 3.5841355857407027e-9, -1.384815503921656e-9, 3.972195265220004e-9, 2.8780307995565974e-9, -2.226117851952358e-9] fitness: 2.9314799993753525e-31\n",
      "fitness: 4.9603830980589695e9\n",
      "best solution: [7.872558347739558e-9, -6.230922110473585e-9, -3.1264714528306087e-9, 1.59540301115633e-8, -9.76224194327303e-10, -1.6832268146580278e-9, 1.0409921235804261e-10, -5.6039809254079045e-9, -1.3396243343666935e-8, -1.0390785857211325e-8, -1.8701820536487682e-9, -1.1780704897687565e-8, 1.1729177667679724e-9, -1.0092425960391648e-8, 7.409616514938804e-9, 1.9199179171230633e-9, 1.2555441779129096e-8, 9.133375448810221e-9, -3.6704945712673674e-9, 9.77608276937226e-9, -5.374889771233703e-9, 8.723908171858169e-9, 3.2186873383030534e-9, 1.3985894759748701e-8, -3.4431653970147713e-9, -3.3891883904753584e-9, 5.148821312170555e-10, -3.728729830403379e-9, -1.1242369880211991e-8, 7.015142565698027e-10] fitness: 3.3025703795906624e-30\n",
      "fitness: 4.911235172541593e9\n",
      "best solution: [-2.7773474065688833e-9, 1.2132015300311784e-9, 7.406625433887242e-9, 1.9559998971214514e-9, 1.1463725890342309e-8, -4.190599078070177e-9, 1.0945586465939083e-8, -1.3814755475889154e-8, 2.2103663688292456e-9, 9.919327354334772e-11, -4.911677553342648e-9, -4.927438967047948e-9, -1.0643884024914773e-10, 8.065491918732257e-9, 4.248480777628765e-9, 1.0155400241419576e-8, -6.41605645048949e-9, 6.221861819498903e-9, -8.661492903289837e-9, 8.713160378810743e-9, -1.5662552936727033e-9, 1.2106639617390975e-9, -6.107073247096258e-9, 2.961677949530653e-9, 5.238783496367982e-9, -5.36460657307242e-10, 5.201066135219456e-9, -4.8350776596327456e-11, 1.026582659278249e-8, 1.4807850341508781e-9] fitness: 1.4646245539572325e-30\n",
      "fitness: 4.823255446599043e9\n",
      "best solution: [-6.168611562850774e-11, 3.248081260459206e-9, 2.9455868795107906e-9, -9.782815353711725e-10, -1.3473537567832782e-10, 2.372444033015874e-9, -4.5742524480697215e-9, -8.513524052050492e-12, 4.931541037559038e-9, -5.581817262205432e-9, -1.4247343590329426e-9, 1.150750502882352e-9, -3.1952081730214456e-9, 2.6997500923399183e-9, -7.105048855109584e-10, 1.4048327632946557e-9, 2.250668761260822e-9, -3.895010931923988e-9, 2.1150688207575563e-9, 2.921251619716356e-9, 1.0050048002356576e-9, -3.3238020248183113e-9, -2.0497996405511053e-11, -3.2573729307551596e-9, -4.552335369646545e-10, -6.800347056965605e-11, 2.813676013449887e-9, 4.0099447882165224e-10, -4.569388688546435e-9, 2.168886293426484e-9] fitness: 4.637577853392357e-32\n",
      "fitness: 3.3758105127684474e9\n",
      "best solution: [9.665420458049958e-10, 1.7296349285675608e-9, 5.011524944265734e-9, -2.5906010555021482e-9, 2.0814451934291806e-9, 1.983182701176459e-10, -2.480904087981812e-9, 5.668808004788005e-10, -5.5243713909743874e-11, 5.449765686051909e-9, 2.1154048210759359e-10, -1.8284368339240337e-10, 6.37653253192889e-10, 4.376302956557907e-9, -1.9051739469476994e-9, 2.1680585511709395e-9, -3.0893699856071323e-9, 1.7115345797952072e-9, -1.4066382424469411e-9, -1.4076421744236997e-10, 2.642200727404118e-9, -1.8183001007059865e-9, -2.5325715936883023e-9, 2.591724029183951e-9, 2.7554159191806987e-9, -1.538733031087143e-9, -3.2821215607754696e-9, -1.346553666572501e-10, -3.6647491604767594e-9, -4.910276210340803e-9] fitness: 4.0181188060318145e-32\n",
      "fitness: 4.888348963979956e9\n"
     ]
    },
    {
     "name": "stdout",
     "output_type": "stream",
     "text": [
      "best solution: [5.219015150837904e-10, 1.7439151322653928e-8, -3.2396768523519077e-9, 2.138351718260577e-8, -4.973960505199825e-8, -1.731082433531007e-8, 6.971230524217852e-9, 2.9793065230607236e-8, -9.555185584380292e-9, -1.31837496634359e-9, -7.072712838430822e-9, 3.134819724369613e-8, 1.4877829710974688e-8, 1.7019974338731362e-8, -2.381173133055685e-8, -2.2123681476308088e-8, 3.289500118308455e-8, -1.52279092917297e-8, 1.7861019430149707e-8, 8.382404372964272e-9, -5.7919685303814734e-9, -4.923337181235731e-9, 4.562462425381063e-9, -2.8316178097366514e-8, 1.1767183798534677e-8, -8.298876329653264e-9, -2.7081847610357153e-8, -1.2434749385366452e-8, 1.043423415801701e-8, -3.271109099882516e-8] fitness: 1.4479928288637692e-28\n",
      "fitness: 5.3072798916067095e9\n",
      "best solution: [-7.359099655956749e-9, -3.732656064957091e-8, -2.1271374224958874e-8, 4.095172725544052e-8, 3.176932237505281e-8, 2.578024107826702e-8, -2.787886984457073e-8, 2.2309529899216852e-8, 3.140589578117854e-8, 1.7336610221922476e-8, -6.134212489412211e-9, -3.0248735252101225e-8, -6.2105274172689885e-9, -9.774123921241606e-9, -3.014555268715335e-8, -1.6988490588407044e-8, 4.559419805430562e-8, -8.575830861353269e-9, -1.5349884816244912e-8, 1.5928308119792946e-9, -2.3840748715059626e-8, -4.820894727529688e-9, 3.3898410904787275e-8, -1.9157570523304145e-8, -4.072099853782846e-8, -1.5366538706358165e-8, -1.9356725997020083e-8, 5.57460691737805e-9, 5.0602762892779e-9, 1.0286135952406907e-8] fitness: 2.8990307911735944e-28\n",
      "fitness: 3.6201419413927107e9\n",
      "best solution: [1.0848521471441412e-9, 4.757184939579783e-9, -4.03155037069414e-9, -9.676160206595352e-10, 2.786992112900155e-9, 9.687443949566307e-10, -5.29756548527503e-9, -1.0826742914819642e-9, -1.2602650626463288e-9, 2.5486454740225104e-9, -3.5508875326160275e-10, 1.0519017096097908e-9, 1.1217465253713891e-9, -2.5518608839757953e-9, -2.5906680018784274e-9, 1.7997872499445245e-9, -2.4129794224186864e-10, 1.2243473443317351e-9, -6.575035319461952e-10, 1.1086177917597061e-9, -3.535884644449273e-9, -2.4571179095493324e-9, -2.3286197738410775e-9, -7.083911521721481e-10, -1.147222632777304e-10, -1.801758680406514e-10, -2.8019462562725634e-9, 1.5401912410572356e-9, -9.541617400844564e-10, 1.0865021691975797e-9] fitness: 2.132170534779947e-32\n",
      "fitness: 5.173525822396917e9\n",
      "best solution: [-1.083764966095867e-8, 2.8179021478160614e-9, 7.853651699220687e-9, -6.374260986785399e-9, 1.3913235648589295e-9, 2.944824719956385e-10, -2.6674893484825443e-9, -4.658689887844862e-9, 7.716827117114491e-9, 1.1904992397933818e-9, 2.1985944854063696e-8, 3.9042654588549e-9, 3.851220481148006e-9, 4.210428835689012e-9, 6.805115350315902e-9, -8.667044992555615e-9, 1.1615575693555125e-8, -1.0917639502188066e-8, 7.42926100842683e-10, -1.1590623180802205e-8, 3.0374791551663053e-9, 4.663706331640482e-9, 1.753554295046672e-8, 6.259857250261804e-10, -1.998161985083923e-8, 3.9837252514954015e-9, 1.3447300424445264e-8, -1.3476862968309946e-8, -2.0034851664109237e-8, -6.924301874833756e-9] fitness: 8.566936573126745e-30\n",
      "fitness: 2.876076145074832e9\n",
      "best solution: [2.1890495966705453e-8, -1.519692558070649e-8, 1.2687155189037395e-8, -6.173322299526524e-9, -3.828976093215064e-9, 2.94498151159712e-8, 1.2953268582825363e-8, 5.5290549820298675e-8, -8.85491255268669e-9, -6.1826557740044945e-9, -4.7396562552877586e-8, -1.7034040096130307e-8, 2.710913136809438e-8, -3.552541083347292e-8, 2.0446237049203975e-8, 4.658902976064444e-8, 3.139035460374121e-8, -2.1926549861990282e-8, -1.4212465038751773e-8, 3.65996062054257e-8, 1.4535369338249154e-8, -1.6359900049633438e-8, -1.2381640637998963e-8, -6.067984017439263e-9, 4.475151574970028e-9, 3.9920630308986216e-8, -1.0912235479518232e-9, 1.3855867016272364e-8, -3.259715090036948e-8, 1.127842454400092e-8] fitness: 3.582733887425873e-28\n",
      "fitness: 4.53123775565847e9\n",
      "best solution: [2.618081621916607e-9, 4.299802409566981e-10, -1.3891149498407184e-12, -7.993994810401777e-10, 2.331532843080524e-9, -3.463578187186892e-9, -4.600935646410732e-9, 9.915674341754775e-10, -2.7246988391056185e-9, 1.1062279384744704e-9, -1.1450567530721988e-9, -1.0799144766200328e-9, -6.913527003416096e-11, -4.4391699392614375e-9, 1.1905938898079703e-10, -3.7044218177101893e-9, -1.2046686283797373e-9, -3.312445302080399e-9, 1.0215066066416547e-9, 5.719213255947642e-10, -7.637366370593332e-12, 8.43800758784755e-10, 2.9132473645345283e-9, 1.530384581479762e-11, -4.046431890499277e-9, 4.273257136262781e-9, 1.781652728651677e-9, 8.082509007134598e-10, 3.713983464833527e-9, 1.6578913956323044e-9] fitness: 2.884327946288906e-32\n",
      "fitness: 6.171014523098565e9\n",
      "best solution: [4.0345838008419846e-9, -4.127351656103215e-9, -6.625119028251395e-9, 6.959124087835663e-9, 4.51778317793653e-9, -5.434016894014276e-9, -6.045093959851352e-9, 6.217085490185596e-9, 4.2816575776672186e-10, 3.2620389889802913e-9, 5.671172627394534e-9, 2.9034071598424363e-9, -7.662145407183641e-9, -1.6370303295507757e-9, -8.22933802342334e-9, -3.6355108330803587e-9, 3.265366287263651e-9, -5.699328253213462e-9, -6.5797559187434e-10, -8.875967125144677e-9, -8.416270314270936e-9, 2.963970417083988e-9, -1.1367608971686942e-8, -3.9351595140883315e-9, 2.9989679898214266e-9, -1.9881353134482959e-10, -1.483448757529255e-9, 3.282868827103562e-9, -1.5903331684899356e-9, 2.050258549645904e-9] fitness: 6.723073990928316e-31\n",
      "fitness: 4.2337472012124195e9\n",
      "best solution: [4.113441078202772e-10, 2.8351521308246873e-9, -7.707187485920143e-9, 3.1286660053686657e-9, 5.2276833761659956e-9, -5.233409800826815e-9, -5.691027860951494e-9, 1.6068022424416394e-9, -2.7772647326510433e-9, 1.1792573559356614e-10, -1.1256125404205431e-8, -5.95708589753085e-9, 1.1310613197147388e-9, 6.717423763576889e-10, -3.202794408432744e-9, 4.292089265110051e-9, -8.462904985465629e-10, 2.951037538134848e-9, -8.727804007437961e-10, -1.9517277754849276e-9, -1.0207805801884135e-9, -5.268770527244058e-11, -5.548179768065648e-9, 4.947290232292079e-9, 3.4706282903783947e-9, -2.8692311815473827e-9, -1.62064722561357e-10, -1.9111111798611576e-9, 2.9295994677406825e-9, 6.243431198901748e-9] fitness: 2.5931127462884975e-31\n",
      "fitness: 5.106428194320328e9\n",
      "best solution: [2.106075686221159e-9, -2.2290131427085945e-9, 2.8516194143161423e-8, 7.0358700202018475e-9, -3.327375705498261e-9, -1.4706212337142646e-8, -1.1595193562434742e-8, -6.79200323539576e-9, 1.1822318476992278e-8, 1.2050521718848192e-9, -1.7661080864908854e-9, -2.200920645173654e-9, -2.663925471150647e-9, -8.427002904194055e-9, -6.096899183010117e-9, 1.4219253105762176e-8, -1.5174185334013164e-9, 4.206764017806985e-9, -4.120725644008046e-9, 2.7029562974876375e-8, -2.261839936175048e-8, -4.0109800141342954e-9, -1.357322616010231e-8, 5.480870131583145e-9, 1.2887694878782738e-9, 1.7491619129336567e-8, -6.4376523646905e-9, -2.303388411400426e-8, 1.4205230856702958e-9, -1.1460445145431425e-8] fitness: 1.8225791359702119e-29\n",
      "fitness: 4.897683257226221e9\n",
      "best solution: [-2.032647827775825e-9, 5.315214626198577e-9, 4.985482370846732e-10, -6.333346798887457e-9, -4.640601198759736e-9, -2.9312498018246534e-9, -8.47476199968221e-9, -7.825502156803033e-10, 5.637981711927123e-9, 3.531893292512916e-9, 1.6691077400388815e-10, -2.27654010668334e-9, 4.4286626916545784e-9, 2.5013080873771785e-9, -1.6594945327413588e-9, 5.387372161446219e-9, 1.2836475499263307e-9, 4.845497297859122e-9, 2.192931717965616e-9, 6.766425886176527e-10, 3.935477679593247e-9, 8.365980965171176e-9, 8.362613103248136e-10, 8.520085726562203e-10, -2.7234372742634707e-9, 2.3830834927063824e-9, -2.071891104963275e-9, -1.7755870200492595e-9, 2.274935784131032e-9, -2.6535641935897243e-9] fitness: 1.8703714570311188e-31\n",
      "fitness: 4.893972110889537e9\n"
     ]
    },
    {
     "name": "stdout",
     "output_type": "stream",
     "text": [
      "best solution: [1.3619726090612803e-9, 8.207517283328182e-10, 1.6442063410633186e-9, -1.0890148466519774e-9, 5.0701952677337186e-11, -2.757405450125662e-9, 2.495520063848075e-9, -1.7171338600936684e-10, 3.6746738980653657e-9, 4.367651176329928e-9, 2.1330069541353548e-9, -1.3824610030601345e-9, 3.0464949691531167e-9, -5.597674626653048e-9, -5.669471092433766e-10, -1.5918929292286504e-9, -4.460242999708958e-9, -6.0197743261944e-10, 1.869466956315626e-9, 1.1272200329109953e-9, 2.321871816624708e-9, 1.7550753227043532e-10, -9.273101919303835e-10, -1.0826839986759989e-9, 2.2326070909897955e-9, -3.031033418295893e-10, -3.705542051459975e-11, -1.0396654762576677e-9, 2.7340261955569176e-9, 3.7157081443520302e-9] fitness: 2.647384295945608e-32\n",
      "fitness: 5.297592303841143e9\n",
      "best solution: [2.0169825220369722e-9, -4.791207102169533e-9, 7.62980284106944e-9, -5.599662806919718e-9, -1.8167800715720234e-9, -4.9187978515078875e-9, 2.7612574804631827e-9, -7.24180268674317e-9, 4.299065144443994e-9, -1.1987600059863411e-9, 6.038245516323193e-9, 6.503455548393063e-9, -6.033709028626823e-9, 1.7543193973765888e-9, -2.654648793196174e-9, -7.008288425617163e-10, -9.092308660815305e-9, 6.63653534871969e-9, -5.296381829428098e-10, -5.6938362044637084e-9, 4.467170921632418e-9, -4.286592028714047e-9, -4.592950455451466e-9, 4.729733956531658e-9, 1.8832938568204747e-9, 7.962187276362962e-9, -2.1503260725964e-9, -1.62549370201044e-9, -2.120812352033933e-9, -7.073170814001095e-9] fitness: 5.181126397103936e-31\n",
      "fitness: 5.550064281418222e9\n",
      "best solution: [1.1753616199160587e-9, 4.800294528351135e-9, -2.5682546838708403e-9, 3.835482129413649e-10, -2.2265115428524126e-9, 1.0649187814283044e-11, 5.285514095177273e-9, 6.109501097956347e-9, -1.4015396502112334e-9, 3.6496948704412963e-9, 2.815471277132741e-9, -5.21742255080018e-9, 8.22344977377345e-10, 5.297967486858034e-9, 3.4645459330176676e-9, 2.604171676103046e-9, -7.91403694678975e-10, 2.622149542705055e-9, -1.021381528045046e-9, -1.053094104812303e-8, -5.292186239898372e-9, -1.8095587309727814e-9, 1.4718008170446538e-9, 1.914096172511383e-9, 2.5614236333828327e-9, 1.2279623444597349e-8, -9.574345933765347e-9, -3.4434335029042777e-9, -1.4208340512328012e-9, 4.748988185771101e-9] fitness: 4.1133572135975924e-31\n",
      "fitness: 3.2846445344650955e9\n",
      "best solution: [-2.1346338936886712e-10, 9.172691551895596e-11, 4.028886245830142e-11, -1.166022364699273e-10, -7.491149105216568e-11, -2.0705159041528378e-10, -1.0319413666896026e-10, 1.9936285772048267e-11, -1.2486023602197385e-10, 8.490229614815025e-11, -1.3281091140525657e-11, 2.2249221426904566e-10, 2.258797204200989e-10, -3.267662799631262e-11, -9.12384098597232e-11, 9.064206961758109e-11, -1.020375277970301e-10, -9.624535852978484e-11, 1.8655836960333508e-11, 1.379086833898567e-10, -1.1220428499945495e-11, -3.092653271486598e-11, -1.8535722003890279e-10, 4.225707698274292e-11, -9.279590069391949e-12, -1.1387803393830016e-10, -2.0418816313680266e-11, -2.2594380956686993e-11, -3.605293413605645e-11, -7.451490680492836e-12] fitness: 1.3063877292025683e-37\n",
      "fitness: 4.029853468360719e9\n",
      "best solution: [-6.810790127357622e-9, 2.572945803436991e-9, 7.531604750321316e-9, 2.49878231399465e-9, 9.175373241553877e-9, 9.778225177633804e-10, -8.926639508673404e-9, 1.5339134826471743e-9, 1.002289380412189e-9, -1.0040806025622316e-8, -1.0380939818251561e-8, 7.890180845319503e-9, -4.573327508721058e-9, -4.186517301198253e-9, 2.1637186391463903e-10, -1.0351976551887635e-8, -2.9995310289679157e-9, 3.5155933454888168e-9, 6.401815654939921e-9, 4.905071643457709e-9, 1.3370019232819932e-8, -6.367617744465474e-9, 5.027497281929242e-9, 3.4595197931477806e-9, -4.7272919531765435e-9, -5.3606202263186385e-9, -7.676163186045398e-9, 4.2436358877955386e-9, -1.1658631796622978e-8, -5.621312043418908e-9] fitness: 1.7932875086085236e-30\n",
      "fitness: 4.694609598344471e9\n",
      "best solution: [-6.154485267695171e-9, -1.7031176501543803e-9, 8.29672429169846e-10, 2.4872219648083542e-9, -8.25013128197828e-9, -8.582323901680136e-10, -5.563479915855111e-9, 3.829898121253172e-9, -3.562162593878676e-9, -4.025888290547625e-9, 1.3024318717750153e-8, -1.3357882259882458e-8, -5.386441704903519e-9, 8.25351144692071e-9, 4.765317211145708e-9, 1.0648189443000473e-8, -1.3177437771484659e-8, -7.883163606047651e-9, 7.2560732198438105e-9, 1.016623476302864e-9, -2.123713314569919e-8, 2.4400792033568473e-9, 3.2850125974064587e-9, 8.525184928767768e-9, -8.922599866888592e-9, -6.745955824510715e-9, -1.0214921898390446e-8, -1.2998379052896925e-8, -6.953613160755531e-9, 2.822454435120938e-9] fitness: 4.2309157181969416e-30\n",
      "fitness: 4.1203140838231544e9\n",
      "best solution: [-1.0291502364014433e-8, 1.588938361674211e-8, -1.5504026287885852e-8, -2.5651004436268476e-8, 1.0974199030714773e-8, -5.45588230411414e-9, 1.0169913960967607e-8, -1.3435346344463585e-8, -1.2418407483930129e-8, -2.369294251758356e-11, 3.482602068921809e-8, -4.428412373984595e-9, 2.7045081046469482e-8, -1.1250586705409275e-8, 3.820783122650333e-9, -3.03476039882083e-8, -3.65356975634464e-8, -8.878175043198331e-9, -7.977243631047545e-9, 3.9804657522169704e-8, 2.3784394718040635e-8, 1.1899427618563068e-8, 2.6411552999385506e-9, -9.119933072207206e-9, 1.0965137445642986e-8, 1.0282840308807716e-9, -1.1354537989459737e-8, -1.7767531299020177e-8, 3.362968857581204e-8, 2.910303472122191e-8] fitness: 1.2710653123254293e-28\n",
      "fitness: 5.281970111830667e9\n",
      "best solution: [-7.095113697397074e-9, 1.0347166338481936e-8, -8.531368590949655e-9, -3.6662006669856144e-9, 1.812502094820419e-8, 2.955188506771151e-9, -5.409034247411731e-9, -2.3906558049809723e-9, -1.5133572836839515e-9, -6.658923479745977e-9, 2.5249666222733476e-9, 5.026820395982263e-9, -1.0349449456291685e-8, 9.259647319528144e-9, 2.6288238967963374e-9, 5.819436910094886e-9, 4.136013998031374e-9, 8.97572956116449e-9, -2.9597804242204394e-9, -3.986766792337225e-9, -4.305566288422671e-9, -1.3391379069807822e-8, -2.0276134396220854e-9, -2.092284690865217e-9, 1.1261122477399656e-8, -4.1616929770668676e-9, 4.074517274315393e-9, 8.678219500316746e-9, 7.276188410727006e-9, 4.711065395901898e-10] fitness: 2.3890282433969103e-30\n",
      "fitness: 5.916415678199416e9\n",
      "best solution: [-2.1073859931206488e-8, 3.8400848853154394e-8, -1.145109544119615e-8, -4.4219301175873025e-8, 3.963727129248894e-8, -3.767662027088584e-8, 5.495923144336857e-8, 1.0692800289026128e-8, 3.221988366744988e-8, 4.8895537900335345e-8, -4.1003094217521294e-8, -3.946431658196078e-8, -5.1780088404740797e-8, 3.782015323940406e-8, -2.6372859637541882e-8, 5.170924863365369e-8, 2.000677544466596e-8, 1.4852523205649011e-8, 6.628079736631208e-8, -5.6534047422722275e-8, -4.303494858235239e-8, -3.194623253111886e-8, -1.7364714150784152e-9, 1.5587465333968907e-8, -7.706380047152863e-8, -3.970717848099873e-8, -2.3906263425396705e-8, 1.5496431368618075e-8, -1.4637128889541623e-8, 6.216683946871357e-8] fitness: 2.3053404522585793e-27\n",
      "****Statistical Analysis****\n",
      "Mean solution: 1.1359590531501684e-28\n",
      "Mean solution: 4.232819887616023e-28\n",
      "****Convergennce Graph****\n",
      "[0, 1, 2, 3, 4, 5, 6, 7, 8, 9, 10, 11, 12, 13, 14, 15, 16, 17, 18, 19, 20]\n",
      "[4.62369720130026e9, 9.006735402339572e6, 141361.84633065748, 12319.341536842314, 147.83872409160162, 0.5627564256918376, 0.06095179962200295, 0.0011301979409300525, 1.927943832830415e-5, 1.4303283372445758e-6, 1.83671294098315e-8, 8.345666284169603e-11, 1.4763126606544057e-12, 8.050693200689011e-14, 8.082426165483987e-16, 1.6923575980569057e-18, 2.241300035405211e-20, 9.073995968530661e-23, 3.6755775516133556e-24, 3.149665932625289e-26, 1.1359590531501684e-28]\n"
     ]
    },
    {
     "data": {
      "image/svg+xml": [
       "<?xml version=\"1.0\" encoding=\"utf-8\"?>\n",
       "<svg xmlns=\"http://www.w3.org/2000/svg\" xmlns:xlink=\"http://www.w3.org/1999/xlink\" width=\"600\" height=\"400\" viewBox=\"0 0 2400 1600\">\n",
       "<defs>\n",
       "  <clipPath id=\"clip680\">\n",
       "    <rect x=\"0\" y=\"0\" width=\"2400\" height=\"1600\"/>\n",
       "  </clipPath>\n",
       "</defs>\n",
       "<path clip-path=\"url(#clip680)\" d=\"M0 1600 L2400 1600 L2400 0 L0 0  Z\" fill=\"#ffffff\" fill-rule=\"evenodd\" fill-opacity=\"1\"/>\n",
       "<defs>\n",
       "  <clipPath id=\"clip681\">\n",
       "    <rect x=\"480\" y=\"0\" width=\"1681\" height=\"1600\"/>\n",
       "  </clipPath>\n",
       "</defs>\n",
       "<path clip-path=\"url(#clip680)\" d=\"M276.34 1486.45 L2352.76 1486.45 L2352.76 123.472 L276.34 123.472  Z\" fill=\"#ffffff\" fill-rule=\"evenodd\" fill-opacity=\"1\"/>\n",
       "<defs>\n",
       "  <clipPath id=\"clip682\">\n",
       "    <rect x=\"276\" y=\"123\" width=\"2077\" height=\"1364\"/>\n",
       "  </clipPath>\n",
       "</defs>\n",
       "<polyline clip-path=\"url(#clip682)\" style=\"stroke:#000000; stroke-linecap:round; stroke-linejoin:round; stroke-width:2; stroke-opacity:0.1; fill:none\" points=\"335.107,1486.45 335.107,123.472 \"/>\n",
       "<polyline clip-path=\"url(#clip682)\" style=\"stroke:#000000; stroke-linecap:round; stroke-linejoin:round; stroke-width:2; stroke-opacity:0.1; fill:none\" points=\"824.827,1486.45 824.827,123.472 \"/>\n",
       "<polyline clip-path=\"url(#clip682)\" style=\"stroke:#000000; stroke-linecap:round; stroke-linejoin:round; stroke-width:2; stroke-opacity:0.1; fill:none\" points=\"1314.55,1486.45 1314.55,123.472 \"/>\n",
       "<polyline clip-path=\"url(#clip682)\" style=\"stroke:#000000; stroke-linecap:round; stroke-linejoin:round; stroke-width:2; stroke-opacity:0.1; fill:none\" points=\"1804.27,1486.45 1804.27,123.472 \"/>\n",
       "<polyline clip-path=\"url(#clip682)\" style=\"stroke:#000000; stroke-linecap:round; stroke-linejoin:round; stroke-width:2; stroke-opacity:0.1; fill:none\" points=\"2293.99,1486.45 2293.99,123.472 \"/>\n",
       "<polyline clip-path=\"url(#clip680)\" style=\"stroke:#000000; stroke-linecap:round; stroke-linejoin:round; stroke-width:4; stroke-opacity:1; fill:none\" points=\"276.34,1486.45 2352.76,1486.45 \"/>\n",
       "<polyline clip-path=\"url(#clip680)\" style=\"stroke:#000000; stroke-linecap:round; stroke-linejoin:round; stroke-width:4; stroke-opacity:1; fill:none\" points=\"335.107,1486.45 335.107,1467.55 \"/>\n",
       "<polyline clip-path=\"url(#clip680)\" style=\"stroke:#000000; stroke-linecap:round; stroke-linejoin:round; stroke-width:4; stroke-opacity:1; fill:none\" points=\"824.827,1486.45 824.827,1467.55 \"/>\n",
       "<polyline clip-path=\"url(#clip680)\" style=\"stroke:#000000; stroke-linecap:round; stroke-linejoin:round; stroke-width:4; stroke-opacity:1; fill:none\" points=\"1314.55,1486.45 1314.55,1467.55 \"/>\n",
       "<polyline clip-path=\"url(#clip680)\" style=\"stroke:#000000; stroke-linecap:round; stroke-linejoin:round; stroke-width:4; stroke-opacity:1; fill:none\" points=\"1804.27,1486.45 1804.27,1467.55 \"/>\n",
       "<polyline clip-path=\"url(#clip680)\" style=\"stroke:#000000; stroke-linecap:round; stroke-linejoin:round; stroke-width:4; stroke-opacity:1; fill:none\" points=\"2293.99,1486.45 2293.99,1467.55 \"/>\n",
       "<path clip-path=\"url(#clip680)\" d=\"M335.107 1517.37 Q331.495 1517.37 329.667 1520.93 Q327.861 1524.47 327.861 1531.6 Q327.861 1538.71 329.667 1542.27 Q331.495 1545.82 335.107 1545.82 Q338.741 1545.82 340.546 1542.27 Q342.375 1538.71 342.375 1531.6 Q342.375 1524.47 340.546 1520.93 Q338.741 1517.37 335.107 1517.37 M335.107 1513.66 Q340.917 1513.66 343.972 1518.27 Q347.051 1522.85 347.051 1531.6 Q347.051 1540.33 343.972 1544.94 Q340.917 1549.52 335.107 1549.52 Q329.296 1549.52 326.218 1544.94 Q323.162 1540.33 323.162 1531.6 Q323.162 1522.85 326.218 1518.27 Q329.296 1513.66 335.107 1513.66 Z\" fill=\"#000000\" fill-rule=\"evenodd\" fill-opacity=\"1\" /><path clip-path=\"url(#clip680)\" d=\"M815.105 1514.29 L833.461 1514.29 L833.461 1518.22 L819.387 1518.22 L819.387 1526.7 Q820.406 1526.35 821.425 1526.19 Q822.443 1526 823.462 1526 Q829.249 1526 832.628 1529.17 Q836.008 1532.34 836.008 1537.76 Q836.008 1543.34 832.536 1546.44 Q829.063 1549.52 822.744 1549.52 Q820.568 1549.52 818.3 1549.15 Q816.054 1548.78 813.647 1548.04 L813.647 1543.34 Q815.73 1544.47 817.952 1545.03 Q820.175 1545.58 822.651 1545.58 Q826.656 1545.58 828.994 1543.48 Q831.332 1541.37 831.332 1537.76 Q831.332 1534.15 828.994 1532.04 Q826.656 1529.94 822.651 1529.94 Q820.776 1529.94 818.901 1530.35 Q817.05 1530.77 815.105 1531.65 L815.105 1514.29 Z\" fill=\"#000000\" fill-rule=\"evenodd\" fill-opacity=\"1\" /><path clip-path=\"url(#clip680)\" d=\"M1289.24 1544.91 L1296.87 1544.91 L1296.87 1518.55 L1288.56 1520.21 L1288.56 1515.95 L1296.83 1514.29 L1301.5 1514.29 L1301.5 1544.91 L1309.14 1544.91 L1309.14 1548.85 L1289.24 1548.85 L1289.24 1544.91 Z\" fill=\"#000000\" fill-rule=\"evenodd\" fill-opacity=\"1\" /><path clip-path=\"url(#clip680)\" d=\"M1328.59 1517.37 Q1324.98 1517.37 1323.15 1520.93 Q1321.34 1524.47 1321.34 1531.6 Q1321.34 1538.71 1323.15 1542.27 Q1324.98 1545.82 1328.59 1545.82 Q1332.22 1545.82 1334.03 1542.27 Q1335.86 1538.71 1335.86 1531.6 Q1335.86 1524.47 1334.03 1520.93 Q1332.22 1517.37 1328.59 1517.37 M1328.59 1513.66 Q1334.4 1513.66 1337.45 1518.27 Q1340.53 1522.85 1340.53 1531.6 Q1340.53 1540.33 1337.45 1544.94 Q1334.4 1549.52 1328.59 1549.52 Q1322.78 1549.52 1319.7 1544.94 Q1316.64 1540.33 1316.64 1531.6 Q1316.64 1522.85 1319.7 1518.27 Q1322.78 1513.66 1328.59 1513.66 Z\" fill=\"#000000\" fill-rule=\"evenodd\" fill-opacity=\"1\" /><path clip-path=\"url(#clip680)\" d=\"M1779.45 1544.91 L1787.09 1544.91 L1787.09 1518.55 L1778.78 1520.21 L1778.78 1515.95 L1787.05 1514.29 L1791.72 1514.29 L1791.72 1544.91 L1799.36 1544.91 L1799.36 1548.85 L1779.45 1548.85 L1779.45 1544.91 Z\" fill=\"#000000\" fill-rule=\"evenodd\" fill-opacity=\"1\" /><path clip-path=\"url(#clip680)\" d=\"M1808.85 1514.29 L1827.21 1514.29 L1827.21 1518.22 L1813.13 1518.22 L1813.13 1526.7 Q1814.15 1526.35 1815.17 1526.19 Q1816.19 1526 1817.21 1526 Q1823 1526 1826.38 1529.17 Q1829.75 1532.34 1829.75 1537.76 Q1829.75 1543.34 1826.28 1546.44 Q1822.81 1549.52 1816.49 1549.52 Q1814.31 1549.52 1812.05 1549.15 Q1809.8 1548.78 1807.39 1548.04 L1807.39 1543.34 Q1809.48 1544.47 1811.7 1545.03 Q1813.92 1545.58 1816.4 1545.58 Q1820.4 1545.58 1822.74 1543.48 Q1825.08 1541.37 1825.08 1537.76 Q1825.08 1534.15 1822.74 1532.04 Q1820.4 1529.94 1816.4 1529.94 Q1814.52 1529.94 1812.65 1530.35 Q1810.8 1530.77 1808.85 1531.65 L1808.85 1514.29 Z\" fill=\"#000000\" fill-rule=\"evenodd\" fill-opacity=\"1\" /><path clip-path=\"url(#clip680)\" d=\"M2272.76 1544.91 L2289.08 1544.91 L2289.08 1548.85 L2267.14 1548.85 L2267.14 1544.91 Q2269.8 1542.16 2274.38 1537.53 Q2278.99 1532.88 2280.17 1531.53 Q2282.42 1529.01 2283.3 1527.27 Q2284.2 1525.51 2284.2 1523.82 Q2284.2 1521.07 2282.25 1519.33 Q2280.33 1517.6 2277.23 1517.6 Q2275.03 1517.6 2272.58 1518.36 Q2270.15 1519.13 2267.37 1520.68 L2267.37 1515.95 Q2270.19 1514.82 2272.65 1514.24 Q2275.1 1513.66 2277.14 1513.66 Q2282.51 1513.66 2285.7 1516.35 Q2288.9 1519.03 2288.9 1523.52 Q2288.9 1525.65 2288.09 1527.57 Q2287.3 1529.47 2285.19 1532.07 Q2284.61 1532.74 2281.51 1535.95 Q2278.41 1539.15 2272.76 1544.91 Z\" fill=\"#000000\" fill-rule=\"evenodd\" fill-opacity=\"1\" /><path clip-path=\"url(#clip680)\" d=\"M2308.9 1517.37 Q2305.29 1517.37 2303.46 1520.93 Q2301.65 1524.47 2301.65 1531.6 Q2301.65 1538.71 2303.46 1542.27 Q2305.29 1545.82 2308.9 1545.82 Q2312.53 1545.82 2314.34 1542.27 Q2316.17 1538.71 2316.17 1531.6 Q2316.17 1524.47 2314.34 1520.93 Q2312.53 1517.37 2308.9 1517.37 M2308.9 1513.66 Q2314.71 1513.66 2317.76 1518.27 Q2320.84 1522.85 2320.84 1531.6 Q2320.84 1540.33 2317.76 1544.94 Q2314.71 1549.52 2308.9 1549.52 Q2303.09 1549.52 2300.01 1544.94 Q2296.95 1540.33 2296.95 1531.6 Q2296.95 1522.85 2300.01 1518.27 Q2303.09 1513.66 2308.9 1513.66 Z\" fill=\"#000000\" fill-rule=\"evenodd\" fill-opacity=\"1\" /><polyline clip-path=\"url(#clip682)\" style=\"stroke:#000000; stroke-linecap:round; stroke-linejoin:round; stroke-width:2; stroke-opacity:0.1; fill:none\" points=\"276.34,1447.87 2352.76,1447.87 \"/>\n",
       "<polyline clip-path=\"url(#clip682)\" style=\"stroke:#000000; stroke-linecap:round; stroke-linejoin:round; stroke-width:2; stroke-opacity:0.1; fill:none\" points=\"276.34,1169.78 2352.76,1169.78 \"/>\n",
       "<polyline clip-path=\"url(#clip682)\" style=\"stroke:#000000; stroke-linecap:round; stroke-linejoin:round; stroke-width:2; stroke-opacity:0.1; fill:none\" points=\"276.34,891.683 2352.76,891.683 \"/>\n",
       "<polyline clip-path=\"url(#clip682)\" style=\"stroke:#000000; stroke-linecap:round; stroke-linejoin:round; stroke-width:2; stroke-opacity:0.1; fill:none\" points=\"276.34,613.589 2352.76,613.589 \"/>\n",
       "<polyline clip-path=\"url(#clip682)\" style=\"stroke:#000000; stroke-linecap:round; stroke-linejoin:round; stroke-width:2; stroke-opacity:0.1; fill:none\" points=\"276.34,335.494 2352.76,335.494 \"/>\n",
       "<polyline clip-path=\"url(#clip680)\" style=\"stroke:#000000; stroke-linecap:round; stroke-linejoin:round; stroke-width:4; stroke-opacity:1; fill:none\" points=\"276.34,1486.45 276.34,123.472 \"/>\n",
       "<polyline clip-path=\"url(#clip680)\" style=\"stroke:#000000; stroke-linecap:round; stroke-linejoin:round; stroke-width:4; stroke-opacity:1; fill:none\" points=\"276.34,1447.87 295.238,1447.87 \"/>\n",
       "<polyline clip-path=\"url(#clip680)\" style=\"stroke:#000000; stroke-linecap:round; stroke-linejoin:round; stroke-width:4; stroke-opacity:1; fill:none\" points=\"276.34,1169.78 295.238,1169.78 \"/>\n",
       "<polyline clip-path=\"url(#clip680)\" style=\"stroke:#000000; stroke-linecap:round; stroke-linejoin:round; stroke-width:4; stroke-opacity:1; fill:none\" points=\"276.34,891.683 295.238,891.683 \"/>\n",
       "<polyline clip-path=\"url(#clip680)\" style=\"stroke:#000000; stroke-linecap:round; stroke-linejoin:round; stroke-width:4; stroke-opacity:1; fill:none\" points=\"276.34,613.589 295.238,613.589 \"/>\n",
       "<polyline clip-path=\"url(#clip680)\" style=\"stroke:#000000; stroke-linecap:round; stroke-linejoin:round; stroke-width:4; stroke-opacity:1; fill:none\" points=\"276.34,335.494 295.238,335.494 \"/>\n",
       "<path clip-path=\"url(#clip680)\" d=\"M228.396 1433.67 Q224.785 1433.67 222.956 1437.24 Q221.15 1440.78 221.15 1447.91 Q221.15 1455.01 222.956 1458.58 Q224.785 1462.12 228.396 1462.12 Q232.03 1462.12 233.835 1458.58 Q235.664 1455.01 235.664 1447.91 Q235.664 1440.78 233.835 1437.24 Q232.03 1433.67 228.396 1433.67 M228.396 1429.97 Q234.206 1429.97 237.261 1434.57 Q240.34 1439.16 240.34 1447.91 Q240.34 1456.63 237.261 1461.24 Q234.206 1465.82 228.396 1465.82 Q222.586 1465.82 219.507 1461.24 Q216.451 1456.63 216.451 1447.91 Q216.451 1439.16 219.507 1434.57 Q222.586 1429.97 228.396 1429.97 Z\" fill=\"#000000\" fill-rule=\"evenodd\" fill-opacity=\"1\" /><path clip-path=\"url(#clip680)\" d=\"M54.5569 1189.57 L62.1958 1189.57 L62.1958 1163.21 L53.8856 1164.87 L53.8856 1160.61 L62.1495 1158.95 L66.8254 1158.95 L66.8254 1189.57 L74.4642 1189.57 L74.4642 1193.51 L54.5569 1193.51 L54.5569 1189.57 Z\" fill=\"#000000\" fill-rule=\"evenodd\" fill-opacity=\"1\" /><path clip-path=\"url(#clip680)\" d=\"M83.9086 1187.63 L88.7928 1187.63 L88.7928 1193.51 L83.9086 1193.51 L83.9086 1187.63 Z\" fill=\"#000000\" fill-rule=\"evenodd\" fill-opacity=\"1\" /><path clip-path=\"url(#clip680)\" d=\"M108.978 1162.02 Q105.367 1162.02 103.538 1165.59 Q101.733 1169.13 101.733 1176.26 Q101.733 1183.37 103.538 1186.93 Q105.367 1190.47 108.978 1190.47 Q112.612 1190.47 114.418 1186.93 Q116.246 1183.37 116.246 1176.26 Q116.246 1169.13 114.418 1165.59 Q112.612 1162.02 108.978 1162.02 M108.978 1158.32 Q114.788 1158.32 117.844 1162.93 Q120.922 1167.51 120.922 1176.26 Q120.922 1184.99 117.844 1189.59 Q114.788 1194.18 108.978 1194.18 Q103.168 1194.18 100.089 1189.59 Q97.0335 1184.99 97.0335 1176.26 Q97.0335 1167.51 100.089 1162.93 Q103.168 1158.32 108.978 1158.32 Z\" fill=\"#000000\" fill-rule=\"evenodd\" fill-opacity=\"1\" /><path clip-path=\"url(#clip680)\" d=\"M157.311 1168.04 L146.732 1178.67 L157.311 1189.25 L154.556 1192.05 L143.931 1181.42 L133.306 1192.05 L130.575 1189.25 L141.131 1178.67 L130.575 1168.04 L133.306 1165.24 L143.931 1175.87 L154.556 1165.24 L157.311 1168.04 Z\" fill=\"#000000\" fill-rule=\"evenodd\" fill-opacity=\"1\" /><path clip-path=\"url(#clip680)\" d=\"M169.672 1189.57 L177.311 1189.57 L177.311 1163.21 L169.001 1164.87 L169.001 1160.61 L177.265 1158.95 L181.94 1158.95 L181.94 1189.57 L189.579 1189.57 L189.579 1193.51 L169.672 1193.51 L169.672 1189.57 Z\" fill=\"#000000\" fill-rule=\"evenodd\" fill-opacity=\"1\" /><path clip-path=\"url(#clip680)\" d=\"M209.024 1162.02 Q205.413 1162.02 203.584 1165.59 Q201.778 1169.13 201.778 1176.26 Q201.778 1183.37 203.584 1186.93 Q205.413 1190.47 209.024 1190.47 Q212.658 1190.47 214.463 1186.93 Q216.292 1183.37 216.292 1176.26 Q216.292 1169.13 214.463 1165.59 Q212.658 1162.02 209.024 1162.02 M209.024 1158.32 Q214.834 1158.32 217.889 1162.93 Q220.968 1167.51 220.968 1176.26 Q220.968 1184.99 217.889 1189.59 Q214.834 1194.18 209.024 1194.18 Q203.214 1194.18 200.135 1189.59 Q197.079 1184.99 197.079 1176.26 Q197.079 1167.51 200.135 1162.93 Q203.214 1158.32 209.024 1158.32 Z\" fill=\"#000000\" fill-rule=\"evenodd\" fill-opacity=\"1\" /><path clip-path=\"url(#clip680)\" d=\"M222.774 1165.51 L222.774 1162.05 Q224.203 1162.73 225.67 1163.09 Q227.137 1163.44 228.548 1163.44 Q232.309 1163.44 234.284 1160.92 Q236.278 1158.38 236.56 1153.23 Q235.469 1154.85 233.795 1155.71 Q232.121 1156.58 230.09 1156.58 Q225.877 1156.58 223.413 1154.04 Q220.968 1151.48 220.968 1147.06 Q220.968 1142.74 223.526 1140.12 Q226.084 1137.51 230.334 1137.51 Q235.206 1137.51 237.763 1141.25 Q240.34 1144.97 240.34 1152.08 Q240.34 1158.72 237.18 1162.69 Q234.039 1166.64 228.717 1166.64 Q227.287 1166.64 225.82 1166.36 Q224.353 1166.08 222.774 1165.51 M230.334 1153.61 Q232.892 1153.61 234.378 1151.86 Q235.883 1150.11 235.883 1147.06 Q235.883 1144.03 234.378 1142.28 Q232.892 1140.52 230.334 1140.52 Q227.776 1140.52 226.272 1142.28 Q224.786 1144.03 224.786 1147.06 Q224.786 1150.11 226.272 1151.86 Q227.776 1153.61 230.334 1153.61 Z\" fill=\"#000000\" fill-rule=\"evenodd\" fill-opacity=\"1\" /><path clip-path=\"url(#clip680)\" d=\"M57.7745 911.476 L74.0939 911.476 L74.0939 915.411 L52.1495 915.411 L52.1495 911.476 Q54.8115 908.721 59.3949 904.092 Q64.0013 899.439 65.1819 898.096 Q67.4272 895.573 68.3068 893.837 Q69.2096 892.078 69.2096 890.388 Q69.2096 887.633 67.2652 885.897 Q65.3439 884.161 62.2421 884.161 Q60.043 884.161 57.5893 884.925 Q55.1588 885.689 52.381 887.24 L52.381 882.518 Q55.2051 881.383 57.6588 880.805 Q60.1124 880.226 62.1495 880.226 Q67.5198 880.226 70.7142 882.911 Q73.9087 885.596 73.9087 890.087 Q73.9087 892.217 73.0985 894.138 Q72.3115 896.036 70.205 898.629 Q69.6263 899.3 66.5245 902.518 Q63.4226 905.712 57.7745 911.476 Z\" fill=\"#000000\" fill-rule=\"evenodd\" fill-opacity=\"1\" /><path clip-path=\"url(#clip680)\" d=\"M83.9086 909.531 L88.7928 909.531 L88.7928 915.411 L83.9086 915.411 L83.9086 909.531 Z\" fill=\"#000000\" fill-rule=\"evenodd\" fill-opacity=\"1\" /><path clip-path=\"url(#clip680)\" d=\"M108.978 883.93 Q105.367 883.93 103.538 887.495 Q101.733 891.036 101.733 898.166 Q101.733 905.272 103.538 908.837 Q105.367 912.379 108.978 912.379 Q112.612 912.379 114.418 908.837 Q116.246 905.272 116.246 898.166 Q116.246 891.036 114.418 887.495 Q112.612 883.93 108.978 883.93 M108.978 880.226 Q114.788 880.226 117.844 884.833 Q120.922 889.416 120.922 898.166 Q120.922 906.893 117.844 911.499 Q114.788 916.082 108.978 916.082 Q103.168 916.082 100.089 911.499 Q97.0335 906.893 97.0335 898.166 Q97.0335 889.416 100.089 884.833 Q103.168 880.226 108.978 880.226 Z\" fill=\"#000000\" fill-rule=\"evenodd\" fill-opacity=\"1\" /><path clip-path=\"url(#clip680)\" d=\"M157.311 889.948 L146.732 900.573 L157.311 911.152 L154.556 913.953 L143.931 903.328 L133.306 913.953 L130.575 911.152 L141.131 900.573 L130.575 889.948 L133.306 887.147 L143.931 897.772 L154.556 887.147 L157.311 889.948 Z\" fill=\"#000000\" fill-rule=\"evenodd\" fill-opacity=\"1\" /><path clip-path=\"url(#clip680)\" d=\"M169.672 911.476 L177.311 911.476 L177.311 885.11 L169.001 886.777 L169.001 882.518 L177.265 880.851 L181.94 880.851 L181.94 911.476 L189.579 911.476 L189.579 915.411 L169.672 915.411 L169.672 911.476 Z\" fill=\"#000000\" fill-rule=\"evenodd\" fill-opacity=\"1\" /><path clip-path=\"url(#clip680)\" d=\"M209.024 883.93 Q205.413 883.93 203.584 887.495 Q201.778 891.036 201.778 898.166 Q201.778 905.272 203.584 908.837 Q205.413 912.379 209.024 912.379 Q212.658 912.379 214.463 908.837 Q216.292 905.272 216.292 898.166 Q216.292 891.036 214.463 887.495 Q212.658 883.93 209.024 883.93 M209.024 880.226 Q214.834 880.226 217.889 884.833 Q220.968 889.416 220.968 898.166 Q220.968 906.893 217.889 911.499 Q214.834 916.082 209.024 916.082 Q203.214 916.082 200.135 911.499 Q197.079 906.893 197.079 898.166 Q197.079 889.416 200.135 884.833 Q203.214 880.226 209.024 880.226 Z\" fill=\"#000000\" fill-rule=\"evenodd\" fill-opacity=\"1\" /><path clip-path=\"url(#clip680)\" d=\"M222.774 887.418 L222.774 883.957 Q224.203 884.634 225.67 884.991 Q227.137 885.349 228.548 885.349 Q232.309 885.349 234.284 882.829 Q236.278 880.289 236.56 875.136 Q235.469 876.754 233.795 877.619 Q232.121 878.484 230.09 878.484 Q225.877 878.484 223.413 875.945 Q220.968 873.387 220.968 868.967 Q220.968 864.641 223.526 862.027 Q226.084 859.413 230.334 859.413 Q235.206 859.413 237.763 863.156 Q240.34 866.88 240.34 873.989 Q240.34 880.628 237.18 884.596 Q234.039 888.546 228.717 888.546 Q227.287 888.546 225.82 888.264 Q224.353 887.982 222.774 887.418 M230.334 875.512 Q232.892 875.512 234.378 873.763 Q235.883 872.014 235.883 868.967 Q235.883 865.939 234.378 864.19 Q232.892 862.422 230.334 862.422 Q227.776 862.422 226.272 864.19 Q224.786 865.939 224.786 868.967 Q224.786 872.014 226.272 873.763 Q227.776 875.512 230.334 875.512 Z\" fill=\"#000000\" fill-rule=\"evenodd\" fill-opacity=\"1\" /><path clip-path=\"url(#clip680)\" d=\"M67.9133 618.682 Q71.2698 619.4 73.1448 621.668 Q75.0429 623.937 75.0429 627.27 Q75.0429 632.386 71.5244 635.187 Q68.0059 637.988 61.5245 637.988 Q59.3486 637.988 57.0338 637.548 Q54.7421 637.131 52.2884 636.275 L52.2884 631.761 Q54.2328 632.895 56.5477 633.474 Q58.8625 634.052 61.3856 634.052 Q65.7837 634.052 68.0754 632.316 Q70.3902 630.58 70.3902 627.27 Q70.3902 624.214 68.2374 622.502 Q66.1078 620.765 62.2884 620.765 L58.2606 620.765 L58.2606 616.923 L62.4735 616.923 Q65.9226 616.923 67.7513 615.557 Q69.58 614.168 69.58 611.576 Q69.58 608.914 67.6819 607.502 Q65.8069 606.066 62.2884 606.066 Q60.3671 606.066 58.168 606.483 Q55.969 606.9 53.3301 607.779 L53.3301 603.613 Q55.9921 602.872 58.3069 602.502 Q60.6449 602.131 62.705 602.131 Q68.0291 602.131 71.1309 604.562 Q74.2327 606.969 74.2327 611.09 Q74.2327 613.96 72.5892 615.951 Q70.9457 617.918 67.9133 618.682 Z\" fill=\"#000000\" fill-rule=\"evenodd\" fill-opacity=\"1\" /><path clip-path=\"url(#clip680)\" d=\"M83.9086 631.437 L88.7928 631.437 L88.7928 637.316 L83.9086 637.316 L83.9086 631.437 Z\" fill=\"#000000\" fill-rule=\"evenodd\" fill-opacity=\"1\" /><path clip-path=\"url(#clip680)\" d=\"M108.978 605.835 Q105.367 605.835 103.538 609.4 Q101.733 612.941 101.733 620.071 Q101.733 627.177 103.538 630.742 Q105.367 634.284 108.978 634.284 Q112.612 634.284 114.418 630.742 Q116.246 627.177 116.246 620.071 Q116.246 612.941 114.418 609.4 Q112.612 605.835 108.978 605.835 M108.978 602.131 Q114.788 602.131 117.844 606.738 Q120.922 611.321 120.922 620.071 Q120.922 628.798 117.844 633.404 Q114.788 637.988 108.978 637.988 Q103.168 637.988 100.089 633.404 Q97.0335 628.798 97.0335 620.071 Q97.0335 611.321 100.089 606.738 Q103.168 602.131 108.978 602.131 Z\" fill=\"#000000\" fill-rule=\"evenodd\" fill-opacity=\"1\" /><path clip-path=\"url(#clip680)\" d=\"M157.311 611.853 L146.732 622.478 L157.311 633.057 L154.556 635.858 L143.931 625.233 L133.306 635.858 L130.575 633.057 L141.131 622.478 L130.575 611.853 L133.306 609.053 L143.931 619.677 L154.556 609.053 L157.311 611.853 Z\" fill=\"#000000\" fill-rule=\"evenodd\" fill-opacity=\"1\" /><path clip-path=\"url(#clip680)\" d=\"M169.672 633.381 L177.311 633.381 L177.311 607.016 L169.001 608.682 L169.001 604.423 L177.265 602.756 L181.94 602.756 L181.94 633.381 L189.579 633.381 L189.579 637.316 L169.672 637.316 L169.672 633.381 Z\" fill=\"#000000\" fill-rule=\"evenodd\" fill-opacity=\"1\" /><path clip-path=\"url(#clip680)\" d=\"M209.024 605.835 Q205.413 605.835 203.584 609.4 Q201.778 612.941 201.778 620.071 Q201.778 627.177 203.584 630.742 Q205.413 634.284 209.024 634.284 Q212.658 634.284 214.463 630.742 Q216.292 627.177 216.292 620.071 Q216.292 612.941 214.463 609.4 Q212.658 605.835 209.024 605.835 M209.024 602.131 Q214.834 602.131 217.889 606.738 Q220.968 611.321 220.968 620.071 Q220.968 628.798 217.889 633.404 Q214.834 637.988 209.024 637.988 Q203.214 637.988 200.135 633.404 Q197.079 628.798 197.079 620.071 Q197.079 611.321 200.135 606.738 Q203.214 602.131 209.024 602.131 Z\" fill=\"#000000\" fill-rule=\"evenodd\" fill-opacity=\"1\" /><path clip-path=\"url(#clip680)\" d=\"M222.774 609.323 L222.774 605.862 Q224.203 606.539 225.67 606.897 Q227.137 607.254 228.548 607.254 Q232.309 607.254 234.284 604.734 Q236.278 602.195 236.56 597.041 Q235.469 598.659 233.795 599.524 Q232.121 600.389 230.09 600.389 Q225.877 600.389 223.413 597.85 Q220.968 595.292 220.968 590.872 Q220.968 586.547 223.526 583.932 Q226.084 581.318 230.334 581.318 Q235.206 581.318 237.763 585.061 Q240.34 588.785 240.34 595.894 Q240.34 602.533 237.18 606.502 Q234.039 610.451 228.717 610.451 Q227.287 610.451 225.82 610.169 Q224.353 609.887 222.774 609.323 M230.334 597.418 Q232.892 597.418 234.378 595.668 Q235.883 593.919 235.883 590.872 Q235.883 587.844 234.378 586.095 Q232.892 584.327 230.334 584.327 Q227.776 584.327 226.272 586.095 Q224.786 587.844 224.786 590.872 Q224.786 593.919 226.272 595.668 Q227.776 597.418 230.334 597.418 Z\" fill=\"#000000\" fill-rule=\"evenodd\" fill-opacity=\"1\" /><path clip-path=\"url(#clip680)\" d=\"M66.5939 328.736 L54.7884 347.184 L66.5939 347.184 L66.5939 328.736 M65.367 324.661 L71.2466 324.661 L71.2466 347.184 L76.1772 347.184 L76.1772 351.073 L71.2466 351.073 L71.2466 359.221 L66.5939 359.221 L66.5939 351.073 L50.9921 351.073 L50.9921 346.559 L65.367 324.661 Z\" fill=\"#000000\" fill-rule=\"evenodd\" fill-opacity=\"1\" /><path clip-path=\"url(#clip680)\" d=\"M83.9086 353.342 L88.7928 353.342 L88.7928 359.221 L83.9086 359.221 L83.9086 353.342 Z\" fill=\"#000000\" fill-rule=\"evenodd\" fill-opacity=\"1\" /><path clip-path=\"url(#clip680)\" d=\"M108.978 327.74 Q105.367 327.74 103.538 331.305 Q101.733 334.847 101.733 341.976 Q101.733 349.083 103.538 352.647 Q105.367 356.189 108.978 356.189 Q112.612 356.189 114.418 352.647 Q116.246 349.083 116.246 341.976 Q116.246 334.847 114.418 331.305 Q112.612 327.74 108.978 327.74 M108.978 324.036 Q114.788 324.036 117.844 328.643 Q120.922 333.226 120.922 341.976 Q120.922 350.703 117.844 355.309 Q114.788 359.893 108.978 359.893 Q103.168 359.893 100.089 355.309 Q97.0335 350.703 97.0335 341.976 Q97.0335 333.226 100.089 328.643 Q103.168 324.036 108.978 324.036 Z\" fill=\"#000000\" fill-rule=\"evenodd\" fill-opacity=\"1\" /><path clip-path=\"url(#clip680)\" d=\"M157.311 333.759 L146.732 344.384 L157.311 354.962 L154.556 357.763 L143.931 347.138 L133.306 357.763 L130.575 354.962 L141.131 344.384 L130.575 333.759 L133.306 330.958 L143.931 341.583 L154.556 330.958 L157.311 333.759 Z\" fill=\"#000000\" fill-rule=\"evenodd\" fill-opacity=\"1\" /><path clip-path=\"url(#clip680)\" d=\"M169.672 355.286 L177.311 355.286 L177.311 328.921 L169.001 330.587 L169.001 326.328 L177.265 324.661 L181.94 324.661 L181.94 355.286 L189.579 355.286 L189.579 359.221 L169.672 359.221 L169.672 355.286 Z\" fill=\"#000000\" fill-rule=\"evenodd\" fill-opacity=\"1\" /><path clip-path=\"url(#clip680)\" d=\"M209.024 327.74 Q205.413 327.74 203.584 331.305 Q201.778 334.847 201.778 341.976 Q201.778 349.083 203.584 352.647 Q205.413 356.189 209.024 356.189 Q212.658 356.189 214.463 352.647 Q216.292 349.083 216.292 341.976 Q216.292 334.847 214.463 331.305 Q212.658 327.74 209.024 327.74 M209.024 324.036 Q214.834 324.036 217.889 328.643 Q220.968 333.226 220.968 341.976 Q220.968 350.703 217.889 355.309 Q214.834 359.893 209.024 359.893 Q203.214 359.893 200.135 355.309 Q197.079 350.703 197.079 341.976 Q197.079 333.226 200.135 328.643 Q203.214 324.036 209.024 324.036 Z\" fill=\"#000000\" fill-rule=\"evenodd\" fill-opacity=\"1\" /><path clip-path=\"url(#clip680)\" d=\"M222.774 331.228 L222.774 327.767 Q224.203 328.444 225.67 328.802 Q227.137 329.159 228.548 329.159 Q232.309 329.159 234.284 326.639 Q236.278 324.1 236.56 318.947 Q235.469 320.564 233.795 321.429 Q232.121 322.294 230.09 322.294 Q225.877 322.294 223.413 319.755 Q220.968 317.197 220.968 312.778 Q220.968 308.452 223.526 305.838 Q226.084 303.223 230.334 303.223 Q235.206 303.223 237.763 306.966 Q240.34 310.69 240.34 317.799 Q240.34 324.438 237.18 328.407 Q234.039 332.356 228.717 332.356 Q227.287 332.356 225.82 332.074 Q224.353 331.792 222.774 331.228 M230.334 319.323 Q232.892 319.323 234.378 317.574 Q235.883 315.824 235.883 312.778 Q235.883 309.75 234.378 308 Q232.892 306.232 230.334 306.232 Q227.776 306.232 226.272 308 Q224.786 309.75 224.786 312.778 Q224.786 315.824 226.272 317.574 Q227.776 319.323 230.334 319.323 Z\" fill=\"#000000\" fill-rule=\"evenodd\" fill-opacity=\"1\" /><path clip-path=\"url(#clip680)\" d=\"M1032.16 16.7545 L1032.16 25.383 Q1028.03 21.5346 1023.33 19.6307 Q1018.67 17.7268 1013.4 17.7268 Q1003.03 17.7268 997.524 24.0867 Q992.015 30.4061 992.015 42.3968 Q992.015 54.3469 997.524 60.7069 Q1003.03 67.0263 1013.4 67.0263 Q1018.67 67.0263 1023.33 65.1223 Q1028.03 63.2184 1032.16 59.3701 L1032.16 67.9175 Q1027.87 70.8341 1023.04 72.2924 Q1018.26 73.7508 1012.92 73.7508 Q999.185 73.7508 991.286 65.3654 Q983.387 56.9395 983.387 42.3968 Q983.387 27.8135 991.286 19.4281 Q999.185 11.0023 1012.92 11.0023 Q1018.35 11.0023 1023.13 12.4606 Q1027.95 13.8784 1032.16 16.7545 Z\" fill=\"#000000\" fill-rule=\"evenodd\" fill-opacity=\"1\" /><path clip-path=\"url(#clip680)\" d=\"M1082.19 45.1919 L1082.19 72.576 L1074.73 72.576 L1074.73 45.4349 Q1074.73 38.994 1072.22 35.7938 Q1069.71 32.5936 1064.69 32.5936 Q1058.65 32.5936 1055.17 36.4419 Q1051.68 40.2903 1051.68 46.9338 L1051.68 72.576 L1044.19 72.576 L1044.19 9.54393 L1051.68 9.54393 L1051.68 34.2544 Q1054.36 30.163 1057.96 28.1376 Q1061.61 26.1121 1066.35 26.1121 Q1074.17 26.1121 1078.18 30.9732 Q1082.19 35.7938 1082.19 45.1919 Z\" fill=\"#000000\" fill-rule=\"evenodd\" fill-opacity=\"1\" /><path clip-path=\"url(#clip680)\" d=\"M1096.29 54.671 L1096.29 27.2059 L1103.74 27.2059 L1103.74 54.3874 Q1103.74 60.8284 1106.25 64.0691 Q1108.76 67.2693 1113.79 67.2693 Q1119.82 67.2693 1123.3 63.421 Q1126.83 59.5726 1126.83 52.9291 L1126.83 27.2059 L1134.28 27.2059 L1134.28 72.576 L1126.83 72.576 L1126.83 65.6084 Q1124.11 69.7404 1120.51 71.7658 Q1116.94 73.7508 1112.21 73.7508 Q1104.39 73.7508 1100.34 68.8897 Q1096.29 64.0286 1096.29 54.671 M1115.04 26.1121 L1115.04 26.1121 Z\" fill=\"#000000\" fill-rule=\"evenodd\" fill-opacity=\"1\" /><path clip-path=\"url(#clip680)\" d=\"M1187.35 45.1919 L1187.35 72.576 L1179.9 72.576 L1179.9 45.4349 Q1179.9 38.994 1177.38 35.7938 Q1174.87 32.5936 1169.85 32.5936 Q1163.81 32.5936 1160.33 36.4419 Q1156.85 40.2903 1156.85 46.9338 L1156.85 72.576 L1149.35 72.576 L1149.35 27.2059 L1156.85 27.2059 L1156.85 34.2544 Q1159.52 30.163 1163.13 28.1376 Q1166.77 26.1121 1171.51 26.1121 Q1179.33 26.1121 1183.34 30.9732 Q1187.35 35.7938 1187.35 45.1919 Z\" fill=\"#000000\" fill-rule=\"evenodd\" fill-opacity=\"1\" /><path clip-path=\"url(#clip680)\" d=\"M1232.07 49.3643 Q1232.07 41.2625 1228.71 36.8065 Q1225.39 32.3505 1219.35 32.3505 Q1213.36 32.3505 1209.99 36.8065 Q1206.67 41.2625 1206.67 49.3643 Q1206.67 57.4256 1209.99 61.8816 Q1213.36 66.3376 1219.35 66.3376 Q1225.39 66.3376 1228.71 61.8816 Q1232.07 57.4256 1232.07 49.3643 M1239.53 66.9452 Q1239.53 78.5308 1234.38 84.1616 Q1229.24 89.8329 1218.62 89.8329 Q1214.69 89.8329 1211.21 89.2252 Q1207.73 88.6581 1204.44 87.4428 L1204.44 80.1917 Q1207.73 81.9741 1210.93 82.8248 Q1214.13 83.6755 1217.45 83.6755 Q1224.78 83.6755 1228.43 79.8271 Q1232.07 76.0193 1232.07 68.282 L1232.07 64.5957 Q1229.76 68.6061 1226.16 70.5911 Q1222.55 72.576 1217.53 72.576 Q1209.18 72.576 1204.08 66.2161 Q1198.98 59.8562 1198.98 49.3643 Q1198.98 38.832 1204.08 32.472 Q1209.18 26.1121 1217.53 26.1121 Q1222.55 26.1121 1226.16 28.0971 Q1229.76 30.082 1232.07 34.0924 L1232.07 27.2059 L1239.53 27.2059 L1239.53 66.9452 Z\" fill=\"#000000\" fill-rule=\"evenodd\" fill-opacity=\"1\" /><path clip-path=\"url(#clip680)\" d=\"M1310.25 44.2197 Q1312.89 45.1109 1315.36 48.0275 Q1317.87 50.9442 1320.38 56.0483 L1328.69 72.576 L1319.9 72.576 L1312.16 57.061 Q1309.16 50.9847 1306.32 48.9997 Q1303.53 47.0148 1298.67 47.0148 L1289.76 47.0148 L1289.76 72.576 L1281.57 72.576 L1281.57 12.096 L1300.05 12.096 Q1310.42 12.096 1315.52 16.4305 Q1320.62 20.7649 1320.62 29.5149 Q1320.62 35.2267 1317.95 38.994 Q1315.32 42.7613 1310.25 44.2197 M1289.76 18.8205 L1289.76 40.2903 L1300.05 40.2903 Q1305.96 40.2903 1308.96 37.5762 Q1312 34.8216 1312 29.5149 Q1312 24.2082 1308.96 21.5346 Q1305.96 18.8205 1300.05 18.8205 L1289.76 18.8205 Z\" fill=\"#000000\" fill-rule=\"evenodd\" fill-opacity=\"1\" /><path clip-path=\"url(#clip680)\" d=\"M1373.97 48.0275 L1373.97 51.6733 L1339.7 51.6733 Q1340.19 59.3701 1344.32 63.421 Q1348.49 67.4314 1355.91 67.4314 Q1360.2 67.4314 1364.21 66.3781 Q1368.26 65.3249 1372.23 63.2184 L1372.23 70.267 Q1368.22 71.9684 1364.01 72.8596 Q1359.8 73.7508 1355.46 73.7508 Q1344.61 73.7508 1338.25 67.4314 Q1331.93 61.1119 1331.93 50.3365 Q1331.93 39.1965 1337.92 32.6746 Q1343.96 26.1121 1354.17 26.1121 Q1363.32 26.1121 1368.63 32.0264 Q1373.97 37.9003 1373.97 48.0275 M1366.52 45.84 Q1366.44 39.7232 1363.08 36.0774 Q1359.76 32.4315 1354.25 32.4315 Q1348.01 32.4315 1344.24 35.9558 Q1340.51 39.4801 1339.95 45.8805 L1366.52 45.84 Z\" fill=\"#000000\" fill-rule=\"evenodd\" fill-opacity=\"1\" /><path clip-path=\"url(#clip680)\" d=\"M1405.09 76.7889 Q1401.93 84.8907 1398.93 87.3618 Q1395.93 89.8329 1390.91 89.8329 L1384.95 89.8329 L1384.95 83.5945 L1389.33 83.5945 Q1392.41 83.5945 1394.11 82.1361 Q1395.81 80.6778 1397.88 75.2496 L1399.21 71.8468 L1380.86 27.2059 L1388.76 27.2059 L1402.94 62.6918 L1417.12 27.2059 L1425.02 27.2059 L1405.09 76.7889 Z\" fill=\"#000000\" fill-rule=\"evenodd\" fill-opacity=\"1\" /><path clip-path=\"url(#clip680)\" d=\"M1473.02 45.1919 L1473.02 72.576 L1465.57 72.576 L1465.57 45.4349 Q1465.57 38.994 1463.05 35.7938 Q1460.54 32.5936 1455.52 32.5936 Q1449.48 32.5936 1446 36.4419 Q1442.52 40.2903 1442.52 46.9338 L1442.52 72.576 L1435.02 72.576 L1435.02 27.2059 L1442.52 27.2059 L1442.52 34.2544 Q1445.19 30.163 1448.79 28.1376 Q1452.44 26.1121 1457.18 26.1121 Q1465 26.1121 1469.01 30.9732 Q1473.02 35.7938 1473.02 45.1919 Z\" fill=\"#000000\" fill-rule=\"evenodd\" fill-opacity=\"1\" /><path clip-path=\"url(#clip680)\" d=\"M1505.47 32.4315 Q1499.47 32.4315 1495.99 37.1306 Q1492.5 41.7891 1492.5 49.9314 Q1492.5 58.0738 1495.95 62.7728 Q1499.43 67.4314 1505.47 67.4314 Q1511.42 67.4314 1514.91 62.7323 Q1518.39 58.0333 1518.39 49.9314 Q1518.39 41.8701 1514.91 37.1711 Q1511.42 32.4315 1505.47 32.4315 M1505.47 26.1121 Q1515.19 26.1121 1520.74 32.4315 Q1526.29 38.7509 1526.29 49.9314 Q1526.29 61.0714 1520.74 67.4314 Q1515.19 73.7508 1505.47 73.7508 Q1495.7 73.7508 1490.15 67.4314 Q1484.65 61.0714 1484.65 49.9314 Q1484.65 38.7509 1490.15 32.4315 Q1495.7 26.1121 1505.47 26.1121 Z\" fill=\"#000000\" fill-rule=\"evenodd\" fill-opacity=\"1\" /><path clip-path=\"url(#clip680)\" d=\"M1538.64 9.54393 L1546.1 9.54393 L1546.1 72.576 L1538.64 72.576 L1538.64 9.54393 Z\" fill=\"#000000\" fill-rule=\"evenodd\" fill-opacity=\"1\" /><path clip-path=\"url(#clip680)\" d=\"M1591.55 34.0924 L1591.55 9.54393 L1599 9.54393 L1599 72.576 L1591.55 72.576 L1591.55 65.7705 Q1589.2 69.8214 1585.59 71.8063 Q1582.03 73.7508 1577.01 73.7508 Q1568.78 73.7508 1563.6 67.1883 Q1558.45 60.6258 1558.45 49.9314 Q1558.45 39.2371 1563.6 32.6746 Q1568.78 26.1121 1577.01 26.1121 Q1582.03 26.1121 1585.59 28.0971 Q1589.2 30.0415 1591.55 34.0924 M1566.15 49.9314 Q1566.15 58.1548 1569.51 62.8538 Q1572.91 67.5124 1578.83 67.5124 Q1584.74 67.5124 1588.15 62.8538 Q1591.55 58.1548 1591.55 49.9314 Q1591.55 41.7081 1588.15 37.0496 Q1584.74 32.3505 1578.83 32.3505 Q1572.91 32.3505 1569.51 37.0496 Q1566.15 41.7081 1566.15 49.9314 Z\" fill=\"#000000\" fill-rule=\"evenodd\" fill-opacity=\"1\" /><path clip-path=\"url(#clip680)\" d=\"M1643.28 28.5427 L1643.28 35.5912 Q1640.12 33.9709 1636.72 33.1607 Q1633.31 32.3505 1629.67 32.3505 Q1624.12 32.3505 1621.32 34.0519 Q1618.57 35.7533 1618.57 39.156 Q1618.57 41.7486 1620.55 43.2475 Q1622.54 44.7058 1628.53 46.0426 L1631.09 46.6097 Q1639.03 48.3111 1642.35 51.4303 Q1645.71 54.509 1645.71 60.0587 Q1645.71 66.3781 1640.69 70.0644 Q1635.7 73.7508 1626.95 73.7508 Q1623.31 73.7508 1619.34 73.0216 Q1615.41 72.3329 1611.03 70.9151 L1611.03 63.2184 Q1615.17 65.3654 1619.18 66.4591 Q1623.19 67.5124 1627.12 67.5124 Q1632.38 67.5124 1635.22 65.73 Q1638.05 63.9071 1638.05 60.6258 Q1638.05 57.5877 1635.99 55.9673 Q1633.96 54.3469 1627.03 52.8481 L1624.44 52.2405 Q1617.52 50.7821 1614.44 47.7845 Q1611.36 44.7463 1611.36 39.4801 Q1611.36 33.0797 1615.89 29.5959 Q1620.43 26.1121 1628.78 26.1121 Q1632.91 26.1121 1636.55 26.7198 Q1640.2 27.3274 1643.28 28.5427 Z\" fill=\"#000000\" fill-rule=\"evenodd\" fill-opacity=\"1\" /><polyline clip-path=\"url(#clip682)\" style=\"stroke:#009af9; stroke-linecap:round; stroke-linejoin:round; stroke-width:12; stroke-opacity:1; fill:none\" points=\"335.107,162.047 433.051,1445.37 530.995,1447.83 628.939,1447.87 726.883,1447.87 824.827,1447.87 922.771,1447.87 1020.72,1447.87 1118.66,1447.87 1216.6,1447.87 1314.55,1447.87 1412.49,1447.87 1510.44,1447.87 1608.38,1447.87 1706.32,1447.87 1804.27,1447.87 1902.21,1447.87 2000.16,1447.87 2098.1,1447.87 2196.05,1447.87 2293.99,1447.87 \"/>\n",
       "<path clip-path=\"url(#clip680)\" d=\"M1980.35 272.585 L2283.54 272.585 L2283.54 168.905 L1980.35 168.905  Z\" fill=\"#ffffff\" fill-rule=\"evenodd\" fill-opacity=\"1\"/>\n",
       "<polyline clip-path=\"url(#clip680)\" style=\"stroke:#000000; stroke-linecap:round; stroke-linejoin:round; stroke-width:4; stroke-opacity:1; fill:none\" points=\"1980.35,272.585 2283.54,272.585 2283.54,168.905 1980.35,168.905 1980.35,272.585 \"/>\n",
       "<polyline clip-path=\"url(#clip680)\" style=\"stroke:#009af9; stroke-linecap:round; stroke-linejoin:round; stroke-width:12; stroke-opacity:1; fill:none\" points=\"2003.42,220.745 2141.84,220.745 \"/>\n",
       "<path clip-path=\"url(#clip680)\" d=\"M2164.92 203.465 L2169.59 203.465 L2169.59 217.631 L2186.58 217.631 L2186.58 203.465 L2191.26 203.465 L2191.26 238.025 L2186.58 238.025 L2186.58 221.566 L2169.59 221.566 L2169.59 238.025 L2164.92 238.025 L2164.92 203.465 Z\" fill=\"#000000\" fill-rule=\"evenodd\" fill-opacity=\"1\" /><path clip-path=\"url(#clip680)\" d=\"M2205.24 221.52 L2205.24 234.182 L2212.74 234.182 Q2216.51 234.182 2218.32 232.631 Q2220.15 231.057 2220.15 227.84 Q2220.15 224.599 2218.32 223.071 Q2216.51 221.52 2212.74 221.52 L2205.24 221.52 M2205.24 207.307 L2205.24 217.724 L2212.16 217.724 Q2215.59 217.724 2217.25 216.451 Q2218.94 215.154 2218.94 212.516 Q2218.94 209.9 2217.25 208.604 Q2215.59 207.307 2212.16 207.307 L2205.24 207.307 M2200.56 203.465 L2212.51 203.465 Q2217.86 203.465 2220.75 205.687 Q2223.64 207.909 2223.64 212.006 Q2223.64 215.178 2222.16 217.053 Q2220.68 218.928 2217.81 219.39 Q2221.26 220.131 2223.16 222.492 Q2225.08 224.83 2225.08 228.349 Q2225.08 232.978 2221.93 235.502 Q2218.78 238.025 2212.97 238.025 L2200.56 238.025 L2200.56 203.465 Z\" fill=\"#000000\" fill-rule=\"evenodd\" fill-opacity=\"1\" /><path clip-path=\"url(#clip680)\" d=\"M2244.64 208.071 L2238.29 225.27 L2251 225.27 L2244.64 208.071 M2242 203.465 L2247.3 203.465 L2260.47 238.025 L2255.61 238.025 L2252.46 229.159 L2236.88 229.159 L2233.73 238.025 L2228.8 238.025 L2242 203.465 Z\" fill=\"#000000\" fill-rule=\"evenodd\" fill-opacity=\"1\" /></svg>\n"
      ]
     },
     "execution_count": 36,
     "metadata": {},
     "output_type": "execute_result"
    }
   ],
   "source": [
    "#dimensions\n",
    "d = 30\n",
    "#lower bound\n",
    "a = -100\n",
    "#upper bound\n",
    "b = 100\n",
    "# population size\n",
    "N = 50\n",
    "#iterations\n",
    "t_max = 20\n",
    "#constant beta\n",
    "beta = 6\n",
    "#constant C\n",
    "C = 2\n",
    "\n",
    "\n",
    "#objective function\n",
    "obj_func(x) = Chung_Reynolds(x)\n",
    "\n",
    "#println(\"intitial population: \", x)\n",
    "iter = []\n",
    "simul = zeros(t_max+1)\n",
    "best_value = []\n",
    "\n",
    "for i in 1:30\n",
    "    #generate honey badgers\n",
    "    x = rand_population_uniform(N, d, a, b)\n",
    "    x_prey, f_prey, fitness_values = honey_badger_algorithm(t_max, N, beta, C, x, obj_func)\n",
    "    println(\"best solution: \", x_prey, \" fitness: \", f_prey)\n",
    "    simul += last.(fitness_values)\n",
    "    if i ==1\n",
    "        iter = first.(fitness_values)\n",
    "    end\n",
    "    push!(best_value, f_prey)\n",
    "end\n",
    "\n",
    "simul = simul/30\n",
    "\n",
    "println(\"****Statistical Analysis****\")\n",
    "println(\"Mean Solution: \", mean(best_value))\n",
    "println(\"Standard Deviation: \", std(best_value))\n",
    "\n",
    "println(\"****Convergennce Graph****\")\n",
    "x_val = iter\n",
    "y_val = simul\n",
    "println(x_val)\n",
    "println(y_val)\n",
    "plot(x_val, y_val, title=\"Chung Reynolds\", label=\"HBA\", linewidth=3)"
   ]
  },
  {
   "cell_type": "code",
   "execution_count": null,
   "id": "33261233",
   "metadata": {},
   "outputs": [],
   "source": []
  },
  {
   "cell_type": "code",
   "execution_count": null,
   "id": "59905ada",
   "metadata": {},
   "outputs": [],
   "source": []
  }
 ],
 "metadata": {
  "kernelspec": {
   "display_name": "Julia 1.8.5",
   "language": "julia",
   "name": "julia-1.8"
  },
  "language_info": {
   "file_extension": ".jl",
   "mimetype": "application/julia",
   "name": "julia",
   "version": "1.8.5"
  }
 },
 "nbformat": 4,
 "nbformat_minor": 5
}
