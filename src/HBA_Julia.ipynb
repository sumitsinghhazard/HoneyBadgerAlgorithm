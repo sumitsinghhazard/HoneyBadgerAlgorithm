{
 "cells": [
  {
   "cell_type": "code",
   "execution_count": 1,
   "id": "7c35625a",
   "metadata": {},
   "outputs": [],
   "source": [
    "# packages\n",
    "using Distributions\n",
    "using Random\n",
    "using Plots\n",
    "using Distances"
   ]
  },
  {
   "cell_type": "code",
   "execution_count": 2,
   "id": "053f9327",
   "metadata": {},
   "outputs": [
    {
     "data": {
      "text/plain": [
       "ackley (generic function with 1 method)"
      ]
     },
     "execution_count": 2,
     "metadata": {},
     "output_type": "execute_result"
    }
   ],
   "source": [
    "# ackley function\n",
    "\n",
    "function ackley(x)\n",
    "    # x = [x1, x2, ..., xd]\n",
    "    # a = default value 20\n",
    "    # b = default value 0.2\n",
    "    # c = default value 2*pi\n",
    "    a = 20\n",
    "    b = 0.2\n",
    "    c = 2*π\n",
    "    n = length(x)\n",
    "    sum1 = 0\n",
    "    sum2 = 0\n",
    "    for i in 1:n\n",
    "        sum1 += x[i]^2\n",
    "        sum2 += cos(c*x[i])\n",
    "    end\n",
    "    \n",
    "    term1 = -a * exp(-b*sqrt(sum1/n))\n",
    "    term2 = -exp(sum2/n)\n",
    "    y = term1 + term2 + a + exp(1)\n",
    "    return y\n",
    "end"
   ]
  },
  {
   "cell_type": "code",
   "execution_count": 3,
   "id": "1994c418",
   "metadata": {},
   "outputs": [
    {
     "data": {
      "text/plain": [
       "rastrigin (generic function with 1 method)"
      ]
     },
     "execution_count": 3,
     "metadata": {},
     "output_type": "execute_result"
    }
   ],
   "source": [
    "# rastrigin function\n",
    "\n",
    "function rastrigin(x)\n",
    "    val = -10length(x)\n",
    "    n = length(x)\n",
    "    for i in 1:n\n",
    "        val += -x[i]^2+10cos(π*x[i])\n",
    "    end\n",
    "    val =-val\n",
    "    return val\n",
    "end"
   ]
  },
  {
   "cell_type": "code",
   "execution_count": 4,
   "id": "d79fa3a9",
   "metadata": {},
   "outputs": [
    {
     "data": {
      "text/plain": [
       "zirilli2 (generic function with 1 method)"
      ]
     },
     "execution_count": 4,
     "metadata": {},
     "output_type": "execute_result"
    }
   ],
   "source": [
    "# zirilli function\n",
    "\n",
    "function zirilli2(x)\n",
    "    x1 = x[1]\n",
    "    x2 = x[2]\n",
    "    val = (0.5 * (x1 ^ 2)) + (0.5 * (1 - cos(2*x1)) ) + (x2 ^ 2)\n",
    "    return val\n",
    "end"
   ]
  },
  {
   "cell_type": "code",
   "execution_count": 5,
   "id": "8ca1f4c7",
   "metadata": {},
   "outputs": [
    {
     "data": {
      "text/plain": [
       "matyas2 (generic function with 1 method)"
      ]
     },
     "execution_count": 5,
     "metadata": {},
     "output_type": "execute_result"
    }
   ],
   "source": [
    "# matyas function\n",
    "\n",
    "function matyas2(x)\n",
    "    x1 = x[1]\n",
    "    x2 = x[2]\n",
    "    val = (0.26 * ((x1 ^ 2) + (x2 ^ 2) ))  - (0.48 * x1 * x2)\n",
    "    return val\n",
    "end"
   ]
  },
  {
   "cell_type": "code",
   "execution_count": 6,
   "id": "f4182f63",
   "metadata": {},
   "outputs": [
    {
     "data": {
      "text/plain": [
       "sphere (generic function with 1 method)"
      ]
     },
     "execution_count": 6,
     "metadata": {},
     "output_type": "execute_result"
    }
   ],
   "source": [
    "# De Jong (sphere) function\n",
    "\n",
    "sphere(x)=sum(x.^2)"
   ]
  },
  {
   "cell_type": "code",
   "execution_count": 7,
   "id": "1c2b63f3",
   "metadata": {},
   "outputs": [
    {
     "data": {
      "text/plain": [
       "schwefel_2_22 (generic function with 1 method)"
      ]
     },
     "execution_count": 7,
     "metadata": {},
     "output_type": "execute_result"
    }
   ],
   "source": [
    "# Schwefel 2.22 function\n",
    "\n",
    "function schwefel_2_22(x)\n",
    "    sum = 0\n",
    "    prod = 1\n",
    "    n = length(x)\n",
    "    for i in 1:n\n",
    "        sum += abs(x[i])\n",
    "        prod *= abs(x[i])\n",
    "    end\n",
    "    val = sum+ prod\n",
    "    return val\n",
    "end"
   ]
  },
  {
   "cell_type": "code",
   "execution_count": 8,
   "id": "e2ed69c9",
   "metadata": {},
   "outputs": [
    {
     "data": {
      "text/plain": [
       "rand_population_uniform (generic function with 1 method)"
      ]
     },
     "execution_count": 8,
     "metadata": {},
     "output_type": "execute_result"
    }
   ],
   "source": [
    "# population generator\n",
    "function rand_population_uniform(n, d, a, b)\n",
    "    # n = population size\n",
    "    # a = lower bound\n",
    "    # b = upper bound\n",
    "    # d = dimensions\n",
    "    return [convert(Array{Float64},rand(a:b,d)) for i in 1:n]\n",
    "end"
   ]
  },
  {
   "cell_type": "code",
   "execution_count": 9,
   "id": "bfae4807",
   "metadata": {},
   "outputs": [
    {
     "data": {
      "text/plain": [
       "obj_func (generic function with 1 method)"
      ]
     },
     "execution_count": 9,
     "metadata": {},
     "output_type": "execute_result"
    }
   ],
   "source": [
    "# benchmark / landscape function\n",
    "\n",
    "\n",
    "#obj_func(x) = sphere(x)\n",
    "#obj_func(x) = schwefel_2_22(x)\n",
    "\n",
    "#obj_func(x) = ackley(x)\n",
    "obj_func(x) = rastrigin(x)\n",
    "\n",
    "#obj_func(x) = matyas2(x)\n",
    "#obj_func(x) = zirilli2(x)"
   ]
  },
  {
   "cell_type": "code",
   "execution_count": 10,
   "id": "6b8b89c0",
   "metadata": {},
   "outputs": [
    {
     "data": {
      "text/plain": [
       "intensity (generic function with 1 method)"
      ]
     },
     "execution_count": 10,
     "metadata": {},
     "output_type": "execute_result"
    }
   ],
   "source": [
    "# intensity function\n",
    "\n",
    "function intensity(N, x, x_prey)\n",
    "    d = zeros(N)\n",
    "    S = zeros(N)\n",
    "    I = zeros(N)\n",
    "    for i in 1:N-1\n",
    "        d[i] = euclidean(x[i], x_prey) ^ 2\n",
    "        S[i] = euclidean(x[i],x[i+1]) ^ 2\n",
    "    end\n",
    "    \n",
    "    d[N] = euclidean(x[N], x_prey)\n",
    "    S[N] = euclidean(x[N],x[1])\n",
    "    \n",
    "    \n",
    "    \n",
    "    for i in 1:N\n",
    "        r2 = rand(Uniform(0,1))\n",
    "        I[i] = r2 * S[i] / (4 * π * d[i] )\n",
    "    end\n",
    "    return I\n",
    "end"
   ]
  },
  {
   "cell_type": "code",
   "execution_count": 21,
   "id": "4480bc2a",
   "metadata": {},
   "outputs": [
    {
     "data": {
      "text/plain": [
       "honey_badger_algorithm (generic function with 1 method)"
      ]
     },
     "execution_count": 21,
     "metadata": {},
     "output_type": "execute_result"
    }
   ],
   "source": [
    "# Honey Badger Algorithm\n",
    "\n",
    "function honey_badger_algorithm(t_max, N, beta, C, x, obj_func)\n",
    "    # t_max = maximum no of iterations\n",
    "    # N = population size\n",
    "    # beta = default value as 6\n",
    "    # C = default value as 2\n",
    "    # x = initial population\n",
    "    # obj_func = benchmark function\n",
    "    # f = fitness of the population\n",
    "    # x_prey = best position found so far\n",
    "    # f_prey = best fitness value so far for the x_prey\n",
    "    # x_new = new position calculated for the ith honey badger\n",
    "    # f_new = new fitness calculated for the ith honey badger\n",
    "    # I = intensity of the honey badger\n",
    "    # F = disturbance direction\n",
    "    \n",
    "    #calucalte the fitness of each honey badger\n",
    "    f = obj_func.(x)\n",
    "    #println(\"fitness vecor: \", f)\n",
    "    \n",
    "    #save best posiiton and fitness\n",
    "    f_prey, x_prey_index = findmin(f)\n",
    "    x_prey = x[x_prey_index]\n",
    "    #println(\"best solution: \", x_prey, \" fitness: \", f_prey)\n",
    "    println(\"fitness: \", f_prey)\n",
    "    fitness_values = []\n",
    "    push!(fitness_values,(0,f_prey))\n",
    "    for t in 1:t_max\n",
    "        \n",
    "        #println(\"iteration: \", t)\n",
    "        \n",
    "        #calculate the density factor / decreasing factor\n",
    "        alpha = C * exp(-t / t_max)\n",
    "        #println(\"alpha: \", alpha)\n",
    "        \n",
    "        #calcualte the intensity of the all honey badgers\n",
    "        I = intensity(N, x, x_prey)\n",
    "        #println(\"Intensity: \", I)\n",
    "        \n",
    "        for i in 1:N\n",
    "            \n",
    "            #println(\"Honey badger #: \", i)\n",
    "            \n",
    "            #calcuate distance between prey and ith honey badger\n",
    "            d = x_prey - x[i]\n",
    "            \n",
    "            #generate disturbance\n",
    "            r6 = rand(Uniform(0,1))\n",
    "            if r6<=0.5\n",
    "                F = 1\n",
    "            else\n",
    "                F = -1\n",
    "            end\n",
    "            \n",
    "            \n",
    "            #generate a random value to deicde between digging vs honey mode\n",
    "            r2 = rand(Uniform(0,1))\n",
    "            \n",
    "            #TODO : if intensity is infinite then go for honey mode\n",
    "            if isinf(I[i])\n",
    "                r2 = 0.9\n",
    "            end\n",
    "            \n",
    "            if r2<0.5\n",
    "                # digging mode\n",
    "                #println(\"Digging mode\")\n",
    "                r3 = rand(Uniform(0,1))\n",
    "                r4 = rand(Uniform(0,1))\n",
    "                r5 = rand(Uniform(0,1))\n",
    "                #println(\"Intensity: \", I[i])\n",
    "                #p = abs(cos(2*π*r4) * (1 - cos(2*π*r5)))\n",
    "                #println(\"cos value: \", p)\n",
    "                x_new = x_prey + (F * beta * I[i] * x_prey) + (F * r3 * alpha * d * abs(cos(2*π*r4) * (1 - cos(2*π*r5))))\n",
    "                f_new = obj_func(x_new)\n",
    "            \n",
    "            else\n",
    "                # honey node\n",
    "                #println(\"Honey mode\")\n",
    "                r7 = rand(Uniform(0,1))\n",
    "                x_new = x_prey + (F * r7 * alpha * d)\n",
    "                f_new = obj_func(x_new)\n",
    "            end\n",
    "            \n",
    "            #TODO: mange xnew to be within the bounds\n",
    "            \n",
    "            # evaluate the new posiiton and fitness values\n",
    "            \n",
    "            #local position update\n",
    "            if f_new < f[i]\n",
    "                #println(\"local position is improved\")\n",
    "                #println(\"values\", x[i], \";\", x_new, \";\", f[i], \";\", f_new  )\n",
    "                x[i] = x_new\n",
    "                f[i] = f_new\n",
    "                \n",
    "                #println(\"local position is improved fin\")\n",
    "            end\n",
    "            \n",
    "            #prey position update\n",
    "            if f_new<f_prey\n",
    "                #println(\"prey position is improved with honey badger # \", i)\n",
    "                x_prey = x_new\n",
    "                f_prey = f_new\n",
    "            end\n",
    "            \n",
    "        end\n",
    "        push!(fitness_values,(t,f_prey))\n",
    "        #println(\"fitness: \", f_prey)\n",
    "    end\n",
    "   return x_prey, f_prey, fitness_values \n",
    "end\n",
    "    "
   ]
  },
  {
   "cell_type": "code",
   "execution_count": 25,
   "id": "52f03822",
   "metadata": {},
   "outputs": [
    {
     "name": "stdout",
     "output_type": "stream",
     "text": [
      "fitness: 473.4543514111748\n",
      "best solution: [-2.139839352297938e-9, 1.0629343026633014e-9, -9.823448891983125e-11, 1.836879673944346e-9, -2.0986681495498686e-9, 4.853792559630036e-10, -6.035779863511412e-10, 6.088460868892118e-10, -4.357994631344653e-10, -2.3973748978067594e-9, 1.2879553057155642e-9, -8.074479483870787e-10, -2.4224612060573794e-9, 1.3179084891601786e-9, 6.780893031343921e-10, -3.3872530038460937e-9, 1.7028556587680213e-9, -3.776193679992193e-9, 1.3280577424710754e-9, 1.7212293791865229e-9, -1.2640974490070561e-9, 5.788889954899663e-10, 2.5740484897978494e-9, 6.043720394915287e-10, -3.0328396853212763e-9, 2.211835945743778e-9, 1.2983188048188712e-10, 1.0742580287351191e-9, 1.259554218975289e-9, 3.289174706223269e-10] fitness: -0.0\n",
      "****Convergennce Graph****\n",
      "[0, 1, 2, 3, 4, 5, 6, 7, 8, 9, 10, 11, 12, 13, 14, 15, 16, 17, 18, 19, 20]\n",
      "[473.4543514111748, 234.40461766017293, 10.367488080330979, 8.765591278177222, 0.021719260976313493, 0.021710919154141806, 0.004128774555535841, 0.0002891050880453605, 8.645849761812485e-5, 8.425980334791916e-6, 1.1801907007225054e-6, 1.0691694072306746e-6, 9.772525189077896e-8, 1.745771349703773e-8, 2.2622543838224374e-9, 2.389555220361217e-11, 1.1244338793403585e-12, 1.971756091734278e-13, 8.881784197001252e-15, -0.0, -0.0]\n"
     ]
    },
    {
     "data": {
      "image/svg+xml": [
       "<?xml version=\"1.0\" encoding=\"utf-8\"?>\n",
       "<svg xmlns=\"http://www.w3.org/2000/svg\" xmlns:xlink=\"http://www.w3.org/1999/xlink\" width=\"600\" height=\"400\" viewBox=\"0 0 2400 1600\">\n",
       "<defs>\n",
       "  <clipPath id=\"clip050\">\n",
       "    <rect x=\"0\" y=\"0\" width=\"2400\" height=\"1600\"/>\n",
       "  </clipPath>\n",
       "</defs>\n",
       "<path clip-path=\"url(#clip050)\" d=\"M0 1600 L2400 1600 L2400 0 L0 0  Z\" fill=\"#ffffff\" fill-rule=\"evenodd\" fill-opacity=\"1\"/>\n",
       "<defs>\n",
       "  <clipPath id=\"clip051\">\n",
       "    <rect x=\"480\" y=\"0\" width=\"1681\" height=\"1600\"/>\n",
       "  </clipPath>\n",
       "</defs>\n",
       "<path clip-path=\"url(#clip050)\" d=\"M172.015 1486.45 L2352.76 1486.45 L2352.76 123.472 L172.015 123.472  Z\" fill=\"#ffffff\" fill-rule=\"evenodd\" fill-opacity=\"1\"/>\n",
       "<defs>\n",
       "  <clipPath id=\"clip052\">\n",
       "    <rect x=\"172\" y=\"123\" width=\"2182\" height=\"1364\"/>\n",
       "  </clipPath>\n",
       "</defs>\n",
       "<polyline clip-path=\"url(#clip052)\" style=\"stroke:#000000; stroke-linecap:round; stroke-linejoin:round; stroke-width:2; stroke-opacity:0.1; fill:none\" points=\"233.734,1486.45 233.734,123.472 \"/>\n",
       "<polyline clip-path=\"url(#clip052)\" style=\"stroke:#000000; stroke-linecap:round; stroke-linejoin:round; stroke-width:2; stroke-opacity:0.1; fill:none\" points=\"748.06,1486.45 748.06,123.472 \"/>\n",
       "<polyline clip-path=\"url(#clip052)\" style=\"stroke:#000000; stroke-linecap:round; stroke-linejoin:round; stroke-width:2; stroke-opacity:0.1; fill:none\" points=\"1262.39,1486.45 1262.39,123.472 \"/>\n",
       "<polyline clip-path=\"url(#clip052)\" style=\"stroke:#000000; stroke-linecap:round; stroke-linejoin:round; stroke-width:2; stroke-opacity:0.1; fill:none\" points=\"1776.71,1486.45 1776.71,123.472 \"/>\n",
       "<polyline clip-path=\"url(#clip052)\" style=\"stroke:#000000; stroke-linecap:round; stroke-linejoin:round; stroke-width:2; stroke-opacity:0.1; fill:none\" points=\"2291.04,1486.45 2291.04,123.472 \"/>\n",
       "<polyline clip-path=\"url(#clip050)\" style=\"stroke:#000000; stroke-linecap:round; stroke-linejoin:round; stroke-width:4; stroke-opacity:1; fill:none\" points=\"172.015,1486.45 2352.76,1486.45 \"/>\n",
       "<polyline clip-path=\"url(#clip050)\" style=\"stroke:#000000; stroke-linecap:round; stroke-linejoin:round; stroke-width:4; stroke-opacity:1; fill:none\" points=\"233.734,1486.45 233.734,1467.55 \"/>\n",
       "<polyline clip-path=\"url(#clip050)\" style=\"stroke:#000000; stroke-linecap:round; stroke-linejoin:round; stroke-width:4; stroke-opacity:1; fill:none\" points=\"748.06,1486.45 748.06,1467.55 \"/>\n",
       "<polyline clip-path=\"url(#clip050)\" style=\"stroke:#000000; stroke-linecap:round; stroke-linejoin:round; stroke-width:4; stroke-opacity:1; fill:none\" points=\"1262.39,1486.45 1262.39,1467.55 \"/>\n",
       "<polyline clip-path=\"url(#clip050)\" style=\"stroke:#000000; stroke-linecap:round; stroke-linejoin:round; stroke-width:4; stroke-opacity:1; fill:none\" points=\"1776.71,1486.45 1776.71,1467.55 \"/>\n",
       "<polyline clip-path=\"url(#clip050)\" style=\"stroke:#000000; stroke-linecap:round; stroke-linejoin:round; stroke-width:4; stroke-opacity:1; fill:none\" points=\"2291.04,1486.45 2291.04,1467.55 \"/>\n",
       "<path clip-path=\"url(#clip050)\" d=\"M233.734 1517.37 Q230.123 1517.37 228.294 1520.93 Q226.489 1524.47 226.489 1531.6 Q226.489 1538.71 228.294 1542.27 Q230.123 1545.82 233.734 1545.82 Q237.368 1545.82 239.174 1542.27 Q241.002 1538.71 241.002 1531.6 Q241.002 1524.47 239.174 1520.93 Q237.368 1517.37 233.734 1517.37 M233.734 1513.66 Q239.544 1513.66 242.6 1518.27 Q245.678 1522.85 245.678 1531.6 Q245.678 1540.33 242.6 1544.94 Q239.544 1549.52 233.734 1549.52 Q227.924 1549.52 224.845 1544.94 Q221.79 1540.33 221.79 1531.6 Q221.79 1522.85 224.845 1518.27 Q227.924 1513.66 233.734 1513.66 Z\" fill=\"#000000\" fill-rule=\"evenodd\" fill-opacity=\"1\" /><path clip-path=\"url(#clip050)\" d=\"M738.337 1514.29 L756.694 1514.29 L756.694 1518.22 L742.62 1518.22 L742.62 1526.7 Q743.638 1526.35 744.657 1526.19 Q745.675 1526 746.694 1526 Q752.481 1526 755.861 1529.17 Q759.24 1532.34 759.24 1537.76 Q759.24 1543.34 755.768 1546.44 Q752.296 1549.52 745.976 1549.52 Q743.8 1549.52 741.532 1549.15 Q739.287 1548.78 736.879 1548.04 L736.879 1543.34 Q738.962 1544.47 741.185 1545.03 Q743.407 1545.58 745.884 1545.58 Q749.888 1545.58 752.226 1543.48 Q754.564 1541.37 754.564 1537.76 Q754.564 1534.15 752.226 1532.04 Q749.888 1529.94 745.884 1529.94 Q744.009 1529.94 742.134 1530.35 Q740.282 1530.77 738.337 1531.65 L738.337 1514.29 Z\" fill=\"#000000\" fill-rule=\"evenodd\" fill-opacity=\"1\" /><path clip-path=\"url(#clip050)\" d=\"M1237.07 1544.91 L1244.71 1544.91 L1244.71 1518.55 L1236.4 1520.21 L1236.4 1515.95 L1244.67 1514.29 L1249.34 1514.29 L1249.34 1544.91 L1256.98 1544.91 L1256.98 1548.85 L1237.07 1548.85 L1237.07 1544.91 Z\" fill=\"#000000\" fill-rule=\"evenodd\" fill-opacity=\"1\" /><path clip-path=\"url(#clip050)\" d=\"M1276.42 1517.37 Q1272.81 1517.37 1270.98 1520.93 Q1269.18 1524.47 1269.18 1531.6 Q1269.18 1538.71 1270.98 1542.27 Q1272.81 1545.82 1276.42 1545.82 Q1280.06 1545.82 1281.86 1542.27 Q1283.69 1538.71 1283.69 1531.6 Q1283.69 1524.47 1281.86 1520.93 Q1280.06 1517.37 1276.42 1517.37 M1276.42 1513.66 Q1282.23 1513.66 1285.29 1518.27 Q1288.37 1522.85 1288.37 1531.6 Q1288.37 1540.33 1285.29 1544.94 Q1282.23 1549.52 1276.42 1549.52 Q1270.61 1549.52 1267.54 1544.94 Q1264.48 1540.33 1264.48 1531.6 Q1264.48 1522.85 1267.54 1518.27 Q1270.61 1513.66 1276.42 1513.66 Z\" fill=\"#000000\" fill-rule=\"evenodd\" fill-opacity=\"1\" /><path clip-path=\"url(#clip050)\" d=\"M1751.9 1544.91 L1759.54 1544.91 L1759.54 1518.55 L1751.23 1520.21 L1751.23 1515.95 L1759.49 1514.29 L1764.16 1514.29 L1764.16 1544.91 L1771.8 1544.91 L1771.8 1548.85 L1751.9 1548.85 L1751.9 1544.91 Z\" fill=\"#000000\" fill-rule=\"evenodd\" fill-opacity=\"1\" /><path clip-path=\"url(#clip050)\" d=\"M1781.29 1514.29 L1799.65 1514.29 L1799.65 1518.22 L1785.58 1518.22 L1785.58 1526.7 Q1786.6 1526.35 1787.61 1526.19 Q1788.63 1526 1789.65 1526 Q1795.44 1526 1798.82 1529.17 Q1802.2 1532.34 1802.2 1537.76 Q1802.2 1543.34 1798.72 1546.44 Q1795.25 1549.52 1788.93 1549.52 Q1786.76 1549.52 1784.49 1549.15 Q1782.24 1548.78 1779.84 1548.04 L1779.84 1543.34 Q1781.92 1544.47 1784.14 1545.03 Q1786.36 1545.58 1788.84 1545.58 Q1792.85 1545.58 1795.18 1543.48 Q1797.52 1541.37 1797.52 1537.76 Q1797.52 1534.15 1795.18 1532.04 Q1792.85 1529.94 1788.84 1529.94 Q1786.97 1529.94 1785.09 1530.35 Q1783.24 1530.77 1781.29 1531.65 L1781.29 1514.29 Z\" fill=\"#000000\" fill-rule=\"evenodd\" fill-opacity=\"1\" /><path clip-path=\"url(#clip050)\" d=\"M2269.81 1544.91 L2286.13 1544.91 L2286.13 1548.85 L2264.19 1548.85 L2264.19 1544.91 Q2266.85 1542.16 2271.43 1537.53 Q2276.04 1532.88 2277.22 1531.53 Q2279.46 1529.01 2280.34 1527.27 Q2281.25 1525.51 2281.25 1523.82 Q2281.25 1521.07 2279.3 1519.33 Q2277.38 1517.6 2274.28 1517.6 Q2272.08 1517.6 2269.62 1518.36 Q2267.19 1519.13 2264.42 1520.68 L2264.42 1515.95 Q2267.24 1514.82 2269.69 1514.24 Q2272.15 1513.66 2274.19 1513.66 Q2279.56 1513.66 2282.75 1516.35 Q2285.94 1519.03 2285.94 1523.52 Q2285.94 1525.65 2285.13 1527.57 Q2284.35 1529.47 2282.24 1532.07 Q2281.66 1532.74 2278.56 1535.95 Q2275.46 1539.15 2269.81 1544.91 Z\" fill=\"#000000\" fill-rule=\"evenodd\" fill-opacity=\"1\" /><path clip-path=\"url(#clip050)\" d=\"M2305.94 1517.37 Q2302.33 1517.37 2300.5 1520.93 Q2298.7 1524.47 2298.7 1531.6 Q2298.7 1538.71 2300.5 1542.27 Q2302.33 1545.82 2305.94 1545.82 Q2309.58 1545.82 2311.38 1542.27 Q2313.21 1538.71 2313.21 1531.6 Q2313.21 1524.47 2311.38 1520.93 Q2309.58 1517.37 2305.94 1517.37 M2305.94 1513.66 Q2311.75 1513.66 2314.81 1518.27 Q2317.89 1522.85 2317.89 1531.6 Q2317.89 1540.33 2314.81 1544.94 Q2311.75 1549.52 2305.94 1549.52 Q2300.13 1549.52 2297.06 1544.94 Q2294 1540.33 2294 1531.6 Q2294 1522.85 2297.06 1518.27 Q2300.13 1513.66 2305.94 1513.66 Z\" fill=\"#000000\" fill-rule=\"evenodd\" fill-opacity=\"1\" /><polyline clip-path=\"url(#clip052)\" style=\"stroke:#000000; stroke-linecap:round; stroke-linejoin:round; stroke-width:2; stroke-opacity:0.1; fill:none\" points=\"172.015,1447.87 2352.76,1447.87 \"/>\n",
       "<polyline clip-path=\"url(#clip052)\" style=\"stroke:#000000; stroke-linecap:round; stroke-linejoin:round; stroke-width:2; stroke-opacity:0.1; fill:none\" points=\"172.015,1176.29 2352.76,1176.29 \"/>\n",
       "<polyline clip-path=\"url(#clip052)\" style=\"stroke:#000000; stroke-linecap:round; stroke-linejoin:round; stroke-width:2; stroke-opacity:0.1; fill:none\" points=\"172.015,904.705 2352.76,904.705 \"/>\n",
       "<polyline clip-path=\"url(#clip052)\" style=\"stroke:#000000; stroke-linecap:round; stroke-linejoin:round; stroke-width:2; stroke-opacity:0.1; fill:none\" points=\"172.015,633.121 2352.76,633.121 \"/>\n",
       "<polyline clip-path=\"url(#clip052)\" style=\"stroke:#000000; stroke-linecap:round; stroke-linejoin:round; stroke-width:2; stroke-opacity:0.1; fill:none\" points=\"172.015,361.537 2352.76,361.537 \"/>\n",
       "<polyline clip-path=\"url(#clip050)\" style=\"stroke:#000000; stroke-linecap:round; stroke-linejoin:round; stroke-width:4; stroke-opacity:1; fill:none\" points=\"172.015,1486.45 172.015,123.472 \"/>\n",
       "<polyline clip-path=\"url(#clip050)\" style=\"stroke:#000000; stroke-linecap:round; stroke-linejoin:round; stroke-width:4; stroke-opacity:1; fill:none\" points=\"172.015,1447.87 190.912,1447.87 \"/>\n",
       "<polyline clip-path=\"url(#clip050)\" style=\"stroke:#000000; stroke-linecap:round; stroke-linejoin:round; stroke-width:4; stroke-opacity:1; fill:none\" points=\"172.015,1176.29 190.912,1176.29 \"/>\n",
       "<polyline clip-path=\"url(#clip050)\" style=\"stroke:#000000; stroke-linecap:round; stroke-linejoin:round; stroke-width:4; stroke-opacity:1; fill:none\" points=\"172.015,904.705 190.912,904.705 \"/>\n",
       "<polyline clip-path=\"url(#clip050)\" style=\"stroke:#000000; stroke-linecap:round; stroke-linejoin:round; stroke-width:4; stroke-opacity:1; fill:none\" points=\"172.015,633.121 190.912,633.121 \"/>\n",
       "<polyline clip-path=\"url(#clip050)\" style=\"stroke:#000000; stroke-linecap:round; stroke-linejoin:round; stroke-width:4; stroke-opacity:1; fill:none\" points=\"172.015,361.537 190.912,361.537 \"/>\n",
       "<path clip-path=\"url(#clip050)\" d=\"M124.07 1433.67 Q120.459 1433.67 118.631 1437.24 Q116.825 1440.78 116.825 1447.91 Q116.825 1455.01 118.631 1458.58 Q120.459 1462.12 124.07 1462.12 Q127.705 1462.12 129.51 1458.58 Q131.339 1455.01 131.339 1447.91 Q131.339 1440.78 129.51 1437.24 Q127.705 1433.67 124.07 1433.67 M124.07 1429.97 Q129.881 1429.97 132.936 1434.57 Q136.015 1439.16 136.015 1447.91 Q136.015 1456.63 132.936 1461.24 Q129.881 1465.82 124.07 1465.82 Q118.26 1465.82 115.182 1461.24 Q112.126 1456.63 112.126 1447.91 Q112.126 1439.16 115.182 1434.57 Q118.26 1429.97 124.07 1429.97 Z\" fill=\"#000000\" fill-rule=\"evenodd\" fill-opacity=\"1\" /><path clip-path=\"url(#clip050)\" d=\"M54.5569 1189.63 L62.1958 1189.63 L62.1958 1163.27 L53.8856 1164.94 L53.8856 1160.68 L62.1495 1159.01 L66.8254 1159.01 L66.8254 1189.63 L74.4642 1189.63 L74.4642 1193.57 L54.5569 1193.57 L54.5569 1189.63 Z\" fill=\"#000000\" fill-rule=\"evenodd\" fill-opacity=\"1\" /><path clip-path=\"url(#clip050)\" d=\"M93.9086 1162.09 Q90.2975 1162.09 88.4688 1165.65 Q86.6632 1169.19 86.6632 1176.32 Q86.6632 1183.43 88.4688 1187 Q90.2975 1190.54 93.9086 1190.54 Q97.5428 1190.54 99.3483 1187 Q101.177 1183.43 101.177 1176.32 Q101.177 1169.19 99.3483 1165.65 Q97.5428 1162.09 93.9086 1162.09 M93.9086 1158.38 Q99.7187 1158.38 102.774 1162.99 Q105.853 1167.57 105.853 1176.32 Q105.853 1185.05 102.774 1189.66 Q99.7187 1194.24 93.9086 1194.24 Q88.0984 1194.24 85.0197 1189.66 Q81.9642 1185.05 81.9642 1176.32 Q81.9642 1167.57 85.0197 1162.99 Q88.0984 1158.38 93.9086 1158.38 Z\" fill=\"#000000\" fill-rule=\"evenodd\" fill-opacity=\"1\" /><path clip-path=\"url(#clip050)\" d=\"M124.07 1162.09 Q120.459 1162.09 118.631 1165.65 Q116.825 1169.19 116.825 1176.32 Q116.825 1183.43 118.631 1187 Q120.459 1190.54 124.07 1190.54 Q127.705 1190.54 129.51 1187 Q131.339 1183.43 131.339 1176.32 Q131.339 1169.19 129.51 1165.65 Q127.705 1162.09 124.07 1162.09 M124.07 1158.38 Q129.881 1158.38 132.936 1162.99 Q136.015 1167.57 136.015 1176.32 Q136.015 1185.05 132.936 1189.66 Q129.881 1194.24 124.07 1194.24 Q118.26 1194.24 115.182 1189.66 Q112.126 1185.05 112.126 1176.32 Q112.126 1167.57 115.182 1162.99 Q118.26 1158.38 124.07 1158.38 Z\" fill=\"#000000\" fill-rule=\"evenodd\" fill-opacity=\"1\" /><path clip-path=\"url(#clip050)\" d=\"M57.7745 918.05 L74.0939 918.05 L74.0939 921.985 L52.1495 921.985 L52.1495 918.05 Q54.8115 915.295 59.3949 910.666 Q64.0013 906.013 65.1819 904.67 Q67.4272 902.147 68.3068 900.411 Q69.2096 898.652 69.2096 896.962 Q69.2096 894.207 67.2652 892.471 Q65.3439 890.735 62.2421 890.735 Q60.043 890.735 57.5893 891.499 Q55.1588 892.263 52.381 893.814 L52.381 889.092 Q55.2051 887.958 57.6588 887.379 Q60.1124 886.8 62.1495 886.8 Q67.5198 886.8 70.7142 889.485 Q73.9087 892.17 73.9087 896.661 Q73.9087 898.791 73.0985 900.712 Q72.3115 902.61 70.205 905.203 Q69.6263 905.874 66.5245 909.092 Q63.4226 912.286 57.7745 918.05 Z\" fill=\"#000000\" fill-rule=\"evenodd\" fill-opacity=\"1\" /><path clip-path=\"url(#clip050)\" d=\"M93.9086 890.504 Q90.2975 890.504 88.4688 894.069 Q86.6632 897.61 86.6632 904.74 Q86.6632 911.846 88.4688 915.411 Q90.2975 918.953 93.9086 918.953 Q97.5428 918.953 99.3483 915.411 Q101.177 911.846 101.177 904.74 Q101.177 897.61 99.3483 894.069 Q97.5428 890.504 93.9086 890.504 M93.9086 886.8 Q99.7187 886.8 102.774 891.407 Q105.853 895.99 105.853 904.74 Q105.853 913.467 102.774 918.073 Q99.7187 922.656 93.9086 922.656 Q88.0984 922.656 85.0197 918.073 Q81.9642 913.467 81.9642 904.74 Q81.9642 895.99 85.0197 891.407 Q88.0984 886.8 93.9086 886.8 Z\" fill=\"#000000\" fill-rule=\"evenodd\" fill-opacity=\"1\" /><path clip-path=\"url(#clip050)\" d=\"M124.07 890.504 Q120.459 890.504 118.631 894.069 Q116.825 897.61 116.825 904.74 Q116.825 911.846 118.631 915.411 Q120.459 918.953 124.07 918.953 Q127.705 918.953 129.51 915.411 Q131.339 911.846 131.339 904.74 Q131.339 897.61 129.51 894.069 Q127.705 890.504 124.07 890.504 M124.07 886.8 Q129.881 886.8 132.936 891.407 Q136.015 895.99 136.015 904.74 Q136.015 913.467 132.936 918.073 Q129.881 922.656 124.07 922.656 Q118.26 922.656 115.182 918.073 Q112.126 913.467 112.126 904.74 Q112.126 895.99 115.182 891.407 Q118.26 886.8 124.07 886.8 Z\" fill=\"#000000\" fill-rule=\"evenodd\" fill-opacity=\"1\" /><path clip-path=\"url(#clip050)\" d=\"M67.9133 631.767 Q71.2698 632.485 73.1448 634.753 Q75.0429 637.022 75.0429 640.355 Q75.0429 645.471 71.5244 648.272 Q68.0059 651.072 61.5245 651.072 Q59.3486 651.072 57.0338 650.633 Q54.7421 650.216 52.2884 649.359 L52.2884 644.846 Q54.2328 645.98 56.5477 646.559 Q58.8625 647.137 61.3856 647.137 Q65.7837 647.137 68.0754 645.401 Q70.3902 643.665 70.3902 640.355 Q70.3902 637.299 68.2374 635.586 Q66.1078 633.85 62.2884 633.85 L58.2606 633.85 L58.2606 630.008 L62.4735 630.008 Q65.9226 630.008 67.7513 628.642 Q69.58 627.253 69.58 624.661 Q69.58 621.999 67.6819 620.586 Q65.8069 619.151 62.2884 619.151 Q60.3671 619.151 58.168 619.568 Q55.969 619.985 53.3301 620.864 L53.3301 616.698 Q55.9921 615.957 58.3069 615.587 Q60.6449 615.216 62.705 615.216 Q68.0291 615.216 71.1309 617.647 Q74.2327 620.054 74.2327 624.174 Q74.2327 627.045 72.5892 629.036 Q70.9457 631.003 67.9133 631.767 Z\" fill=\"#000000\" fill-rule=\"evenodd\" fill-opacity=\"1\" /><path clip-path=\"url(#clip050)\" d=\"M93.9086 618.92 Q90.2975 618.92 88.4688 622.485 Q86.6632 626.026 86.6632 633.156 Q86.6632 640.262 88.4688 643.827 Q90.2975 647.369 93.9086 647.369 Q97.5428 647.369 99.3483 643.827 Q101.177 640.262 101.177 633.156 Q101.177 626.026 99.3483 622.485 Q97.5428 618.92 93.9086 618.92 M93.9086 615.216 Q99.7187 615.216 102.774 619.823 Q105.853 624.406 105.853 633.156 Q105.853 641.883 102.774 646.489 Q99.7187 651.072 93.9086 651.072 Q88.0984 651.072 85.0197 646.489 Q81.9642 641.883 81.9642 633.156 Q81.9642 624.406 85.0197 619.823 Q88.0984 615.216 93.9086 615.216 Z\" fill=\"#000000\" fill-rule=\"evenodd\" fill-opacity=\"1\" /><path clip-path=\"url(#clip050)\" d=\"M124.07 618.92 Q120.459 618.92 118.631 622.485 Q116.825 626.026 116.825 633.156 Q116.825 640.262 118.631 643.827 Q120.459 647.369 124.07 647.369 Q127.705 647.369 129.51 643.827 Q131.339 640.262 131.339 633.156 Q131.339 626.026 129.51 622.485 Q127.705 618.92 124.07 618.92 M124.07 615.216 Q129.881 615.216 132.936 619.823 Q136.015 624.406 136.015 633.156 Q136.015 641.883 132.936 646.489 Q129.881 651.072 124.07 651.072 Q118.26 651.072 115.182 646.489 Q112.126 641.883 112.126 633.156 Q112.126 624.406 115.182 619.823 Q118.26 615.216 124.07 615.216 Z\" fill=\"#000000\" fill-rule=\"evenodd\" fill-opacity=\"1\" /><path clip-path=\"url(#clip050)\" d=\"M66.5939 348.331 L54.7884 366.78 L66.5939 366.78 L66.5939 348.331 M65.367 344.257 L71.2466 344.257 L71.2466 366.78 L76.1772 366.78 L76.1772 370.669 L71.2466 370.669 L71.2466 378.817 L66.5939 378.817 L66.5939 370.669 L50.9921 370.669 L50.9921 366.155 L65.367 344.257 Z\" fill=\"#000000\" fill-rule=\"evenodd\" fill-opacity=\"1\" /><path clip-path=\"url(#clip050)\" d=\"M93.9086 347.336 Q90.2975 347.336 88.4688 350.901 Q86.6632 354.442 86.6632 361.572 Q86.6632 368.678 88.4688 372.243 Q90.2975 375.785 93.9086 375.785 Q97.5428 375.785 99.3483 372.243 Q101.177 368.678 101.177 361.572 Q101.177 354.442 99.3483 350.901 Q97.5428 347.336 93.9086 347.336 M93.9086 343.632 Q99.7187 343.632 102.774 348.239 Q105.853 352.822 105.853 361.572 Q105.853 370.299 102.774 374.905 Q99.7187 379.488 93.9086 379.488 Q88.0984 379.488 85.0197 374.905 Q81.9642 370.299 81.9642 361.572 Q81.9642 352.822 85.0197 348.239 Q88.0984 343.632 93.9086 343.632 Z\" fill=\"#000000\" fill-rule=\"evenodd\" fill-opacity=\"1\" /><path clip-path=\"url(#clip050)\" d=\"M124.07 347.336 Q120.459 347.336 118.631 350.901 Q116.825 354.442 116.825 361.572 Q116.825 368.678 118.631 372.243 Q120.459 375.785 124.07 375.785 Q127.705 375.785 129.51 372.243 Q131.339 368.678 131.339 361.572 Q131.339 354.442 129.51 350.901 Q127.705 347.336 124.07 347.336 M124.07 343.632 Q129.881 343.632 132.936 348.239 Q136.015 352.822 136.015 361.572 Q136.015 370.299 132.936 374.905 Q129.881 379.488 124.07 379.488 Q118.26 379.488 115.182 374.905 Q112.126 370.299 112.126 361.572 Q112.126 352.822 115.182 348.239 Q118.26 343.632 124.07 343.632 Z\" fill=\"#000000\" fill-rule=\"evenodd\" fill-opacity=\"1\" /><path clip-path=\"url(#clip050)\" d=\"M713.407 27.2059 L720.86 27.2059 L720.86 72.576 L713.407 72.576 L713.407 27.2059 M713.407 9.54393 L720.86 9.54393 L720.86 18.9825 L713.407 18.9825 L713.407 9.54393 Z\" fill=\"#000000\" fill-rule=\"evenodd\" fill-opacity=\"1\" /><path clip-path=\"url(#clip050)\" d=\"M743.829 14.324 L743.829 27.2059 L759.182 27.2059 L759.182 32.9987 L743.829 32.9987 L743.829 57.6282 Q743.829 63.1779 745.328 64.7578 Q746.867 66.3376 751.526 66.3376 L759.182 66.3376 L759.182 72.576 L751.526 72.576 Q742.897 72.576 739.616 69.3758 Q736.335 66.1351 736.335 57.6282 L736.335 32.9987 L730.866 32.9987 L730.866 27.2059 L736.335 27.2059 L736.335 14.324 L743.829 14.324 Z\" fill=\"#000000\" fill-rule=\"evenodd\" fill-opacity=\"1\" /><path clip-path=\"url(#clip050)\" d=\"M807.793 48.0275 L807.793 51.6733 L773.522 51.6733 Q774.008 59.3701 778.14 63.421 Q782.313 67.4314 789.726 67.4314 Q794.02 67.4314 798.03 66.3781 Q802.081 65.3249 806.051 63.2184 L806.051 70.267 Q802.041 71.9684 797.828 72.8596 Q793.615 73.7508 789.28 73.7508 Q778.424 73.7508 772.064 67.4314 Q765.745 61.1119 765.745 50.3365 Q765.745 39.1965 771.74 32.6746 Q777.776 26.1121 787.984 26.1121 Q797.139 26.1121 802.446 32.0264 Q807.793 37.9003 807.793 48.0275 M800.339 45.84 Q800.258 39.7232 796.896 36.0774 Q793.574 32.4315 788.065 32.4315 Q781.827 32.4315 778.059 35.9558 Q774.332 39.4801 773.765 45.8805 L800.339 45.84 Z\" fill=\"#000000\" fill-rule=\"evenodd\" fill-opacity=\"1\" /><path clip-path=\"url(#clip050)\" d=\"M846.317 34.1734 Q845.061 33.4443 843.562 33.1202 Q842.104 32.7556 840.322 32.7556 Q834.002 32.7556 830.599 36.8875 Q827.237 40.9789 827.237 48.6757 L827.237 72.576 L819.743 72.576 L819.743 27.2059 L827.237 27.2059 L827.237 34.2544 Q829.587 30.1225 833.354 28.1376 Q837.121 26.1121 842.509 26.1121 Q843.279 26.1121 844.211 26.2337 Q845.142 26.3147 846.276 26.5172 L846.317 34.1734 Z\" fill=\"#000000\" fill-rule=\"evenodd\" fill-opacity=\"1\" /><path clip-path=\"url(#clip050)\" d=\"M874.754 49.7694 Q865.721 49.7694 862.237 51.8354 Q858.753 53.9013 858.753 58.8839 Q858.753 62.8538 861.346 65.2034 Q863.979 67.5124 868.475 67.5124 Q874.673 67.5124 878.4 63.1374 Q882.167 58.7219 882.167 51.4303 L882.167 49.7694 L874.754 49.7694 M889.621 46.6907 L889.621 72.576 L882.167 72.576 L882.167 65.6895 Q879.615 69.8214 875.808 71.8063 Q872 73.7508 866.49 73.7508 Q859.523 73.7508 855.391 69.8619 Q851.3 65.9325 851.3 59.3701 Q851.3 51.7138 856.404 47.825 Q861.548 43.9361 871.716 43.9361 L882.167 43.9361 L882.167 43.2069 Q882.167 38.0623 878.765 35.2672 Q875.402 32.4315 869.286 32.4315 Q865.397 32.4315 861.71 33.3632 Q858.024 34.295 854.621 36.1584 L854.621 29.2718 Q858.713 27.692 862.561 26.9223 Q866.409 26.1121 870.055 26.1121 Q879.899 26.1121 884.76 31.2163 Q889.621 36.3204 889.621 46.6907 Z\" fill=\"#000000\" fill-rule=\"evenodd\" fill-opacity=\"1\" /><path clip-path=\"url(#clip050)\" d=\"M912.347 14.324 L912.347 27.2059 L927.7 27.2059 L927.7 32.9987 L912.347 32.9987 L912.347 57.6282 Q912.347 63.1779 913.846 64.7578 Q915.385 66.3376 920.043 66.3376 L927.7 66.3376 L927.7 72.576 L920.043 72.576 Q911.415 72.576 908.134 69.3758 Q904.853 66.1351 904.853 57.6282 L904.853 32.9987 L899.384 32.9987 L899.384 27.2059 L904.853 27.2059 L904.853 14.324 L912.347 14.324 Z\" fill=\"#000000\" fill-rule=\"evenodd\" fill-opacity=\"1\" /><path clip-path=\"url(#clip050)\" d=\"M937.503 27.2059 L944.957 27.2059 L944.957 72.576 L937.503 72.576 L937.503 27.2059 M937.503 9.54393 L944.957 9.54393 L944.957 18.9825 L937.503 18.9825 L937.503 9.54393 Z\" fill=\"#000000\" fill-rule=\"evenodd\" fill-opacity=\"1\" /><path clip-path=\"url(#clip050)\" d=\"M978.133 32.4315 Q972.138 32.4315 968.654 37.1306 Q965.171 41.7891 965.171 49.9314 Q965.171 58.0738 968.614 62.7728 Q972.098 67.4314 978.133 67.4314 Q984.088 67.4314 987.572 62.7323 Q991.056 58.0333 991.056 49.9314 Q991.056 41.8701 987.572 37.1711 Q984.088 32.4315 978.133 32.4315 M978.133 26.1121 Q987.856 26.1121 993.405 32.4315 Q998.955 38.7509 998.955 49.9314 Q998.955 61.0714 993.405 67.4314 Q987.856 73.7508 978.133 73.7508 Q968.371 73.7508 962.821 67.4314 Q957.312 61.0714 957.312 49.9314 Q957.312 38.7509 962.821 32.4315 Q968.371 26.1121 978.133 26.1121 Z\" fill=\"#000000\" fill-rule=\"evenodd\" fill-opacity=\"1\" /><path clip-path=\"url(#clip050)\" d=\"M1049.02 45.1919 L1049.02 72.576 L1041.57 72.576 L1041.57 45.4349 Q1041.57 38.994 1039.06 35.7938 Q1036.55 32.5936 1031.52 32.5936 Q1025.49 32.5936 1022 36.4419 Q1018.52 40.2903 1018.52 46.9338 L1018.52 72.576 L1011.03 72.576 L1011.03 27.2059 L1018.52 27.2059 L1018.52 34.2544 Q1021.19 30.163 1024.8 28.1376 Q1028.45 26.1121 1033.19 26.1121 Q1041 26.1121 1045.01 30.9732 Q1049.02 35.7938 1049.02 45.1919 Z\" fill=\"#000000\" fill-rule=\"evenodd\" fill-opacity=\"1\" /><path clip-path=\"url(#clip050)\" d=\"M1092.81 28.5427 L1092.81 35.5912 Q1089.65 33.9709 1086.25 33.1607 Q1082.85 32.3505 1079.2 32.3505 Q1073.65 32.3505 1070.86 34.0519 Q1068.1 35.7533 1068.1 39.156 Q1068.1 41.7486 1070.09 43.2475 Q1072.07 44.7058 1078.07 46.0426 L1080.62 46.6097 Q1088.56 48.3111 1091.88 51.4303 Q1095.25 54.509 1095.25 60.0587 Q1095.25 66.3781 1090.22 70.0644 Q1085.24 73.7508 1076.49 73.7508 Q1072.84 73.7508 1068.87 73.0216 Q1064.94 72.3329 1060.57 70.9151 L1060.57 63.2184 Q1064.7 65.3654 1068.71 66.4591 Q1072.72 67.5124 1076.65 67.5124 Q1081.92 67.5124 1084.75 65.73 Q1087.59 63.9071 1087.59 60.6258 Q1087.59 57.5877 1085.52 55.9673 Q1083.5 54.3469 1076.57 52.8481 L1073.98 52.2405 Q1067.05 50.7821 1063.97 47.7845 Q1060.89 44.7463 1060.89 39.4801 Q1060.89 33.0797 1065.43 29.5959 Q1069.97 26.1121 1078.31 26.1121 Q1082.44 26.1121 1086.09 26.7198 Q1089.74 27.3274 1092.81 28.5427 Z\" fill=\"#000000\" fill-rule=\"evenodd\" fill-opacity=\"1\" /><path clip-path=\"url(#clip050)\" d=\"M1128.14 27.2059 L1136.04 27.2059 L1150.22 65.2844 L1164.39 27.2059 L1172.29 27.2059 L1155.28 72.576 L1145.15 72.576 L1128.14 27.2059 Z\" fill=\"#000000\" fill-rule=\"evenodd\" fill-opacity=\"1\" /><path clip-path=\"url(#clip050)\" d=\"M1211.51 28.5427 L1211.51 35.5912 Q1208.35 33.9709 1204.94 33.1607 Q1201.54 32.3505 1197.89 32.3505 Q1192.35 32.3505 1189.55 34.0519 Q1186.8 35.7533 1186.8 39.156 Q1186.8 41.7486 1188.78 43.2475 Q1190.77 44.7058 1196.76 46.0426 L1199.31 46.6097 Q1207.25 48.3111 1210.57 51.4303 Q1213.94 54.509 1213.94 60.0587 Q1213.94 66.3781 1208.91 70.0644 Q1203.93 73.7508 1195.18 73.7508 Q1191.54 73.7508 1187.57 73.0216 Q1183.64 72.3329 1179.26 70.9151 L1179.26 63.2184 Q1183.39 65.3654 1187.4 66.4591 Q1191.41 67.5124 1195.34 67.5124 Q1200.61 67.5124 1203.44 65.73 Q1206.28 63.9071 1206.28 60.6258 Q1206.28 57.5877 1204.21 55.9673 Q1202.19 54.3469 1195.26 52.8481 L1192.67 52.2405 Q1185.74 50.7821 1182.66 47.7845 Q1179.58 44.7463 1179.58 39.4801 Q1179.58 33.0797 1184.12 29.5959 Q1188.66 26.1121 1197 26.1121 Q1201.14 26.1121 1204.78 26.7198 Q1208.43 27.3274 1211.51 28.5427 Z\" fill=\"#000000\" fill-rule=\"evenodd\" fill-opacity=\"1\" /><path clip-path=\"url(#clip050)\" d=\"M1275.15 9.54393 L1275.15 15.7418 L1268.02 15.7418 Q1264.01 15.7418 1262.43 17.3622 Q1260.89 18.9825 1260.89 23.1955 L1260.89 27.2059 L1273.16 27.2059 L1273.16 32.9987 L1260.89 32.9987 L1260.89 72.576 L1253.39 72.576 L1253.39 32.9987 L1246.26 32.9987 L1246.26 27.2059 L1253.39 27.2059 L1253.39 24.0462 Q1253.39 16.471 1256.92 13.0277 Q1260.44 9.54393 1268.1 9.54393 L1275.15 9.54393 Z\" fill=\"#000000\" fill-rule=\"evenodd\" fill-opacity=\"1\" /><path clip-path=\"url(#clip050)\" d=\"M1281.38 27.2059 L1288.84 27.2059 L1288.84 72.576 L1281.38 72.576 L1281.38 27.2059 M1281.38 9.54393 L1288.84 9.54393 L1288.84 18.9825 L1281.38 18.9825 L1281.38 9.54393 Z\" fill=\"#000000\" fill-rule=\"evenodd\" fill-opacity=\"1\" /><path clip-path=\"url(#clip050)\" d=\"M1311.81 14.324 L1311.81 27.2059 L1327.16 27.2059 L1327.16 32.9987 L1311.81 32.9987 L1311.81 57.6282 Q1311.81 63.1779 1313.31 64.7578 Q1314.84 66.3376 1319.5 66.3376 L1327.16 66.3376 L1327.16 72.576 L1319.5 72.576 Q1310.87 72.576 1307.59 69.3758 Q1304.31 66.1351 1304.31 57.6282 L1304.31 32.9987 L1298.84 32.9987 L1298.84 27.2059 L1304.31 27.2059 L1304.31 14.324 L1311.81 14.324 Z\" fill=\"#000000\" fill-rule=\"evenodd\" fill-opacity=\"1\" /><path clip-path=\"url(#clip050)\" d=\"M1374.68 45.1919 L1374.68 72.576 L1367.22 72.576 L1367.22 45.4349 Q1367.22 38.994 1364.71 35.7938 Q1362.2 32.5936 1357.18 32.5936 Q1351.14 32.5936 1347.66 36.4419 Q1344.17 40.2903 1344.17 46.9338 L1344.17 72.576 L1336.68 72.576 L1336.68 27.2059 L1344.17 27.2059 L1344.17 34.2544 Q1346.85 30.163 1350.45 28.1376 Q1354.1 26.1121 1358.84 26.1121 Q1366.66 26.1121 1370.67 30.9732 Q1374.68 35.7938 1374.68 45.1919 Z\" fill=\"#000000\" fill-rule=\"evenodd\" fill-opacity=\"1\" /><path clip-path=\"url(#clip050)\" d=\"M1428.35 48.0275 L1428.35 51.6733 L1394.08 51.6733 Q1394.57 59.3701 1398.7 63.421 Q1402.87 67.4314 1410.28 67.4314 Q1414.58 67.4314 1418.59 66.3781 Q1422.64 65.3249 1426.61 63.2184 L1426.61 70.267 Q1422.6 71.9684 1418.39 72.8596 Q1414.17 73.7508 1409.84 73.7508 Q1398.98 73.7508 1392.62 67.4314 Q1386.3 61.1119 1386.3 50.3365 Q1386.3 39.1965 1392.3 32.6746 Q1398.33 26.1121 1408.54 26.1121 Q1417.7 26.1121 1423 32.0264 Q1428.35 37.9003 1428.35 48.0275 M1420.9 45.84 Q1420.82 39.7232 1417.45 36.0774 Q1414.13 32.4315 1408.62 32.4315 Q1402.38 32.4315 1398.62 35.9558 Q1394.89 39.4801 1394.32 45.8805 L1420.9 45.84 Z\" fill=\"#000000\" fill-rule=\"evenodd\" fill-opacity=\"1\" /><path clip-path=\"url(#clip050)\" d=\"M1469.51 28.5427 L1469.51 35.5912 Q1466.35 33.9709 1462.95 33.1607 Q1459.54 32.3505 1455.9 32.3505 Q1450.35 32.3505 1447.55 34.0519 Q1444.8 35.7533 1444.8 39.156 Q1444.8 41.7486 1446.78 43.2475 Q1448.77 44.7058 1454.76 46.0426 L1457.31 46.6097 Q1465.25 48.3111 1468.58 51.4303 Q1471.94 54.509 1471.94 60.0587 Q1471.94 66.3781 1466.92 70.0644 Q1461.93 73.7508 1453.18 73.7508 Q1449.54 73.7508 1445.57 73.0216 Q1441.64 72.3329 1437.26 70.9151 L1437.26 63.2184 Q1441.39 65.3654 1445.41 66.4591 Q1449.42 67.5124 1453.34 67.5124 Q1458.61 67.5124 1461.45 65.73 Q1464.28 63.9071 1464.28 60.6258 Q1464.28 57.5877 1462.22 55.9673 Q1460.19 54.3469 1453.26 52.8481 L1450.67 52.2405 Q1443.74 50.7821 1440.67 47.7845 Q1437.59 44.7463 1437.59 39.4801 Q1437.59 33.0797 1442.12 29.5959 Q1446.66 26.1121 1455.01 26.1121 Q1459.14 26.1121 1462.78 26.7198 Q1466.43 27.3274 1469.51 28.5427 Z\" fill=\"#000000\" fill-rule=\"evenodd\" fill-opacity=\"1\" /><path clip-path=\"url(#clip050)\" d=\"M1512.73 28.5427 L1512.73 35.5912 Q1509.57 33.9709 1506.17 33.1607 Q1502.77 32.3505 1499.12 32.3505 Q1493.57 32.3505 1490.78 34.0519 Q1488.02 35.7533 1488.02 39.156 Q1488.02 41.7486 1490.01 43.2475 Q1491.99 44.7058 1497.99 46.0426 L1500.54 46.6097 Q1508.48 48.3111 1511.8 51.4303 Q1515.16 54.509 1515.16 60.0587 Q1515.16 66.3781 1510.14 70.0644 Q1505.16 73.7508 1496.41 73.7508 Q1492.76 73.7508 1488.79 73.0216 Q1484.86 72.3329 1480.49 70.9151 L1480.49 63.2184 Q1484.62 65.3654 1488.63 66.4591 Q1492.64 67.5124 1496.57 67.5124 Q1501.83 67.5124 1504.67 65.73 Q1507.51 63.9071 1507.51 60.6258 Q1507.51 57.5877 1505.44 55.9673 Q1503.41 54.3469 1496.49 52.8481 L1493.89 52.2405 Q1486.97 50.7821 1483.89 47.7845 Q1480.81 44.7463 1480.81 39.4801 Q1480.81 33.0797 1485.35 29.5959 Q1489.88 26.1121 1498.23 26.1121 Q1502.36 26.1121 1506.01 26.7198 Q1509.65 27.3274 1512.73 28.5427 Z\" fill=\"#000000\" fill-rule=\"evenodd\" fill-opacity=\"1\" /><path clip-path=\"url(#clip050)\" d=\"M1548.06 27.2059 L1555.95 27.2059 L1570.13 65.2844 L1584.31 27.2059 L1592.21 27.2059 L1575.2 72.576 L1565.07 72.576 L1548.06 27.2059 Z\" fill=\"#000000\" fill-rule=\"evenodd\" fill-opacity=\"1\" /><path clip-path=\"url(#clip050)\" d=\"M1623.12 49.7694 Q1614.08 49.7694 1610.6 51.8354 Q1607.12 53.9013 1607.12 58.8839 Q1607.12 62.8538 1609.71 65.2034 Q1612.34 67.5124 1616.84 67.5124 Q1623.04 67.5124 1626.76 63.1374 Q1630.53 58.7219 1630.53 51.4303 L1630.53 49.7694 L1623.12 49.7694 M1637.99 46.6907 L1637.99 72.576 L1630.53 72.576 L1630.53 65.6895 Q1627.98 69.8214 1624.17 71.8063 Q1620.36 73.7508 1614.85 73.7508 Q1607.89 73.7508 1603.76 69.8619 Q1599.66 65.9325 1599.66 59.3701 Q1599.66 51.7138 1604.77 47.825 Q1609.91 43.9361 1620.08 43.9361 L1630.53 43.9361 L1630.53 43.2069 Q1630.53 38.0623 1627.13 35.2672 Q1623.77 32.4315 1617.65 32.4315 Q1613.76 32.4315 1610.07 33.3632 Q1606.39 34.295 1602.99 36.1584 L1602.99 29.2718 Q1607.08 27.692 1610.93 26.9223 Q1614.77 26.1121 1618.42 26.1121 Q1628.26 26.1121 1633.12 31.2163 Q1637.99 36.3204 1637.99 46.6907 Z\" fill=\"#000000\" fill-rule=\"evenodd\" fill-opacity=\"1\" /><path clip-path=\"url(#clip050)\" d=\"M1653.34 9.54393 L1660.79 9.54393 L1660.79 72.576 L1653.34 72.576 L1653.34 9.54393 Z\" fill=\"#000000\" fill-rule=\"evenodd\" fill-opacity=\"1\" /><path clip-path=\"url(#clip050)\" d=\"M1675.62 54.671 L1675.62 27.2059 L1683.07 27.2059 L1683.07 54.3874 Q1683.07 60.8284 1685.58 64.0691 Q1688.09 67.2693 1693.12 67.2693 Q1699.15 67.2693 1702.64 63.421 Q1706.16 59.5726 1706.16 52.9291 L1706.16 27.2059 L1713.62 27.2059 L1713.62 72.576 L1706.16 72.576 L1706.16 65.6084 Q1703.45 69.7404 1699.84 71.7658 Q1696.28 73.7508 1691.54 73.7508 Q1683.72 73.7508 1679.67 68.8897 Q1675.62 64.0286 1675.62 54.671 M1694.37 26.1121 L1694.37 26.1121 Z\" fill=\"#000000\" fill-rule=\"evenodd\" fill-opacity=\"1\" /><path clip-path=\"url(#clip050)\" d=\"M1767.78 48.0275 L1767.78 51.6733 L1733.51 51.6733 Q1733.99 59.3701 1738.12 63.421 Q1742.3 67.4314 1749.71 67.4314 Q1754 67.4314 1758.01 66.3781 Q1762.06 65.3249 1766.03 63.2184 L1766.03 70.267 Q1762.02 71.9684 1757.81 72.8596 Q1753.6 73.7508 1749.26 73.7508 Q1738.41 73.7508 1732.05 67.4314 Q1725.73 61.1119 1725.73 50.3365 Q1725.73 39.1965 1731.72 32.6746 Q1737.76 26.1121 1747.97 26.1121 Q1757.12 26.1121 1762.43 32.0264 Q1767.78 37.9003 1767.78 48.0275 M1760.32 45.84 Q1760.24 39.7232 1756.88 36.0774 Q1753.56 32.4315 1748.05 32.4315 Q1741.81 32.4315 1738.04 35.9558 Q1734.32 39.4801 1733.75 45.8805 L1760.32 45.84 Z\" fill=\"#000000\" fill-rule=\"evenodd\" fill-opacity=\"1\" /><path clip-path=\"url(#clip050)\" d=\"M1808.93 28.5427 L1808.93 35.5912 Q1805.77 33.9709 1802.37 33.1607 Q1798.97 32.3505 1795.32 32.3505 Q1789.77 32.3505 1786.98 34.0519 Q1784.22 35.7533 1784.22 39.156 Q1784.22 41.7486 1786.21 43.2475 Q1788.19 44.7058 1794.19 46.0426 L1796.74 46.6097 Q1804.68 48.3111 1808 51.4303 Q1811.36 54.509 1811.36 60.0587 Q1811.36 66.3781 1806.34 70.0644 Q1801.36 73.7508 1792.61 73.7508 Q1788.96 73.7508 1784.99 73.0216 Q1781.06 72.3329 1776.69 70.9151 L1776.69 63.2184 Q1780.82 65.3654 1784.83 66.4591 Q1788.84 67.5124 1792.77 67.5124 Q1798.04 67.5124 1800.87 65.73 Q1803.71 63.9071 1803.71 60.6258 Q1803.71 57.5877 1801.64 55.9673 Q1799.62 54.3469 1792.69 52.8481 L1790.1 52.2405 Q1783.17 50.7821 1780.09 47.7845 Q1777.01 44.7463 1777.01 39.4801 Q1777.01 33.0797 1781.55 29.5959 Q1786.09 26.1121 1794.43 26.1121 Q1798.56 26.1121 1802.21 26.7198 Q1805.85 27.3274 1808.93 28.5427 Z\" fill=\"#000000\" fill-rule=\"evenodd\" fill-opacity=\"1\" /><polyline clip-path=\"url(#clip052)\" style=\"stroke:#009af9; stroke-linecap:round; stroke-linejoin:round; stroke-width:12; stroke-opacity:1; fill:none\" points=\"233.734,162.047 336.599,811.268 439.464,1419.72 542.329,1424.07 645.194,1447.81 748.06,1447.81 850.925,1447.86 953.79,1447.87 1056.66,1447.87 1159.52,1447.87 1262.39,1447.87 1365.25,1447.87 1468.12,1447.87 1570.98,1447.87 1673.85,1447.87 1776.71,1447.87 1879.58,1447.87 1982.44,1447.87 2085.31,1447.87 2188.17,1447.87 2291.04,1447.87 \"/>\n",
       "<path clip-path=\"url(#clip050)\" d=\"M1966.44 272.585 L2280.06 272.585 L2280.06 168.905 L1966.44 168.905  Z\" fill=\"#ffffff\" fill-rule=\"evenodd\" fill-opacity=\"1\"/>\n",
       "<polyline clip-path=\"url(#clip050)\" style=\"stroke:#000000; stroke-linecap:round; stroke-linejoin:round; stroke-width:4; stroke-opacity:1; fill:none\" points=\"1966.44,272.585 2280.06,272.585 2280.06,168.905 1966.44,168.905 1966.44,272.585 \"/>\n",
       "<polyline clip-path=\"url(#clip050)\" style=\"stroke:#009af9; stroke-linecap:round; stroke-linejoin:round; stroke-width:12; stroke-opacity:1; fill:none\" points=\"1990.67,220.745 2136.05,220.745 \"/>\n",
       "<path clip-path=\"url(#clip050)\" d=\"M2160.28 203.465 L2164.95 203.465 L2164.95 217.631 L2181.95 217.631 L2181.95 203.465 L2186.62 203.465 L2186.62 238.025 L2181.95 238.025 L2181.95 221.566 L2164.95 221.566 L2164.95 238.025 L2160.28 238.025 L2160.28 203.465 Z\" fill=\"#000000\" fill-rule=\"evenodd\" fill-opacity=\"1\" /><path clip-path=\"url(#clip050)\" d=\"M2200.6 221.52 L2200.6 234.182 L2208.1 234.182 Q2211.88 234.182 2213.68 232.631 Q2215.51 231.057 2215.51 227.84 Q2215.51 224.599 2213.68 223.071 Q2211.88 221.52 2208.1 221.52 L2200.6 221.52 M2200.6 207.307 L2200.6 217.724 L2207.52 217.724 Q2210.95 217.724 2212.62 216.451 Q2214.31 215.154 2214.31 212.516 Q2214.31 209.9 2212.62 208.604 Q2210.95 207.307 2207.52 207.307 L2200.6 207.307 M2195.93 203.465 L2207.87 203.465 Q2213.22 203.465 2216.11 205.687 Q2219.01 207.909 2219.01 212.006 Q2219.01 215.178 2217.52 217.053 Q2216.04 218.928 2213.17 219.39 Q2216.62 220.131 2218.52 222.492 Q2220.44 224.83 2220.44 228.349 Q2220.44 232.978 2217.29 235.502 Q2214.14 238.025 2208.33 238.025 L2195.93 238.025 L2195.93 203.465 Z\" fill=\"#000000\" fill-rule=\"evenodd\" fill-opacity=\"1\" /><path clip-path=\"url(#clip050)\" d=\"M2240 208.071 L2233.66 225.27 L2246.37 225.27 L2240 208.071 M2237.36 203.465 L2242.66 203.465 L2255.83 238.025 L2250.97 238.025 L2247.82 229.159 L2232.25 229.159 L2229.1 238.025 L2224.17 238.025 L2237.36 203.465 Z\" fill=\"#000000\" fill-rule=\"evenodd\" fill-opacity=\"1\" /></svg>\n"
      ]
     },
     "execution_count": 25,
     "metadata": {},
     "output_type": "execute_result"
    }
   ],
   "source": [
    "#import Random: seed!\n",
    "\n",
    "#seed!(0) # set random seed for reproducible results\n",
    "\n",
    "#dimensions\n",
    "d = 30\n",
    "#lower bound\n",
    "a = -5.12\n",
    "#upper bound\n",
    "b = 5.12\n",
    "# population size\n",
    "N = 50\n",
    "#iterations\n",
    "t_max = 20\n",
    "#constant beta\n",
    "beta = 6\n",
    "#constant C\n",
    "C = 2\n",
    "#generate honey badgers\n",
    "x = rand_population_uniform(N, d, a, b)\n",
    "\n",
    "#println(\"intitial population: \", x)\n",
    "x_prey, f_prey, fitness_values = honey_badger_algorithm(t_max, N, beta, C, x, obj_func)\n",
    "println(\"best solution: \", x_prey, \" fitness: \", f_prey)\n",
    "\n",
    "println(\"****Convergennce Graph****\")\n",
    "x_val = first.(fitness_values)\n",
    "y_val = last.(fitness_values)\n",
    "println(x_val)\n",
    "println(y_val)\n",
    "\n",
    "plot(x_val, y_val, title=\"iterations vs fitness values\", label=\"HBA\", linewidth=3)\n",
    "\n",
    "\n"
   ]
  },
  {
   "cell_type": "code",
   "execution_count": 29,
   "id": "e3d83fe9",
   "metadata": {},
   "outputs": [
    {
     "name": "stdout",
     "output_type": "stream",
     "text": [
      "fitness: 492.96094056447\n",
      "fitness: -0.0\n",
      "fitness: -0.0\n",
      "fitness: -0.0\n",
      "fitness: -0.0\n",
      "fitness: -0.0\n",
      "fitness: -0.0\n",
      "fitness: -0.0\n",
      "fitness: -0.0\n",
      "fitness: -0.0\n",
      "fitness: -0.0\n",
      "fitness: -0.0\n",
      "fitness: -0.0\n",
      "fitness: -0.0\n",
      "fitness: -0.0\n",
      "fitness: -0.0\n",
      "fitness: -0.0\n",
      "fitness: -0.0\n",
      "fitness: -0.0\n",
      "fitness: -0.0\n",
      "fitness: -0.0\n",
      "fitness: -0.0\n",
      "fitness: -0.0\n",
      "fitness: -0.0\n",
      "fitness: -0.0\n",
      "fitness: -0.0\n",
      "fitness: -0.0\n",
      "fitness: -0.0\n",
      "fitness: -0.0\n",
      "fitness: -0.0\n",
      "Any[-0.0, -0.0, -0.0, -0.0, -0.0, -0.0, -0.0, -0.0, -0.0, -0.0, -0.0, -0.0, -0.0, -0.0, -0.0, -0.0, -0.0, -0.0, -0.0, -0.0, -0.0, -0.0, -0.0, -0.0, -0.0, -0.0, -0.0, -0.0, -0.0, -0.0]\n"
     ]
    }
   ],
   "source": [
    "#import Random: seed!\n",
    "\n",
    "#seed!(0) # set random seed for reproducible results\n",
    "\n",
    "#dimensions\n",
    "d = 30\n",
    "#lower bound\n",
    "a = -5.12\n",
    "#upper bound\n",
    "b = 5.12\n",
    "# population size\n",
    "N = 50\n",
    "#iterations\n",
    "t_max = 20\n",
    "#constant beta\n",
    "beta = 6\n",
    "#constant C\n",
    "C = 2\n",
    "#generate honey badgers\n",
    "x = rand_population_uniform(N, d, a, b)\n",
    "\n",
    "#println(\"intitial population: \", x)\n",
    "best_fitness = []\n",
    "for i in 1:30\n",
    "    x_prey, f_prey, fitness_values = honey_badger_algorithm(t_max, N, beta, C, x, obj_func)\n",
    "    #println(\"best solution: \", x_prey, \" fitness: \", f_prey)\n",
    "    push!(best_fitness,f_prey)\n",
    "end\n",
    "\n",
    "println(best_fitness)\n"
   ]
  },
  {
   "cell_type": "code",
   "execution_count": 46,
   "id": "588090cb",
   "metadata": {},
   "outputs": [
    {
     "name": "stdout",
     "output_type": "stream",
     "text": [
      "Bo\n"
     ]
    }
   ],
   "source": [
    "I = 1/0\n",
    "if isinf(I)\n",
    "    println(\"Bo\")\n",
    "end"
   ]
  },
  {
   "cell_type": "code",
   "execution_count": 63,
   "id": "8a692a17",
   "metadata": {},
   "outputs": [
    {
     "data": {
      "text/plain": [
       "0.5"
      ]
     },
     "execution_count": 63,
     "metadata": {},
     "output_type": "execute_result"
    }
   ],
   "source": [
    "x =[2,3]\n",
    "matyas2(x)"
   ]
  },
  {
   "cell_type": "code",
   "execution_count": 65,
   "id": "baaaebe9",
   "metadata": {},
   "outputs": [
    {
     "data": {
      "text/plain": [
       "0.5"
      ]
     },
     "execution_count": 65,
     "metadata": {},
     "output_type": "execute_result"
    }
   ],
   "source": [
    "+3.38 - 2.88"
   ]
  },
  {
   "cell_type": "code",
   "execution_count": null,
   "id": "e20a7f4a",
   "metadata": {},
   "outputs": [],
   "source": [
    "# Honey Badger Algorithm\n",
    "\n",
    "function honey_badger_algorithm_beta(t_max, N, beta, C, x, obj_func)\n",
    "    # t_max = maximum no of iterations\n",
    "    # N = population size\n",
    "    # beta = default value as 6\n",
    "    # C = default value as 2\n",
    "    # x = initial population\n",
    "    # obj_func = benchmark function\n",
    "    # f = fitness of the population\n",
    "    # x_prey = best position found so far\n",
    "    # f_prey = best fitness value so far for the x_prey\n",
    "    # x_new = new position calculated for the ith honey badger\n",
    "    # f_new = new fitness calculated for the ith honey badger\n",
    "    # I = intensity of the honey badger\n",
    "    # F = disturbance direction\n",
    "    \n",
    "    #calucalte the fitness of each honey badger\n",
    "    f = obj_func.(x)\n",
    "    #println(\"fitness vecor: \", f)\n",
    "    \n",
    "    #save best posiiton and fitness\n",
    "    f_prey, x_prey_index = findmin(f)\n",
    "    x_prey = x[x_prey_index]\n",
    "    #println(\"best solution: \", x_prey, \" fitness: \", f_prey)\n",
    "    println(\"fitness: \", f_prey)\n",
    "    \n",
    "    for t in 1:t_max\n",
    "        \n",
    "        println(\"iteration: \", t)\n",
    "        \n",
    "        #calculate the density factor / decreasing factor\n",
    "        alpha = C * exp(-t / t_max)\n",
    "        #println(\"alpha: \", alpha)\n",
    "        \n",
    "        #calcualte the intensity of the all honey badgers\n",
    "        #I = intensity(N, x, x_prey)\n",
    "        #println(\"Intensity: \", I)\n",
    "        \n",
    "        for i in 1:N\n",
    "            \n",
    "            #println(\"Honey badger #: \", i)\n",
    "            \n",
    "            #calcuate distance between prey and ith honey badger\n",
    "            d = x_prey - x[i]\n",
    "            \n",
    "            if i!=N\n",
    "                di = euclidean(x[i], x_prey) ^ 2\n",
    "                si = euclidean(x[i],x[i+1]) ^ 2\n",
    "            else\n",
    "                di = euclidean(x[i], x_prey) ^ 2\n",
    "                si = euclidean(x[i],x[1]) ^ 2\n",
    "            end\n",
    "            \n",
    "            r2 = rand(Uniform(0,1))\n",
    "            I = r2 * si / (4 * π * di )\n",
    "            \n",
    "            #generate disturbance\n",
    "            r6 = rand(Uniform(0,1))\n",
    "            if r6<=0.5\n",
    "                F = 1\n",
    "            else\n",
    "                F = -1\n",
    "            end\n",
    "            \n",
    "            \n",
    "            #generate a random value to deicde between digging vs honey mode\n",
    "            r2 = rand(Uniform(0,1))\n",
    "            \n",
    "            #TODO : if intensity is infinite then go for honey mode\n",
    "            if isinf(I)\n",
    "                r2 = 0.9\n",
    "            end\n",
    "            \n",
    "            if r2<0.5\n",
    "                # digging mode\n",
    "                #println(\"Digging mode\")\n",
    "                r3 = rand(Uniform(0,1))\n",
    "                r4 = rand(Uniform(0,1))\n",
    "                r5 = rand(Uniform(0,1))\n",
    "                #println(\"Intensity: \", I[i])\n",
    "                #p = abs(cos(2*π*r4) * (1 - cos(2*π*r5)))\n",
    "                #println(\"cos value: \", p)\n",
    "                x_new = x_prey + (F * beta * I * x_prey) + (F * r3 * alpha * d * abs(cos(2*π*r4) * (1 - cos(2*π*r5))))\n",
    "                f_new = obj_func(x_new)\n",
    "            \n",
    "            else\n",
    "                # honey node\n",
    "                #println(\"Honey mode\")\n",
    "                r7 = rand(Uniform(0,1))\n",
    "                x_new = x_prey + (F * r7 * alpha * d)\n",
    "                f_new = obj_func(x_new)\n",
    "            end\n",
    "            \n",
    "            #TODO: mange xnew to be within the bounds\n",
    "            \n",
    "            # evaluate the new posiiton and fitness values\n",
    "            \n",
    "            #local position update\n",
    "            if f_new < f[i]\n",
    "                #println(\"local position is improved\")\n",
    "                #println(\"values\", x[i], \";\", x_new, \";\", f[i], \";\", f_new  )\n",
    "                x[i] = x_new\n",
    "                f[i] = f_new\n",
    "                \n",
    "                #println(\"local position is improved fin\")\n",
    "            end\n",
    "            \n",
    "            #prey position update\n",
    "            if f_new < f_prey\n",
    "                println(\"prey position is improved with honey badger # \", i)\n",
    "                x_prey = x_new\n",
    "                f_prey = f_new\n",
    "            end\n",
    "            \n",
    "        end\n",
    "        println(\"fitness: \", f_prey)\n",
    "    end\n",
    "   return x_prey, f_prey \n",
    "end\n",
    "    "
   ]
  }
 ],
 "metadata": {
  "kernelspec": {
   "display_name": "Julia 1.8.5",
   "language": "julia",
   "name": "julia-1.8"
  },
  "language_info": {
   "file_extension": ".jl",
   "mimetype": "application/julia",
   "name": "julia",
   "version": "1.8.5"
  }
 },
 "nbformat": 4,
 "nbformat_minor": 5
}
