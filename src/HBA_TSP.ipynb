{
 "cells": [
  {
   "cell_type": "code",
   "execution_count": 6,
   "id": "42ae37cb",
   "metadata": {},
   "outputs": [
    {
     "name": "stderr",
     "output_type": "stream",
     "text": [
      "\u001b[32m\u001b[1m    Updating\u001b[22m\u001b[39m registry at `C:\\Users\\Sumit Singh\\.julia\\registries\\General.toml`\n",
      "\u001b[32m\u001b[1m   Resolving\u001b[22m\u001b[39m package versions...\n",
      "\u001b[32m\u001b[1m   Installed\u001b[22m\u001b[39m ContextVariablesX ────── v0.1.3\n",
      "\u001b[32m\u001b[1m   Installed\u001b[22m\u001b[39m cuDNN ────────────────── v1.0.2\n",
      "\u001b[32m\u001b[1m   Installed\u001b[22m\u001b[39m FunctionWrappers ─────── v1.1.3\n",
      "\u001b[32m\u001b[1m   Installed\u001b[22m\u001b[39m NNlibCUDA ────────────── v0.2.7\n",
      "\u001b[32m\u001b[1m   Installed\u001b[22m\u001b[39m Accessors ────────────── v0.1.28\n",
      "\u001b[32m\u001b[1m   Installed\u001b[22m\u001b[39m CUDA_Runtime_jll ─────── v0.5.0+2\n",
      "\u001b[32m\u001b[1m   Installed\u001b[22m\u001b[39m BFloat16s ────────────── v0.4.2\n",
      "\u001b[32m\u001b[1m   Installed\u001b[22m\u001b[39m ShowCases ────────────── v0.1.0\n",
      "\u001b[32m\u001b[1m   Installed\u001b[22m\u001b[39m Optimisers ───────────── v0.2.18\n",
      "\u001b[32m\u001b[1m   Installed\u001b[22m\u001b[39m PrettyPrint ──────────── v0.2.0\n",
      "\u001b[32m\u001b[1m   Installed\u001b[22m\u001b[39m MLUtils ──────────────── v0.4.1\n",
      "\u001b[32m\u001b[1m   Installed\u001b[22m\u001b[39m RandomNumbers ────────── v1.5.3\n",
      "\u001b[32m\u001b[1m   Installed\u001b[22m\u001b[39m NNlib ────────────────── v0.8.20\n",
      "\u001b[32m\u001b[1m   Installed\u001b[22m\u001b[39m Functors ─────────────── v0.4.4\n",
      "\u001b[32m\u001b[1m   Installed\u001b[22m\u001b[39m CUDA_Driver_jll ──────── v0.5.0+1\n",
      "\u001b[32m\u001b[1m   Installed\u001b[22m\u001b[39m FLoopsBase ───────────── v0.1.1\n",
      "\u001b[32m\u001b[1m   Installed\u001b[22m\u001b[39m CUDA_Runtime_Discovery ─ v0.2.2\n",
      "\u001b[32m\u001b[1m   Installed\u001b[22m\u001b[39m ProgressLogging ──────── v0.1.4\n",
      "\u001b[32m\u001b[1m   Installed\u001b[22m\u001b[39m OneHotArrays ─────────── v0.2.3\n",
      "\u001b[32m\u001b[1m   Installed\u001b[22m\u001b[39m NameResolution ───────── v0.1.5\n",
      "\u001b[32m\u001b[1m   Installed\u001b[22m\u001b[39m Random123 ────────────── v1.6.0\n",
      "\u001b[32m\u001b[1m   Installed\u001b[22m\u001b[39m UnsafeAtomics ────────── v0.2.1\n",
      "\u001b[32m\u001b[1m   Installed\u001b[22m\u001b[39m KernelAbstractions ───── v0.9.2\n",
      "\u001b[32m\u001b[1m   Installed\u001b[22m\u001b[39m UnsafeAtomicsLLVM ────── v0.1.1\n",
      "\u001b[32m\u001b[1m   Installed\u001b[22m\u001b[39m JuliaVariables ───────── v0.2.4\n",
      "\u001b[32m\u001b[1m   Installed\u001b[22m\u001b[39m FLoops ───────────────── v0.2.1\n",
      "\u001b[32m\u001b[1m   Installed\u001b[22m\u001b[39m MLStyle ──────────────── v0.4.17\n",
      "\u001b[32m\u001b[1m   Installed\u001b[22m\u001b[39m SimpleTraits ─────────── v0.9.4\n",
      "\u001b[32m\u001b[1m   Installed\u001b[22m\u001b[39m Flux ─────────────────── v0.13.15\n",
      "\u001b[32m\u001b[1m   Installed\u001b[22m\u001b[39m GPUCompiler ──────────── v0.18.0\n",
      "\u001b[32m\u001b[1m   Installed\u001b[22m\u001b[39m Atomix ───────────────── v0.1.0\n",
      "\u001b[32m\u001b[1m   Installed\u001b[22m\u001b[39m CUDNN_jll ────────────── v8.8.1+0\n",
      "\u001b[32m\u001b[1m   Installed\u001b[22m\u001b[39m FoldsThreads ─────────── v0.1.1\n",
      "\u001b[32m\u001b[1m   Installed\u001b[22m\u001b[39m CUDA ─────────────────── v4.1.2\n",
      "\u001b[32m\u001b[1m    Updating\u001b[22m\u001b[39m `C:\\Users\\Sumit Singh\\.julia\\environments\\v1.8\\Project.toml`\n",
      " \u001b[90m [587475ba] \u001b[39m\u001b[92m+ Flux v0.13.15\u001b[39m\n",
      "\u001b[32m\u001b[1m    Updating\u001b[22m\u001b[39m `C:\\Users\\Sumit Singh\\.julia\\environments\\v1.8\\Manifest.toml`\n",
      " \u001b[90m [7d9f7c33] \u001b[39m\u001b[92m+ Accessors v0.1.28\u001b[39m\n",
      " \u001b[90m [a9b6321e] \u001b[39m\u001b[92m+ Atomix v0.1.0\u001b[39m\n",
      " \u001b[90m [ab4f0b2a] \u001b[39m\u001b[92m+ BFloat16s v0.4.2\u001b[39m\n",
      "\u001b[32m⌃\u001b[39m\u001b[90m [052768ef] \u001b[39m\u001b[92m+ CUDA v4.1.2\u001b[39m\n",
      " \u001b[90m [1af6417a] \u001b[39m\u001b[92m+ CUDA_Runtime_Discovery v0.2.2\u001b[39m\n",
      " \u001b[90m [6add18c4] \u001b[39m\u001b[92m+ ContextVariablesX v0.1.3\u001b[39m\n",
      " \u001b[90m [cc61a311] \u001b[39m\u001b[92m+ FLoops v0.2.1\u001b[39m\n",
      " \u001b[90m [b9860ae5] \u001b[39m\u001b[92m+ FLoopsBase v0.1.1\u001b[39m\n",
      " \u001b[90m [587475ba] \u001b[39m\u001b[92m+ Flux v0.13.15\u001b[39m\n",
      " \u001b[90m [9c68100b] \u001b[39m\u001b[92m+ FoldsThreads v0.1.1\u001b[39m\n",
      " \u001b[90m [069b7b12] \u001b[39m\u001b[92m+ FunctionWrappers v1.1.3\u001b[39m\n",
      " \u001b[90m [d9f16b24] \u001b[39m\u001b[92m+ Functors v0.4.4\u001b[39m\n",
      "\u001b[33m⌅\u001b[39m\u001b[90m [61eb1bfa] \u001b[39m\u001b[92m+ GPUCompiler v0.18.0\u001b[39m\n",
      " \u001b[90m [b14d175d] \u001b[39m\u001b[92m+ JuliaVariables v0.2.4\u001b[39m\n",
      " \u001b[90m [63c18a36] \u001b[39m\u001b[92m+ KernelAbstractions v0.9.2\u001b[39m\n",
      " \u001b[90m [d8e11817] \u001b[39m\u001b[92m+ MLStyle v0.4.17\u001b[39m\n",
      " \u001b[90m [f1d291b0] \u001b[39m\u001b[92m+ MLUtils v0.4.1\u001b[39m\n",
      " \u001b[90m [872c559c] \u001b[39m\u001b[92m+ NNlib v0.8.20\u001b[39m\n",
      " \u001b[90m [a00861dc] \u001b[39m\u001b[92m+ NNlibCUDA v0.2.7\u001b[39m\n",
      " \u001b[90m [71a1bf82] \u001b[39m\u001b[92m+ NameResolution v0.1.5\u001b[39m\n",
      " \u001b[90m [0b1bfda6] \u001b[39m\u001b[92m+ OneHotArrays v0.2.3\u001b[39m\n",
      " \u001b[90m [3bd65402] \u001b[39m\u001b[92m+ Optimisers v0.2.18\u001b[39m\n",
      " \u001b[90m [8162dcfd] \u001b[39m\u001b[92m+ PrettyPrint v0.2.0\u001b[39m\n",
      " \u001b[90m [33c8b6b6] \u001b[39m\u001b[92m+ ProgressLogging v0.1.4\u001b[39m\n",
      " \u001b[90m [74087812] \u001b[39m\u001b[92m+ Random123 v1.6.0\u001b[39m\n",
      " \u001b[90m [e6cf234a] \u001b[39m\u001b[92m+ RandomNumbers v1.5.3\u001b[39m\n",
      " \u001b[90m [605ecd9f] \u001b[39m\u001b[92m+ ShowCases v0.1.0\u001b[39m\n",
      " \u001b[90m [699a6c99] \u001b[39m\u001b[92m+ SimpleTraits v0.9.4\u001b[39m\n",
      " \u001b[90m [013be700] \u001b[39m\u001b[92m+ UnsafeAtomics v0.2.1\u001b[39m\n",
      "\u001b[32m⌃\u001b[39m\u001b[90m [d80eeb9a] \u001b[39m\u001b[92m+ UnsafeAtomicsLLVM v0.1.1\u001b[39m\n",
      " \u001b[90m [02a925ec] \u001b[39m\u001b[92m+ cuDNN v1.0.2\u001b[39m\n",
      " \u001b[90m [4ee394cb] \u001b[39m\u001b[92m+ CUDA_Driver_jll v0.5.0+1\u001b[39m\n",
      " \u001b[90m [76a88914] \u001b[39m\u001b[92m+ CUDA_Runtime_jll v0.5.0+2\u001b[39m\n",
      " \u001b[90m [62b44479] \u001b[39m\u001b[92m+ CUDNN_jll v8.8.1+0\u001b[39m\n",
      "\u001b[36m\u001b[1m        Info\u001b[22m\u001b[39m Packages marked with \u001b[32m⌃\u001b[39m and \u001b[33m⌅\u001b[39m have new versions available, but those with \u001b[33m⌅\u001b[39m are restricted by compatibility constraints from upgrading. To see why use `status --outdated -m`\n",
      "\u001b[32m\u001b[1mPrecompiling\u001b[22m\u001b[39m project...\n",
      "\u001b[32m  ✓ \u001b[39m\u001b[90mFunctionWrappers\u001b[39m\n",
      "\u001b[32m  ✓ \u001b[39m\u001b[90mContextVariablesX\u001b[39m\n",
      "\u001b[32m  ✓ \u001b[39m\u001b[90mProgressLogging\u001b[39m\n",
      "\u001b[32m  ✓ \u001b[39m\u001b[90mPrettyPrint\u001b[39m\n",
      "\u001b[32m  ✓ \u001b[39m\u001b[90mUnsafeAtomics\u001b[39m\n",
      "\u001b[32m  ✓ \u001b[39m\u001b[90mShowCases\u001b[39m\n",
      "\u001b[32m  ✓ \u001b[39m\u001b[90mFunctors\u001b[39m\n",
      "\u001b[32m  ✓ \u001b[39m\u001b[90mBFloat16s\u001b[39m\n",
      "\u001b[32m  ✓ \u001b[39m\u001b[90mCUDA_Runtime_Discovery\u001b[39m\n",
      "\u001b[32m  ✓ \u001b[39m\u001b[90mRandomNumbers\u001b[39m\n",
      "\u001b[32m  ✓ \u001b[39m\u001b[90mSimpleTraits\u001b[39m\n",
      "\u001b[32m  ✓ \u001b[39m\u001b[90mAccessors\u001b[39m\n",
      "\u001b[32m  ✓ \u001b[39m\u001b[90mCUDNN_jll\u001b[39m\n",
      "\u001b[32m  ✓ \u001b[39m\u001b[90mFLoopsBase\u001b[39m\n",
      "\u001b[32m  ✓ \u001b[39m\u001b[90mNameResolution\u001b[39m\n",
      "\u001b[32m  ✓ \u001b[39m\u001b[90mAtomix\u001b[39m\n",
      "\u001b[32m  ✓ \u001b[39m\u001b[90mOptimisers\u001b[39m\n",
      "\u001b[32m  ✓ \u001b[39m\u001b[90mUnsafeAtomicsLLVM\u001b[39m\n",
      "\u001b[32m  ✓ \u001b[39m\u001b[90mRandom123\u001b[39m\n",
      "\u001b[32m  ✓ \u001b[39m\u001b[90mMLStyle\u001b[39m\n",
      "\u001b[32m  ✓ \u001b[39m\u001b[90mGPUCompiler\u001b[39m\n",
      "\u001b[32m  ✓ \u001b[39m\u001b[90mFoldsThreads\u001b[39m\n",
      "\u001b[32m  ✓ \u001b[39m\u001b[90mKernelAbstractions\u001b[39m\n",
      "\u001b[32m  ✓ \u001b[39m\u001b[90mJuliaVariables\u001b[39m\n",
      "\u001b[32m  ✓ \u001b[39m\u001b[90mFLoops\u001b[39m\n",
      "\u001b[32m  ✓ \u001b[39m\u001b[90mNNlib\u001b[39m\n",
      "\u001b[32m  ✓ \u001b[39m\u001b[90mOneHotArrays\u001b[39m\n",
      "\u001b[32m  ✓ \u001b[39m\u001b[90mMLUtils\u001b[39m\n",
      "\u001b[32m  ✓ \u001b[39m\u001b[90mCUDA\u001b[39m\n",
      "\u001b[32m  ✓ \u001b[39m\u001b[90mcuDNN\u001b[39m\n",
      "\u001b[32m  ✓ \u001b[39m\u001b[90mNNlibCUDA\u001b[39m\n",
      "\u001b[32m  ✓ \u001b[39mFlux\n",
      "  32 dependencies successfully precompiled in 149 seconds. 270 already precompiled.\n"
     ]
    }
   ],
   "source": [
    "import Pkg;\n",
    "Pkg.add(\"Flux\")"
   ]
  },
  {
   "cell_type": "code",
   "execution_count": 2,
   "id": "432856ce",
   "metadata": {},
   "outputs": [],
   "source": [
    "#getting libraries\n",
    "using Distributions\n",
    "using Distances\n",
    "using Random\n",
    "using Plots\n",
    "using Statistics\n",
    "using Flux\n",
    "using TSPLIB"
   ]
  },
  {
   "cell_type": "code",
   "execution_count": 3,
   "id": "2ceb1771",
   "metadata": {},
   "outputs": [
    {
     "name": "stdout",
     "output_type": "stream",
     "text": [
      "[0.12382390198080073 0.935707723425181 0.13336730279640585 0.1710681160240638 0.7755295181609309 0.7509572833875681 0.6361694289247217; 0.6873402796293456 0.7815437078376797 0.9494263555469712 0.774293027841834 0.4210927227267457 0.6107808139175459 0.8920756075111501]\n"
     ]
    },
    {
     "data": {
      "text/plain": [
       "7×7 Matrix{Float64}:\n",
       " 0.0        0.817331  0.26226   0.0989586  0.703994  0.631789  0.551738\n",
       " 0.817331   0.0       0.819716  0.764674   0.394439  0.25158   0.319281\n",
       " 0.26226    0.819716  0.0       0.179145   0.83157   0.704342  0.506062\n",
       " 0.0989586  0.764674  0.179145  0.0        0.700089  0.602501  0.479783\n",
       " 0.703994   0.394439  0.83157   0.700089   0.0       0.191273  0.491168\n",
       " 0.631789   0.25158   0.704342  0.602501   0.191273  0.0       0.303814\n",
       " 0.551738   0.319281  0.506062  0.479783   0.491168  0.303814  0.0"
      ]
     },
     "execution_count": 3,
     "metadata": {},
     "output_type": "execute_result"
    }
   ],
   "source": [
    "# 2d-world\n",
    "n=7 # cities\n",
    "\n",
    "# create n cities in a 1x1 square\n",
    "x = rand(2,n) \n",
    "\n",
    "println(x)\n",
    "# compute Euclidean distance between cities \n",
    "distances=pairwise(Euclidean(), x, dims=2)"
   ]
  },
  {
   "cell_type": "code",
   "execution_count": 14,
   "id": "ecbd9d37",
   "metadata": {},
   "outputs": [
    {
     "name": "stdout",
     "output_type": "stream",
     "text": [
      "[1.0 153.0 510.0 706.0 966.0 581.0 455.0 70.0 160.0 372.0 157.0 567.0 342.0 398.0; 153.0 1.0 422.0 664.0 997.0 598.0 507.0 197.0 311.0 479.0 310.0 581.0 417.0 376.0; 510.0 422.0 1.0 289.0 744.0 390.0 437.0 491.0 645.0 880.0 618.0 374.0 455.0 211.0; 706.0 664.0 289.0 1.0 491.0 265.0 410.0 664.0 804.0 1070.0 768.0 259.0 499.0 310.0; 966.0 997.0 744.0 491.0 1.0 400.0 514.0 902.0 990.0 1261.0 947.0 418.0 635.0 636.0; 581.0 598.0 390.0 265.0 400.0 1.0 168.0 522.0 634.0 910.0 593.0 19.0 284.0 239.0; 455.0 507.0 437.0 410.0 514.0 168.0 1.0 389.0 482.0 757.0 439.0 163.0 124.0 232.0; 70.0 197.0 491.0 664.0 902.0 522.0 389.0 1.0 154.0 406.0 133.0 508.0 273.0 355.0; 160.0 311.0 645.0 804.0 990.0 634.0 482.0 154.0 1.0 276.0 43.0 623.0 358.0 498.0; 372.0 479.0 880.0 1070.0 1261.0 910.0 757.0 406.0 276.0 1.0 318.0 898.0 633.0 761.0; 157.0 310.0 618.0 768.0 947.0 593.0 439.0 133.0 43.0 318.0 1.0 582.0 315.0 464.0; 567.0 581.0 374.0 259.0 418.0 19.0 163.0 508.0 623.0 898.0 582.0 1.0 275.0 221.0; 342.0 417.0 455.0 499.0 635.0 284.0 124.0 273.0 358.0 633.0 315.0 275.0 1.0 247.0; 398.0 376.0 211.0 310.0 636.0 239.0 232.0 355.0 498.0 761.0 464.0 221.0 247.0 1.0]\n",
      "# of cities: 14\n",
      "Optimal value: 3323.0\n"
     ]
    }
   ],
   "source": [
    "tsp = readTSPLIB(:burma14)\n",
    "distances = tsp.weights\n",
    "println(distances)\n",
    "\n",
    "# 2d-world\n",
    "n=tsp.dimension # cities\n",
    "println(\"# of cities: \", n)\n",
    "\n",
    "# optimal value\n",
    "println(\"Optimal value: \", tsp.optimal)"
   ]
  },
  {
   "cell_type": "code",
   "execution_count": 13,
   "id": "bcf47e37",
   "metadata": {},
   "outputs": [
    {
     "name": "stdout",
     "output_type": "stream",
     "text": [
      "# of cities: 2000\n"
     ]
    }
   ],
   "source": [
    "path = \"C:\\\\Users\\\\Sumit Singh\\\\Desktop\\\\NCSU\\\\Spring 2023\\\\CSC 591 Metaheuristics\\\\Project\\\\Code\\\\Art2k.tsp\"\n",
    "tsp = readTSP(path)\n",
    "\n",
    "distances = tsp.weights\n",
    "\n",
    "n=tsp.dimension # cities\n",
    "println(\"# of cities: \", n)"
   ]
  },
  {
   "cell_type": "code",
   "execution_count": 4,
   "id": "20f76640",
   "metadata": {},
   "outputs": [
    {
     "data": {
      "text/plain": [
       "cum_probabilities (generic function with 1 method)"
      ]
     },
     "execution_count": 4,
     "metadata": {},
     "output_type": "execute_result"
    }
   ],
   "source": [
    "# Define a function to calculate the cumulative probabilities\n",
    "function cum_probabilities(solution, tour, distances)\n",
    "    # Initialize an array of zeros to store the probabilities\n",
    "    probs = zeros(length(solution))\n",
    "    \n",
    "    # Calculate the probabilities for each city\n",
    "    for i in 1:length(solution)\n",
    "        if i ∉ tour\n",
    "            probs[i] = (solution[i])  * (1/distances[tour[end], i])\n",
    "        end\n",
    "    end\n",
    "    \n",
    "    probs /= sum(probs)\n",
    "    \n",
    "    # Calculate the cumulative probabilities\n",
    "    cum_probs = cumsum(probs)\n",
    "    \n",
    "    return cum_probs\n",
    "end\n"
   ]
  },
  {
   "cell_type": "code",
   "execution_count": 5,
   "id": "65a52d64",
   "metadata": {},
   "outputs": [
    {
     "data": {
      "text/plain": [
       "select_city (generic function with 1 method)"
      ]
     },
     "execution_count": 5,
     "metadata": {},
     "output_type": "execute_result"
    }
   ],
   "source": [
    "# Define a function to select the next city based on the probabilities\n",
    "function select_city(cum_probs)\n",
    "    # Generate a random number between 0 and 1\n",
    "    r = rand()\n",
    "    \n",
    "    #println(\"random value: \", r)\n",
    "    # Find the index of the first cumulative probability that is greater than r\n",
    "    index = findfirst(cum_probs .>= r)\n",
    "    #println(\"next city: \", index)\n",
    "    return index\n",
    "end\n"
   ]
  },
  {
   "cell_type": "code",
   "execution_count": 6,
   "id": "7f372fcf",
   "metadata": {},
   "outputs": [
    {
     "data": {
      "text/plain": [
       "generateTour (generic function with 1 method)"
      ]
     },
     "execution_count": 6,
     "metadata": {},
     "output_type": "execute_result"
    }
   ],
   "source": [
    "#generate tour function\n",
    "\n",
    "function generateTour(solution)\n",
    "    \n",
    "    #println(\"New Tour..\")\n",
    "    # Initialize the tour as an array of zeros\n",
    "    tour = zeros(Int, n)\n",
    "\n",
    "    # Set the first city as the one with the smallest value in the solution\n",
    "    tour[1] = argmin(solution)\n",
    "    \n",
    "    # Generate the rest of the tour using the cumulative probabilities\n",
    "    for i in 2:n\n",
    "        # Calculate the cumulative probabilities\n",
    "        cum_probs = cum_probabilities(solution, tour[1:i-1], distances)\n",
    "        #println(\"Cum Probs: \", cum_probs)\n",
    "        #println(\"Tour so far...: \", tour)\n",
    "        # Select the next city based on the probabilities\n",
    "        next_city = select_city(cum_probs)\n",
    "    \n",
    "        # Add the next city to the tour\n",
    "        tour[i] = next_city\n",
    "    end\n",
    "\n",
    "    # Print the tour\n",
    "    #println(\"The TSP tour is: \", tour)\n",
    "    return tour\n",
    "end\n"
   ]
  },
  {
   "cell_type": "code",
   "execution_count": 7,
   "id": "0d6c3e34",
   "metadata": {},
   "outputs": [
    {
     "data": {
      "text/plain": [
       "tour_cost (generic function with 1 method)"
      ]
     },
     "execution_count": 7,
     "metadata": {},
     "output_type": "execute_result"
    }
   ],
   "source": [
    "function tour_cost(o::Array{Int64,1})\n",
    "    n=length(o)\n",
    "    result = distances[o[n],o[1]]\n",
    "    for i in 1:(n-1)\n",
    "        result += distances[o[i],o[i+1]]\n",
    "    end\n",
    "    return result\n",
    "end"
   ]
  },
  {
   "cell_type": "code",
   "execution_count": 8,
   "id": "916f739a",
   "metadata": {},
   "outputs": [
    {
     "data": {
      "text/plain": [
       "rand_population_uniform (generic function with 1 method)"
      ]
     },
     "execution_count": 8,
     "metadata": {},
     "output_type": "execute_result"
    }
   ],
   "source": [
    "# create m random vectors of d dimensions in the range [a,b]\n",
    "function rand_population_uniform(m, d, a, b)\n",
    "    return [rand(Uniform(a,b),d) for i in 1:m]\n",
    "end"
   ]
  },
  {
   "cell_type": "code",
   "execution_count": 9,
   "id": "06ce76ab",
   "metadata": {},
   "outputs": [
    {
     "data": {
      "text/plain": [
       "intensity (generic function with 1 method)"
      ]
     },
     "execution_count": 9,
     "metadata": {},
     "output_type": "execute_result"
    }
   ],
   "source": [
    "# intensity function\n",
    "\n",
    "function intensity(N, x, x_prey)\n",
    "    d = zeros(N)\n",
    "    S = zeros(N)\n",
    "    I = zeros(N)\n",
    "    for i in 1:N-1\n",
    "        d[i] = euclidean(x[i], x_prey) ^ 2\n",
    "        S[i] = euclidean(x[i],x[i+1]) ^ 2\n",
    "    end\n",
    "    \n",
    "    d[N] = euclidean(x[N], x_prey)\n",
    "    S[N] = euclidean(x[N],x[1])\n",
    "    \n",
    "    \n",
    "    \n",
    "    for i in 1:N\n",
    "        r2 = rand(Uniform(0,1))\n",
    "        I[i] = r2 * S[i] / (4 * π * d[i] )\n",
    "    end\n",
    "    return I\n",
    "end"
   ]
  },
  {
   "cell_type": "code",
   "execution_count": 10,
   "id": "e1caf574",
   "metadata": {},
   "outputs": [
    {
     "data": {
      "text/plain": [
       "HBATSP (generic function with 1 method)"
      ]
     },
     "execution_count": 10,
     "metadata": {},
     "output_type": "execute_result"
    }
   ],
   "source": [
    "# Honey Badger Algorithm\n",
    "\n",
    "function HBATSP(t_max, N, beta, C, x)\n",
    "    # t_max = maximum no of iterations\n",
    "    # N = population size\n",
    "    # beta = default value as 6\n",
    "    # C = default value as 2\n",
    "    # x = initial population\n",
    "    # obj_func = benchmark function\n",
    "    # f = fitness of the population\n",
    "    # x_prey = best position found so far\n",
    "    # f_prey = best fitness value so far for the x_prey\n",
    "    # x_new = new position calculated for the ith honey badger\n",
    "    # f_new = new fitness calculated for the ith honey badger\n",
    "    # I = intensity of the honey badger\n",
    "    # F = disturbance direction\n",
    "    \n",
    "    #generate tour from initial solution\n",
    "    \n",
    "    \n",
    "    #calucalte the fitness of each honey badger\n",
    "    tours = generateTour.(x)\n",
    "    f = tour_cost.(tours)\n",
    "    println(\"fitness vecor: \", f)\n",
    "    \n",
    "    #save best posiiton and fitness\n",
    "    f_prey, x_prey_index = findmin(f)\n",
    "    x_prey = x[x_prey_index]\n",
    "    t_prey = tours[x_prey_index]\n",
    "    \n",
    "    \n",
    "    println(\"best solution: \", x_prey, \" fitness: \", f_prey,  \" tour: \", t_prey)\n",
    "    #println(\"fitness: \", f_prey)\n",
    "    fitness_values = []\n",
    "    push!(fitness_values,(0,f_prey))\n",
    "    for t in 1:t_max\n",
    "        \n",
    "        #println(\"iteration: \", t)\n",
    "        \n",
    "        #calculate the density factor / decreasing factor\n",
    "        alpha = C * exp(-t / t_max)\n",
    "        #println(\"alpha: \", alpha)\n",
    "        \n",
    "        #calcualte the intensity of the all honey badgers\n",
    "        I = intensity(N, x, x_prey)\n",
    "        #println(\"Intensity: \", I)\n",
    "        \n",
    "        for i in 1:N\n",
    "            \n",
    "            #calcuate distance between prey and ith honey badger\n",
    "            d = x_prey - x[i]\n",
    "            \n",
    "            #generate disturbance\n",
    "            r6 = rand(Uniform(0,1))\n",
    "            if r6<=0.5\n",
    "                F = 1\n",
    "            else\n",
    "                F = -1\n",
    "            end\n",
    "            \n",
    "            \n",
    "            #generate a random value to deicde between digging vs honey mode\n",
    "            r2 = rand(Uniform(0,1))\n",
    "            \n",
    "            #TODO : if intensity is infinite then go for honey mode\n",
    "            if isinf(I[i])\n",
    "                r2 = 0.9\n",
    "            end\n",
    "            \n",
    "            if r2<0.5\n",
    "                # digging mode\n",
    "                #println(\"Digging mode\")\n",
    "                r3 = rand(Uniform(0,1))\n",
    "                r4 = rand(Uniform(0,1))\n",
    "                r5 = rand(Uniform(0,1))\n",
    "                #println(\"Intensity: \", I[i])\n",
    "                #p = abs(cos(2*π*r4) * (1 - cos(2*π*r5)))\n",
    "                #println(\"cos value: \", p)\n",
    "                x_new = x_prey + (F * beta * I[i] * x_prey) + (F * r3 * alpha * d * abs(cos(2*π*r4) * (1 - cos(2*π*r5))))\n",
    "                #f_new = obj_func(x_new)\n",
    "                t_new = generateTour(x_new)\n",
    "                f_new = tour_cost(t_new)\n",
    "            \n",
    "            else\n",
    "                # honey node\n",
    "                #println(\"Honey mode\")\n",
    "                r7 = rand(Uniform(0,1))\n",
    "                x_new = x_prey + (F * r7 * alpha * d)\n",
    "                #f_new = obj_func(x_new)\n",
    "                t_new = generateTour(x_new)\n",
    "                f_new = tour_cost(t_new)\n",
    "            end\n",
    "            \n",
    "            #TODO: mange xnew to be within the bounds\n",
    "            \n",
    "            # evaluate the new posiiton and fitness values\n",
    "            \n",
    "            #local position update\n",
    "            if f_new < f[i]\n",
    "                #println(\"local position is improved\")\n",
    "                #println(\"values\", x[i], \";\", x_new, \";\", f[i], \";\", f_new  )\n",
    "                x[i] = x_new\n",
    "                f[i] = f_new\n",
    "                \n",
    "                #println(\"local position is improved fin\")\n",
    "            end\n",
    "            \n",
    "            #prey position update\n",
    "            if f_new<f_prey\n",
    "                println(\"prey position is improved with honey badger # \", i, \" in iteration # \", t)\n",
    "                x_prey = x_new\n",
    "                f_prey = f_new\n",
    "                t_prey = t_new\n",
    "                println(\"best solution: \", x_prey, \" fitness: \", f_prey,  \" tour: \", t_prey)\n",
    "                push!(fitness_values,(t,f_prey))\n",
    "            end\n",
    "            \n",
    "        end\n",
    "        #push!(fitness_values,(t,f_prey))\n",
    "        #println(\"fitness: \", f_prey)\n",
    "    end\n",
    "    return x_prey, f_prey, t_prey, fitness_values \n",
    "end\n",
    "    "
   ]
  },
  {
   "cell_type": "code",
   "execution_count": 16,
   "id": "1c3cc37b",
   "metadata": {
    "scrolled": true
   },
   "outputs": [
    {
     "name": "stdout",
     "output_type": "stream",
     "text": [
      "fitness vecor: [6045.0, 5041.0, 5939.0, 5445.0, 6346.0, 6046.0, 5208.0, 4779.0, 5412.0, 6629.0, 5821.0, 5760.0, 5654.0, 5502.0, 5241.0, 4445.0, 5474.0, 5950.0, 5463.0, 5987.0, 5419.0, 4751.0, 5612.0, 5910.0, 5319.0, 5301.0, 5125.0, 4872.0, 5889.0, 5337.0, 5386.0, 5239.0, 6150.0, 5528.0, 4747.0, 6343.0, 6340.0, 4782.0, 5166.0, 5215.0, 4910.0, 5179.0, 4567.0, 5971.0, 5316.0, 5765.0, 5154.0, 4490.0, 5488.0, 6781.0, 5790.0, 6236.0, 6254.0, 4700.0, 5645.0, 5851.0, 5162.0, 5069.0, 5674.0, 6101.0, 4609.0, 6096.0, 5290.0, 6085.0, 4878.0, 4673.0, 4823.0, 6351.0, 4715.0, 5131.0, 5836.0, 4845.0, 4559.0, 6050.0, 5076.0, 6063.0, 5223.0, 5569.0, 5788.0, 6170.0, 5047.0, 5975.0, 6354.0, 5090.0, 5990.0, 6114.0, 5212.0, 5942.0, 4587.0, 6529.0, 5311.0, 5385.0, 7460.0, 5786.0, 5633.0, 6084.0, 5389.0, 5880.0, 5306.0, 6157.0]\n",
      "best solution: [0.3993815874768111, 0.7701818103507331, 0.3736500088225049, 0.9272696043160643, 0.42591347427896487, 0.08933336882096765, 0.5407704293080828, 0.7654644439005289, 0.4986590396061895, 0.355515845029568, 0.5283588794945929, 0.3259329851369325, 0.20168475196202396, 0.24166153194414564] fitness: 4445.0 tour: [6, 12, 13, 7, 4, 2, 1, 10, 9, 8, 11, 3, 14, 5]\n",
      "prey position is improved with honey badger # 36 in iteration # 1\n",
      "best solution: [-0.11483607562263687, 1.111525187890912, 0.6992136470476402, 1.1479309633559196, 0.49906833123937966, -0.20718490300832332, 0.11170786174035646, 1.2707168660293642, 0.1890785562658539, 0.554901589094447, 0.2553941860631896, 0.6001576621965516, 0.08599808845509796, 0.32595701714211034] fitness: 4440.0 tour: [6, 14, 12, 4, 3, 5, 8, 2, 10, 9, 11, 1, 13, 7]\n",
      "prey position is improved with honey badger # 57 in iteration # 1\n",
      "best solution: [0.7113467075129074, -0.7764276621690597, -1.167035885286423, -0.7610609502425815, -0.03389456918011452, 2.377806224040831, 1.991851012578452, -0.9066958051474008, 0.706637232320789, 1.3419093884462114, -0.37347031020325966, 1.1773476376834462, 0.7317580792953573, 0.658056202690912] fitness: 4285.0 tour: [3, 6, 12, 7, 14, 2, 1, 8, 9, 11, 10, 13, 4, 5]\n",
      "prey position is improved with honey badger # 68 in iteration # 1\n",
      "best solution: [0.9666326533684599, -1.1677031648171605, -1.6790982424926706, -1.1791887968145245, -0.07963404152485573, 3.267638163113251, 2.771218865009727, -1.394171758793298, 0.8906880307551935, 1.749534934688921, -0.5945230052532906, 1.4906639524154497, 0.9494887744465871, 0.787189698675707] fitness: 4220.0 tour: [3, 14, 7, 12, 6, 2, 1, 8, 10, 9, 11, 13, 4, 5]\n",
      "prey position is improved with honey badger # 81 in iteration # 1\n",
      "best solution: [-0.8206612277811424, 1.3372817809019724, 1.7891227936913905, 1.3405559165813403, 0.11419551105393125, -3.20165176584779, -2.6623344395262896, 1.5046780574213625, -0.8687682743713745, -1.5994446502588557, 0.7072504426564872, -1.3677801717698728, -0.9131001595177642, -0.7586429114259947] fitness: 3721.0 tour: [6, 7, 14, 3, 2, 1, 8, 10, 9, 11, 13, 12, 4, 5]\n",
      "prey position is improved with honey badger # 15 in iteration # 3\n",
      "best solution: [-0.8909010545453886, 1.3914348747887217, 1.8707231757911928, 1.3624168309022473, 0.07465762667214816, -3.4042204170411847, -2.825527653036035, 1.558178061678398, -0.9521906012434237, -1.7239238728359474, 0.7121147470275163, -1.4687955850013734, -0.9692356950608735, -0.8330376387707514] fitness: 3620.0 tour: [6, 12, 14, 2, 1, 8, 10, 9, 11, 13, 7, 3, 4, 5]\n",
      "prey position is improved with honey badger # 84 in iteration # 9\n",
      "best solution: [-1.8882000795040863, 1.2463361698636741, 0.9704955980779506, 0.5742035839328481, -0.1720571566001785, -4.664423429434869, -4.027870889372288, 1.6073867019242873, -1.7913280746999138, -2.604016664354141, 0.7397383236189048, -2.8871156302979974, -1.410419102866968, -1.1345022648010765] fitness: 3604.0 tour: [6, 12, 14, 7, 13, 1, 8, 9, 11, 10, 2, 3, 4, 5]\n",
      "prey position is improved with honey badger # 16 in iteration # 10\n",
      "best solution: [-2.4241652039296238, 1.4724327353045847, 1.1744726774999612, 0.6076725893778463, -0.26900188090340793, -5.877606129614911, -5.132749602827815, 1.927118497829541, -2.314587521060978, -3.3190498882096016, 0.8651361725109326, -3.6714577039783616, -1.7988311401204966, -1.4567401464533503] fitness: 3478.0 tour: [6, 12, 7, 13, 1, 2, 10, 9, 11, 8, 14, 3, 4, 5]\n",
      "prey position is improved with honey badger # 5 in iteration # 35\n",
      "best solution: [-4.302391212724261, 1.6651063605703849, 0.4720381848291304, -0.1948686385878523, -0.669858352784064, -9.037874435627057, -8.054922728744616, 2.471497099103228, -3.9928997041965744, -5.324480660014416, 1.0963728666141341, -6.382398518569762, -2.845384127771103, -2.2511643578158838] fitness: 3449.0 tour: [6, 12, 7, 13, 10, 9, 11, 1, 8, 2, 14, 3, 4, 5]\n",
      "prey position is improved with honey badger # 11 in iteration # 79\n",
      "best solution: [-7.618965245756266, 2.301000724183007, 1.9549126974890305, -0.622005390265054, -1.6495860271874745, -16.197933666739736, -15.121987341626696, 3.554471502036841, -7.445924373129355, -9.823217554539223, 1.2465516273704442, -10.933479264286657, -5.303616331569351, -4.454899880093512] fitness: 3436.0 tour: [6, 12, 7, 13, 1, 10, 9, 11, 8, 2, 14, 3, 4, 5]\n",
      " 27.121578 seconds (140.03 M allocations: 11.052 GiB, 8.65% gc time)\n",
      "Best solution: [-7.618965245756266, 2.301000724183007, 1.9549126974890305, -0.622005390265054, -1.6495860271874745, -16.197933666739736, -15.121987341626696, 3.554471502036841, -7.445924373129355, -9.823217554539223, 1.2465516273704442, -10.933479264286657, -5.303616331569351, -4.454899880093512]\n",
      "Best tour: 3436.0\n",
      "Best cost: [6, 12, 7, 13, 1, 10, 9, 11, 8, 2, 14, 3, 4, 5]\n",
      "Fitness values: Any[(0, 4445.0), (1, 4440.0), (1, 4285.0), (1, 4220.0), (1, 3721.0), (3, 3620.0), (9, 3604.0), (10, 3478.0), (35, 3449.0), (79, 3436.0)]\n"
     ]
    }
   ],
   "source": [
    "@time begin\n",
    "#dimensions = # of cities\n",
    "d = n\n",
    "#lower bound\n",
    "a = 0\n",
    "#upper bound\n",
    "b = 1\n",
    "# population size\n",
    "N = 100\n",
    "#iterations\n",
    "t_max = 10000\n",
    "#constant beta\n",
    "beta = 6\n",
    "#constant C\n",
    "C = 2\n",
    "\n",
    "\n",
    "x = rand_population_uniform(N, d, a, b )\n",
    "x_prey, t_prey, f_prey, fitness_values = HBATSP(t_max, N, beta, C, x)\n",
    "\n",
    "end\n",
    "println(\"Best solution: \", x_prey)\n",
    "println(\"Best tour: \", t_prey)\n",
    "println(\"Best cost: \", f_prey)\n",
    "println(\"Fitness values: \", fitness_values)"
   ]
  },
  {
   "cell_type": "code",
   "execution_count": 41,
   "id": "fcfe4fb6",
   "metadata": {},
   "outputs": [
    {
     "data": {
      "text/plain": [
       "draw_tsp (generic function with 3 methods)"
      ]
     },
     "execution_count": 41,
     "metadata": {},
     "output_type": "execute_result"
    }
   ],
   "source": [
    "using Random\n",
    "using Luxor\n",
    "\n",
    "function draw_tsp(x,o,n,size=1000,radius=5)\n",
    "    Drawing(size, size, \"TSP.png\")\n",
    "    stretch=Int64(0.9size)\n",
    "    origin(Int64(0.05size),Int64(0.05size))\n",
    "    # draw cities\n",
    "    for i in 1:n\n",
    "        A=Point(stretch*x[1,i],stretch*x[2,i])\n",
    "        circle(A, radius, :fill)\n",
    "        label(\"city $i\", :S, A)\n",
    "    end\n",
    "    # connect cities by edges\n",
    "    for i in 1:n-1\n",
    "        A=Point(stretch*x[1,o[i]],stretch*x[2,o[i]])\n",
    "        B=Point(stretch*x[1,o[i+1]],stretch*x[2,o[i+1]])\n",
    "        line(A, B, :stroke)\n",
    "    end\n",
    "    # return to first city\n",
    "    A=Point(stretch*x[1,o[n]],stretch*x[2,o[n]])\n",
    "    B=Point(stretch*x[1,o[1]],stretch*x[2,o[1]])\n",
    "    line(A, B, :stroke)\n",
    "    finish()\n",
    "    preview()\n",
    "end"
   ]
  },
  {
   "cell_type": "code",
   "execution_count": 43,
   "id": "e7f9351c",
   "metadata": {},
   "outputs": [
    {
     "data": {
      "image/png": "[encoded data removed]",
      "text/plain": []
     },
     "execution_count": 43,
     "metadata": {},
     "output_type": "execute_result"
    }
   ],
   "source": [
    "x = tsp.nodes\n",
    "draw_tsp(transpose(x), f_prey, size(x,2), 500, 5)"
   ]
  },
  {
   "cell_type": "code",
   "execution_count": 40,
   "id": "b34ebb88",
   "metadata": {},
   "outputs": [
    {
     "name": "stdout",
     "output_type": "stream",
     "text": [
      "21.52\n"
     ]
    }
   ],
   "source": [
    "x = tsp.nodes\n",
    "println(x[1,2])"
   ]
  },
  {
   "cell_type": "code",
   "execution_count": 37,
   "id": "0d2971da",
   "metadata": {},
   "outputs": [
    {
     "data": {
      "text/plain": [
       "2×14 transpose(::Matrix{Float64}) with eltype Float64:\n",
       " 0.1793    0.0824919  0.117398  0.58221   …  0.768315  0.355108  0.906172\n",
       " 0.584558  0.915028   0.508695  0.228033     0.431385  0.423476  0.0102906"
      ]
     },
     "execution_count": 37,
     "metadata": {},
     "output_type": "execute_result"
    }
   ],
   "source": [
    "m = rand(14,2)\n",
    "\n",
    "m = transpose(m)"
   ]
  },
  {
   "cell_type": "code",
   "execution_count": 29,
   "id": "1f82ec85",
   "metadata": {},
   "outputs": [
    {
     "data": {
      "text/plain": [
       "2×14 Matrix{Float64}:\n",
       " 0.0  0.0  0.0  0.0  0.0  0.0  0.0  0.0  0.0  0.0  0.0  0.0  0.0  0.0\n",
       " 0.0  0.0  0.0  0.0  0.0  0.0  0.0  0.0  0.0  0.0  0.0  0.0  0.0  0.0"
      ]
     },
     "execution_count": 29,
     "metadata": {},
     "output_type": "execute_result"
    }
   ],
   "source": [
    "a = zeros()"
   ]
  },
  {
   "cell_type": "code",
   "execution_count": null,
   "id": "b97ffec4",
   "metadata": {},
   "outputs": [],
   "source": []
  }
 ],
 "metadata": {
  "kernelspec": {
   "display_name": "Julia 1.8.5",
   "language": "julia",
   "name": "julia-1.8"
  },
  "language_info": {
   "file_extension": ".jl",
   "mimetype": "application/julia",
   "name": "julia",
   "version": "1.8.5"
  }
 },
 "nbformat": 4,
 "nbformat_minor": 5
}
