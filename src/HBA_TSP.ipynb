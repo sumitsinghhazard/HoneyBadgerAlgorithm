{
 "cells": [
  {
   "cell_type": "code",
   "execution_count": 6,
   "id": "42ae37cb",
   "metadata": {},
   "outputs": [
    {
     "name": "stderr",
     "output_type": "stream",
     "text": [
      "\u001b[32m\u001b[1m    Updating\u001b[22m\u001b[39m registry at `C:\\Users\\Sumit Singh\\.julia\\registries\\General.toml`\n",
      "\u001b[32m\u001b[1m   Resolving\u001b[22m\u001b[39m package versions...\n",
      "\u001b[32m\u001b[1m   Installed\u001b[22m\u001b[39m ContextVariablesX ────── v0.1.3\n",
      "\u001b[32m\u001b[1m   Installed\u001b[22m\u001b[39m cuDNN ────────────────── v1.0.2\n",
      "\u001b[32m\u001b[1m   Installed\u001b[22m\u001b[39m FunctionWrappers ─────── v1.1.3\n",
      "\u001b[32m\u001b[1m   Installed\u001b[22m\u001b[39m NNlibCUDA ────────────── v0.2.7\n",
      "\u001b[32m\u001b[1m   Installed\u001b[22m\u001b[39m Accessors ────────────── v0.1.28\n",
      "\u001b[32m\u001b[1m   Installed\u001b[22m\u001b[39m CUDA_Runtime_jll ─────── v0.5.0+2\n",
      "\u001b[32m\u001b[1m   Installed\u001b[22m\u001b[39m BFloat16s ────────────── v0.4.2\n",
      "\u001b[32m\u001b[1m   Installed\u001b[22m\u001b[39m ShowCases ────────────── v0.1.0\n",
      "\u001b[32m\u001b[1m   Installed\u001b[22m\u001b[39m Optimisers ───────────── v0.2.18\n",
      "\u001b[32m\u001b[1m   Installed\u001b[22m\u001b[39m PrettyPrint ──────────── v0.2.0\n",
      "\u001b[32m\u001b[1m   Installed\u001b[22m\u001b[39m MLUtils ──────────────── v0.4.1\n",
      "\u001b[32m\u001b[1m   Installed\u001b[22m\u001b[39m RandomNumbers ────────── v1.5.3\n",
      "\u001b[32m\u001b[1m   Installed\u001b[22m\u001b[39m NNlib ────────────────── v0.8.20\n",
      "\u001b[32m\u001b[1m   Installed\u001b[22m\u001b[39m Functors ─────────────── v0.4.4\n",
      "\u001b[32m\u001b[1m   Installed\u001b[22m\u001b[39m CUDA_Driver_jll ──────── v0.5.0+1\n",
      "\u001b[32m\u001b[1m   Installed\u001b[22m\u001b[39m FLoopsBase ───────────── v0.1.1\n",
      "\u001b[32m\u001b[1m   Installed\u001b[22m\u001b[39m CUDA_Runtime_Discovery ─ v0.2.2\n",
      "\u001b[32m\u001b[1m   Installed\u001b[22m\u001b[39m ProgressLogging ──────── v0.1.4\n",
      "\u001b[32m\u001b[1m   Installed\u001b[22m\u001b[39m OneHotArrays ─────────── v0.2.3\n",
      "\u001b[32m\u001b[1m   Installed\u001b[22m\u001b[39m NameResolution ───────── v0.1.5\n",
      "\u001b[32m\u001b[1m   Installed\u001b[22m\u001b[39m Random123 ────────────── v1.6.0\n",
      "\u001b[32m\u001b[1m   Installed\u001b[22m\u001b[39m UnsafeAtomics ────────── v0.2.1\n",
      "\u001b[32m\u001b[1m   Installed\u001b[22m\u001b[39m KernelAbstractions ───── v0.9.2\n",
      "\u001b[32m\u001b[1m   Installed\u001b[22m\u001b[39m UnsafeAtomicsLLVM ────── v0.1.1\n",
      "\u001b[32m\u001b[1m   Installed\u001b[22m\u001b[39m JuliaVariables ───────── v0.2.4\n",
      "\u001b[32m\u001b[1m   Installed\u001b[22m\u001b[39m FLoops ───────────────── v0.2.1\n",
      "\u001b[32m\u001b[1m   Installed\u001b[22m\u001b[39m MLStyle ──────────────── v0.4.17\n",
      "\u001b[32m\u001b[1m   Installed\u001b[22m\u001b[39m SimpleTraits ─────────── v0.9.4\n",
      "\u001b[32m\u001b[1m   Installed\u001b[22m\u001b[39m Flux ─────────────────── v0.13.15\n",
      "\u001b[32m\u001b[1m   Installed\u001b[22m\u001b[39m GPUCompiler ──────────── v0.18.0\n",
      "\u001b[32m\u001b[1m   Installed\u001b[22m\u001b[39m Atomix ───────────────── v0.1.0\n",
      "\u001b[32m\u001b[1m   Installed\u001b[22m\u001b[39m CUDNN_jll ────────────── v8.8.1+0\n",
      "\u001b[32m\u001b[1m   Installed\u001b[22m\u001b[39m FoldsThreads ─────────── v0.1.1\n",
      "\u001b[32m\u001b[1m   Installed\u001b[22m\u001b[39m CUDA ─────────────────── v4.1.2\n",
      "\u001b[32m\u001b[1m    Updating\u001b[22m\u001b[39m `C:\\Users\\Sumit Singh\\.julia\\environments\\v1.8\\Project.toml`\n",
      " \u001b[90m [587475ba] \u001b[39m\u001b[92m+ Flux v0.13.15\u001b[39m\n",
      "\u001b[32m\u001b[1m    Updating\u001b[22m\u001b[39m `C:\\Users\\Sumit Singh\\.julia\\environments\\v1.8\\Manifest.toml`\n",
      " \u001b[90m [7d9f7c33] \u001b[39m\u001b[92m+ Accessors v0.1.28\u001b[39m\n",
      " \u001b[90m [a9b6321e] \u001b[39m\u001b[92m+ Atomix v0.1.0\u001b[39m\n",
      " \u001b[90m [ab4f0b2a] \u001b[39m\u001b[92m+ BFloat16s v0.4.2\u001b[39m\n",
      "\u001b[32m⌃\u001b[39m\u001b[90m [052768ef] \u001b[39m\u001b[92m+ CUDA v4.1.2\u001b[39m\n",
      " \u001b[90m [1af6417a] \u001b[39m\u001b[92m+ CUDA_Runtime_Discovery v0.2.2\u001b[39m\n",
      " \u001b[90m [6add18c4] \u001b[39m\u001b[92m+ ContextVariablesX v0.1.3\u001b[39m\n",
      " \u001b[90m [cc61a311] \u001b[39m\u001b[92m+ FLoops v0.2.1\u001b[39m\n",
      " \u001b[90m [b9860ae5] \u001b[39m\u001b[92m+ FLoopsBase v0.1.1\u001b[39m\n",
      " \u001b[90m [587475ba] \u001b[39m\u001b[92m+ Flux v0.13.15\u001b[39m\n",
      " \u001b[90m [9c68100b] \u001b[39m\u001b[92m+ FoldsThreads v0.1.1\u001b[39m\n",
      " \u001b[90m [069b7b12] \u001b[39m\u001b[92m+ FunctionWrappers v1.1.3\u001b[39m\n",
      " \u001b[90m [d9f16b24] \u001b[39m\u001b[92m+ Functors v0.4.4\u001b[39m\n",
      "\u001b[33m⌅\u001b[39m\u001b[90m [61eb1bfa] \u001b[39m\u001b[92m+ GPUCompiler v0.18.0\u001b[39m\n",
      " \u001b[90m [b14d175d] \u001b[39m\u001b[92m+ JuliaVariables v0.2.4\u001b[39m\n",
      " \u001b[90m [63c18a36] \u001b[39m\u001b[92m+ KernelAbstractions v0.9.2\u001b[39m\n",
      " \u001b[90m [d8e11817] \u001b[39m\u001b[92m+ MLStyle v0.4.17\u001b[39m\n",
      " \u001b[90m [f1d291b0] \u001b[39m\u001b[92m+ MLUtils v0.4.1\u001b[39m\n",
      " \u001b[90m [872c559c] \u001b[39m\u001b[92m+ NNlib v0.8.20\u001b[39m\n",
      " \u001b[90m [a00861dc] \u001b[39m\u001b[92m+ NNlibCUDA v0.2.7\u001b[39m\n",
      " \u001b[90m [71a1bf82] \u001b[39m\u001b[92m+ NameResolution v0.1.5\u001b[39m\n",
      " \u001b[90m [0b1bfda6] \u001b[39m\u001b[92m+ OneHotArrays v0.2.3\u001b[39m\n",
      " \u001b[90m [3bd65402] \u001b[39m\u001b[92m+ Optimisers v0.2.18\u001b[39m\n",
      " \u001b[90m [8162dcfd] \u001b[39m\u001b[92m+ PrettyPrint v0.2.0\u001b[39m\n",
      " \u001b[90m [33c8b6b6] \u001b[39m\u001b[92m+ ProgressLogging v0.1.4\u001b[39m\n",
      " \u001b[90m [74087812] \u001b[39m\u001b[92m+ Random123 v1.6.0\u001b[39m\n",
      " \u001b[90m [e6cf234a] \u001b[39m\u001b[92m+ RandomNumbers v1.5.3\u001b[39m\n",
      " \u001b[90m [605ecd9f] \u001b[39m\u001b[92m+ ShowCases v0.1.0\u001b[39m\n",
      " \u001b[90m [699a6c99] \u001b[39m\u001b[92m+ SimpleTraits v0.9.4\u001b[39m\n",
      " \u001b[90m [013be700] \u001b[39m\u001b[92m+ UnsafeAtomics v0.2.1\u001b[39m\n",
      "\u001b[32m⌃\u001b[39m\u001b[90m [d80eeb9a] \u001b[39m\u001b[92m+ UnsafeAtomicsLLVM v0.1.1\u001b[39m\n",
      " \u001b[90m [02a925ec] \u001b[39m\u001b[92m+ cuDNN v1.0.2\u001b[39m\n",
      " \u001b[90m [4ee394cb] \u001b[39m\u001b[92m+ CUDA_Driver_jll v0.5.0+1\u001b[39m\n",
      " \u001b[90m [76a88914] \u001b[39m\u001b[92m+ CUDA_Runtime_jll v0.5.0+2\u001b[39m\n",
      " \u001b[90m [62b44479] \u001b[39m\u001b[92m+ CUDNN_jll v8.8.1+0\u001b[39m\n",
      "\u001b[36m\u001b[1m        Info\u001b[22m\u001b[39m Packages marked with \u001b[32m⌃\u001b[39m and \u001b[33m⌅\u001b[39m have new versions available, but those with \u001b[33m⌅\u001b[39m are restricted by compatibility constraints from upgrading. To see why use `status --outdated -m`\n",
      "\u001b[32m\u001b[1mPrecompiling\u001b[22m\u001b[39m project...\n",
      "\u001b[32m  ✓ \u001b[39m\u001b[90mFunctionWrappers\u001b[39m\n",
      "\u001b[32m  ✓ \u001b[39m\u001b[90mContextVariablesX\u001b[39m\n",
      "\u001b[32m  ✓ \u001b[39m\u001b[90mProgressLogging\u001b[39m\n",
      "\u001b[32m  ✓ \u001b[39m\u001b[90mPrettyPrint\u001b[39m\n",
      "\u001b[32m  ✓ \u001b[39m\u001b[90mUnsafeAtomics\u001b[39m\n",
      "\u001b[32m  ✓ \u001b[39m\u001b[90mShowCases\u001b[39m\n",
      "\u001b[32m  ✓ \u001b[39m\u001b[90mFunctors\u001b[39m\n",
      "\u001b[32m  ✓ \u001b[39m\u001b[90mBFloat16s\u001b[39m\n",
      "\u001b[32m  ✓ \u001b[39m\u001b[90mCUDA_Runtime_Discovery\u001b[39m\n",
      "\u001b[32m  ✓ \u001b[39m\u001b[90mRandomNumbers\u001b[39m\n",
      "\u001b[32m  ✓ \u001b[39m\u001b[90mSimpleTraits\u001b[39m\n",
      "\u001b[32m  ✓ \u001b[39m\u001b[90mAccessors\u001b[39m\n",
      "\u001b[32m  ✓ \u001b[39m\u001b[90mCUDNN_jll\u001b[39m\n",
      "\u001b[32m  ✓ \u001b[39m\u001b[90mFLoopsBase\u001b[39m\n",
      "\u001b[32m  ✓ \u001b[39m\u001b[90mNameResolution\u001b[39m\n",
      "\u001b[32m  ✓ \u001b[39m\u001b[90mAtomix\u001b[39m\n",
      "\u001b[32m  ✓ \u001b[39m\u001b[90mOptimisers\u001b[39m\n",
      "\u001b[32m  ✓ \u001b[39m\u001b[90mUnsafeAtomicsLLVM\u001b[39m\n",
      "\u001b[32m  ✓ \u001b[39m\u001b[90mRandom123\u001b[39m\n",
      "\u001b[32m  ✓ \u001b[39m\u001b[90mMLStyle\u001b[39m\n",
      "\u001b[32m  ✓ \u001b[39m\u001b[90mGPUCompiler\u001b[39m\n",
      "\u001b[32m  ✓ \u001b[39m\u001b[90mFoldsThreads\u001b[39m\n",
      "\u001b[32m  ✓ \u001b[39m\u001b[90mKernelAbstractions\u001b[39m\n",
      "\u001b[32m  ✓ \u001b[39m\u001b[90mJuliaVariables\u001b[39m\n",
      "\u001b[32m  ✓ \u001b[39m\u001b[90mFLoops\u001b[39m\n",
      "\u001b[32m  ✓ \u001b[39m\u001b[90mNNlib\u001b[39m\n",
      "\u001b[32m  ✓ \u001b[39m\u001b[90mOneHotArrays\u001b[39m\n",
      "\u001b[32m  ✓ \u001b[39m\u001b[90mMLUtils\u001b[39m\n",
      "\u001b[32m  ✓ \u001b[39m\u001b[90mCUDA\u001b[39m\n",
      "\u001b[32m  ✓ \u001b[39m\u001b[90mcuDNN\u001b[39m\n",
      "\u001b[32m  ✓ \u001b[39m\u001b[90mNNlibCUDA\u001b[39m\n",
      "\u001b[32m  ✓ \u001b[39mFlux\n",
      "  32 dependencies successfully precompiled in 149 seconds. 270 already precompiled.\n"
     ]
    }
   ],
   "source": [
    "import Pkg;\n",
    "Pkg.add(\"Flux\")"
   ]
  },
  {
   "cell_type": "code",
   "execution_count": 13,
   "id": "432856ce",
   "metadata": {},
   "outputs": [],
   "source": [
    "#getting libraries\n",
    "using Distributions\n",
    "using Distances\n",
    "using Random\n",
    "using Plots\n",
    "using Statistics\n",
    "using Flux\n",
    "using TSPLIB"
   ]
  },
  {
   "cell_type": "code",
   "execution_count": 6,
   "id": "2ceb1771",
   "metadata": {},
   "outputs": [
    {
     "name": "stdout",
     "output_type": "stream",
     "text": [
      "[0.9327104923959361 0.32028712996308395 0.096186098319758 0.5482888140727659 0.9442972180970582 0.19687352493590515 0.22371986207474726; 0.682085589917901 0.13545821570013117 0.7875286686849722 0.4628925946778242 0.7290476221979856 0.7368625082398778 0.7421500714364119]\n"
     ]
    },
    {
     "data": {
      "text/plain": [
       "7×7 Matrix{Float64}:\n",
       " 0.0        0.820892  0.843144  0.442522  0.0483703  0.737873   0.71153\n",
       " 0.820892   0.0       0.689505  0.398996  0.861242   0.613937   0.614329\n",
       " 0.843144   0.689505  0.0       0.556584  0.850125   0.112717   0.135366\n",
       " 0.442522   0.398996  0.556584  0.0       0.477139   0.445592   0.42817\n",
       " 0.0483703  0.861242  0.850125  0.477139  0.0        0.747465   0.720696\n",
       " 0.737873   0.613937  0.112717  0.445592  0.747465   0.0        0.0273621\n",
       " 0.71153    0.614329  0.135366  0.42817   0.720696   0.0273621  0.0"
      ]
     },
     "execution_count": 6,
     "metadata": {},
     "output_type": "execute_result"
    }
   ],
   "source": [
    "# 2d-world\n",
    "n=7 # cities\n",
    "\n",
    "# create n cities in a 1x1 square\n",
    "x = rand(2,n) \n",
    "\n",
    "println(x)\n",
    "# compute Euclidean distance between cities \n",
    "distances=pairwise(Euclidean(), x, dims=2)"
   ]
  },
  {
   "cell_type": "code",
   "execution_count": 7,
   "id": "ecbd9d37",
   "metadata": {},
   "outputs": [
    {
     "name": "stdout",
     "output_type": "stream",
     "text": [
      "[1.0 153.0 510.0 706.0 966.0 581.0 455.0 70.0 160.0 372.0 157.0 567.0 342.0 398.0; 153.0 1.0 422.0 664.0 997.0 598.0 507.0 197.0 311.0 479.0 310.0 581.0 417.0 376.0; 510.0 422.0 1.0 289.0 744.0 390.0 437.0 491.0 645.0 880.0 618.0 374.0 455.0 211.0; 706.0 664.0 289.0 1.0 491.0 265.0 410.0 664.0 804.0 1070.0 768.0 259.0 499.0 310.0; 966.0 997.0 744.0 491.0 1.0 400.0 514.0 902.0 990.0 1261.0 947.0 418.0 635.0 636.0; 581.0 598.0 390.0 265.0 400.0 1.0 168.0 522.0 634.0 910.0 593.0 19.0 284.0 239.0; 455.0 507.0 437.0 410.0 514.0 168.0 1.0 389.0 482.0 757.0 439.0 163.0 124.0 232.0; 70.0 197.0 491.0 664.0 902.0 522.0 389.0 1.0 154.0 406.0 133.0 508.0 273.0 355.0; 160.0 311.0 645.0 804.0 990.0 634.0 482.0 154.0 1.0 276.0 43.0 623.0 358.0 498.0; 372.0 479.0 880.0 1070.0 1261.0 910.0 757.0 406.0 276.0 1.0 318.0 898.0 633.0 761.0; 157.0 310.0 618.0 768.0 947.0 593.0 439.0 133.0 43.0 318.0 1.0 582.0 315.0 464.0; 567.0 581.0 374.0 259.0 418.0 19.0 163.0 508.0 623.0 898.0 582.0 1.0 275.0 221.0; 342.0 417.0 455.0 499.0 635.0 284.0 124.0 273.0 358.0 633.0 315.0 275.0 1.0 247.0; 398.0 376.0 211.0 310.0 636.0 239.0 232.0 355.0 498.0 761.0 464.0 221.0 247.0 1.0]\n",
      "# of cities: 14\n",
      "Optimal value: 3323.0\n"
     ]
    }
   ],
   "source": [
    "tsp = readTSPLIB(:burma14)\n",
    "distances = tsp.weights\n",
    "println(distances)\n",
    "\n",
    "# 2d-world\n",
    "n=tsp.dimension # cities\n",
    "println(\"# of cities: \", n)\n",
    "\n",
    "# optimal value\n",
    "println(\"Optimal value: \", tsp.optimal)"
   ]
  },
  {
   "cell_type": "code",
   "execution_count": 20,
   "id": "bcf47e37",
   "metadata": {},
   "outputs": [
    {
     "name": "stdout",
     "output_type": "stream",
     "text": [
      "# of cities: 7275\n"
     ]
    }
   ],
   "source": [
    "path = \"C:\\\\Users\\\\Sumit Singh\\\\Desktop\\\\NCSU\\\\Spring 2023\\\\CSC 591 Metaheuristics\\\\Project\\\\Code\\\\Art.tsp\"\n",
    "tsp = readTSP(path)\n",
    "\n",
    "distances = tsp.weights\n",
    "\n",
    "n=tsp.dimension # cities\n",
    "println(\"# of cities: \", n)"
   ]
  },
  {
   "cell_type": "code",
   "execution_count": 21,
   "id": "20f76640",
   "metadata": {},
   "outputs": [
    {
     "data": {
      "text/plain": [
       "cum_probabilities (generic function with 1 method)"
      ]
     },
     "execution_count": 21,
     "metadata": {},
     "output_type": "execute_result"
    }
   ],
   "source": [
    "# Define a function to calculate the cumulative probabilities\n",
    "function cum_probabilities(solution, tour, distances)\n",
    "    # Initialize an array of zeros to store the probabilities\n",
    "    probs = zeros(length(solution))\n",
    "    \n",
    "    # Calculate the probabilities for each city\n",
    "    for i in 1:length(solution)\n",
    "        if i ∉ tour\n",
    "            probs[i] = (solution[i])  * (1/distances[tour[end], i])\n",
    "        end\n",
    "    end\n",
    "    \n",
    "    probs /= sum(probs)\n",
    "    \n",
    "    # Calculate the cumulative probabilities\n",
    "    cum_probs = cumsum(probs)\n",
    "    \n",
    "    return cum_probs\n",
    "end\n"
   ]
  },
  {
   "cell_type": "code",
   "execution_count": 22,
   "id": "65a52d64",
   "metadata": {},
   "outputs": [
    {
     "data": {
      "text/plain": [
       "select_city (generic function with 1 method)"
      ]
     },
     "execution_count": 22,
     "metadata": {},
     "output_type": "execute_result"
    }
   ],
   "source": [
    "# Define a function to select the next city based on the probabilities\n",
    "function select_city(cum_probs)\n",
    "    # Generate a random number between 0 and 1\n",
    "    r = rand()\n",
    "    \n",
    "    #println(\"random value: \", r)\n",
    "    # Find the index of the first cumulative probability that is greater than r\n",
    "    index = findfirst(cum_probs .>= r)\n",
    "    #println(\"next city: \", index)\n",
    "    return index\n",
    "end\n"
   ]
  },
  {
   "cell_type": "code",
   "execution_count": 23,
   "id": "7f372fcf",
   "metadata": {},
   "outputs": [
    {
     "data": {
      "text/plain": [
       "generateTour (generic function with 1 method)"
      ]
     },
     "execution_count": 23,
     "metadata": {},
     "output_type": "execute_result"
    }
   ],
   "source": [
    "#generate tour function\n",
    "\n",
    "function generateTour(solution)\n",
    "    \n",
    "    #println(\"New Tour..\")\n",
    "    # Initialize the tour as an array of zeros\n",
    "    tour = zeros(Int, n)\n",
    "\n",
    "    # Set the first city as the one with the smallest value in the solution\n",
    "    tour[1] = argmin(solution)\n",
    "    \n",
    "    # Generate the rest of the tour using the cumulative probabilities\n",
    "    for i in 2:n\n",
    "        # Calculate the cumulative probabilities\n",
    "        cum_probs = cum_probabilities(solution, tour[1:i-1], distances)\n",
    "        #println(\"Cum Probs: \", cum_probs)\n",
    "        #println(\"Tour so far...: \", tour)\n",
    "        # Select the next city based on the probabilities\n",
    "        next_city = select_city(cum_probs)\n",
    "    \n",
    "        # Add the next city to the tour\n",
    "        tour[i] = next_city\n",
    "    end\n",
    "\n",
    "    # Print the tour\n",
    "    #println(\"The TSP tour is: \", tour)\n",
    "    return tour\n",
    "end\n"
   ]
  },
  {
   "cell_type": "code",
   "execution_count": 24,
   "id": "0d6c3e34",
   "metadata": {},
   "outputs": [
    {
     "data": {
      "text/plain": [
       "tour_cost (generic function with 1 method)"
      ]
     },
     "execution_count": 24,
     "metadata": {},
     "output_type": "execute_result"
    }
   ],
   "source": [
    "function tour_cost(o::Array{Int64,1})\n",
    "    n=length(o)\n",
    "    result = distances[o[n],o[1]]\n",
    "    for i in 1:(n-1)\n",
    "        result += distances[o[i],o[i+1]]\n",
    "    end\n",
    "    return result\n",
    "end"
   ]
  },
  {
   "cell_type": "code",
   "execution_count": 25,
   "id": "916f739a",
   "metadata": {},
   "outputs": [
    {
     "data": {
      "text/plain": [
       "rand_population_uniform (generic function with 1 method)"
      ]
     },
     "execution_count": 25,
     "metadata": {},
     "output_type": "execute_result"
    }
   ],
   "source": [
    "# create m random vectors of d dimensions in the range [a,b]\n",
    "function rand_population_uniform(m, d, a, b)\n",
    "    return [rand(Uniform(a,b),d) for i in 1:m]\n",
    "end"
   ]
  },
  {
   "cell_type": "code",
   "execution_count": 26,
   "id": "06ce76ab",
   "metadata": {},
   "outputs": [
    {
     "data": {
      "text/plain": [
       "intensity (generic function with 1 method)"
      ]
     },
     "execution_count": 26,
     "metadata": {},
     "output_type": "execute_result"
    }
   ],
   "source": [
    "# intensity function\n",
    "\n",
    "function intensity(N, x, x_prey)\n",
    "    d = zeros(N)\n",
    "    S = zeros(N)\n",
    "    I = zeros(N)\n",
    "    for i in 1:N-1\n",
    "        d[i] = euclidean(x[i], x_prey) ^ 2\n",
    "        S[i] = euclidean(x[i],x[i+1]) ^ 2\n",
    "    end\n",
    "    \n",
    "    d[N] = euclidean(x[N], x_prey)\n",
    "    S[N] = euclidean(x[N],x[1])\n",
    "    \n",
    "    \n",
    "    \n",
    "    for i in 1:N\n",
    "        r2 = rand(Uniform(0,1))\n",
    "        I[i] = r2 * S[i] / (4 * π * d[i] )\n",
    "    end\n",
    "    return I\n",
    "end"
   ]
  },
  {
   "cell_type": "code",
   "execution_count": 27,
   "id": "e1caf574",
   "metadata": {},
   "outputs": [
    {
     "data": {
      "text/plain": [
       "HBATSP (generic function with 1 method)"
      ]
     },
     "execution_count": 27,
     "metadata": {},
     "output_type": "execute_result"
    }
   ],
   "source": [
    "# Honey Badger Algorithm\n",
    "\n",
    "function HBATSP(t_max, N, beta, C, x)\n",
    "    # t_max = maximum no of iterations\n",
    "    # N = population size\n",
    "    # beta = default value as 6\n",
    "    # C = default value as 2\n",
    "    # x = initial population\n",
    "    # obj_func = benchmark function\n",
    "    # f = fitness of the population\n",
    "    # x_prey = best position found so far\n",
    "    # f_prey = best fitness value so far for the x_prey\n",
    "    # x_new = new position calculated for the ith honey badger\n",
    "    # f_new = new fitness calculated for the ith honey badger\n",
    "    # I = intensity of the honey badger\n",
    "    # F = disturbance direction\n",
    "    \n",
    "    #generate tour from initial solution\n",
    "    \n",
    "    \n",
    "    #calucalte the fitness of each honey badger\n",
    "    tours = generateTour.(x)\n",
    "    f = tour_cost.(tours)\n",
    "    println(\"fitness vecor: \", f)\n",
    "    \n",
    "    #save best posiiton and fitness\n",
    "    f_prey, x_prey_index = findmin(f)\n",
    "    x_prey = x[x_prey_index]\n",
    "    t_prey = tours[x_prey_index]\n",
    "    \n",
    "    \n",
    "    println(\"best solution: \", x_prey, \" fitness: \", f_prey,  \" tour: \", t_prey)\n",
    "    #println(\"fitness: \", f_prey)\n",
    "    fitness_values = []\n",
    "    push!(fitness_values,(0,f_prey))\n",
    "    for t in 1:t_max\n",
    "        \n",
    "        #println(\"iteration: \", t)\n",
    "        \n",
    "        #calculate the density factor / decreasing factor\n",
    "        alpha = C * exp(-t / t_max)\n",
    "        #println(\"alpha: \", alpha)\n",
    "        \n",
    "        #calcualte the intensity of the all honey badgers\n",
    "        I = intensity(N, x, x_prey)\n",
    "        #println(\"Intensity: \", I)\n",
    "        \n",
    "        for i in 1:N\n",
    "            \n",
    "            #calcuate distance between prey and ith honey badger\n",
    "            d = x_prey - x[i]\n",
    "            \n",
    "            #generate disturbance\n",
    "            r6 = rand(Uniform(0,1))\n",
    "            if r6<=0.5\n",
    "                F = 1\n",
    "            else\n",
    "                F = -1\n",
    "            end\n",
    "            \n",
    "            \n",
    "            #generate a random value to deicde between digging vs honey mode\n",
    "            r2 = rand(Uniform(0,1))\n",
    "            \n",
    "            #TODO : if intensity is infinite then go for honey mode\n",
    "            if isinf(I[i])\n",
    "                r2 = 0.9\n",
    "            end\n",
    "            \n",
    "            if r2<0.5\n",
    "                # digging mode\n",
    "                #println(\"Digging mode\")\n",
    "                r3 = rand(Uniform(0,1))\n",
    "                r4 = rand(Uniform(0,1))\n",
    "                r5 = rand(Uniform(0,1))\n",
    "                #println(\"Intensity: \", I[i])\n",
    "                #p = abs(cos(2*π*r4) * (1 - cos(2*π*r5)))\n",
    "                #println(\"cos value: \", p)\n",
    "                x_new = x_prey + (F * beta * I[i] * x_prey) + (F * r3 * alpha * d * abs(cos(2*π*r4) * (1 - cos(2*π*r5))))\n",
    "                #f_new = obj_func(x_new)\n",
    "                t_new = generateTour(x_new)\n",
    "                f_new = tour_cost(t_new)\n",
    "            \n",
    "            else\n",
    "                # honey node\n",
    "                #println(\"Honey mode\")\n",
    "                r7 = rand(Uniform(0,1))\n",
    "                x_new = x_prey + (F * r7 * alpha * d)\n",
    "                #f_new = obj_func(x_new)\n",
    "                t_new = generateTour(x_new)\n",
    "                f_new = tour_cost(t_new)\n",
    "            end\n",
    "            \n",
    "            #TODO: mange xnew to be within the bounds\n",
    "            \n",
    "            # evaluate the new posiiton and fitness values\n",
    "            \n",
    "            #local position update\n",
    "            if f_new < f[i]\n",
    "                #println(\"local position is improved\")\n",
    "                #println(\"values\", x[i], \";\", x_new, \";\", f[i], \";\", f_new  )\n",
    "                x[i] = x_new\n",
    "                f[i] = f_new\n",
    "                \n",
    "                #println(\"local position is improved fin\")\n",
    "            end\n",
    "            \n",
    "            #prey position update\n",
    "            if f_new<f_prey\n",
    "                println(\"prey position is improved with honey badger # \", i, \" in iteration # \", t)\n",
    "                x_prey = x_new\n",
    "                f_prey = f_new\n",
    "                t_prey = t_new\n",
    "                println(\"best solution: \", x_prey, \" fitness: \", f_prey,  \" tour: \", t_prey)\n",
    "                push!(fitness_values,(t,f_prey))\n",
    "            end\n",
    "            \n",
    "        end\n",
    "        #push!(fitness_values,(t,f_prey))\n",
    "        #println(\"fitness: \", f_prey)\n",
    "    end\n",
    "    return x_prey, f_prey, t_prey, fitness_values \n",
    "end\n",
    "    "
   ]
  },
  {
   "cell_type": "code",
   "execution_count": null,
   "id": "1c3cc37b",
   "metadata": {
    "scrolled": true
   },
   "outputs": [],
   "source": [
    "@time begin\n",
    "#dimensions = # of cities\n",
    "d = n\n",
    "#lower bound\n",
    "a = 0\n",
    "#upper bound\n",
    "b = 1\n",
    "# population size\n",
    "N = 100\n",
    "#iterations\n",
    "t_max = 10000\n",
    "#constant beta\n",
    "beta = 6\n",
    "#constant C\n",
    "C = 2\n",
    "\n",
    "\n",
    "x = rand_population_uniform(N, d, a, b )\n",
    "x_prey, t_prey, f_prey, fitness_values = HBATSP(t_max, N, beta, C, x)\n",
    "\n",
    "end\n",
    "println(\"Best solution: \", x_prey)\n",
    "println(\"Best tour: \", t_prey)\n",
    "println(\"Best cost: \", f_prey)\n",
    "println(\"Fitness values: \", fitness_values)"
   ]
  },
  {
   "cell_type": "code",
   "execution_count": 18,
   "id": "fcfe4fb6",
   "metadata": {},
   "outputs": [
    {
     "data": {
      "text/plain": [
       "TSP(\"output\", 7275, \"EUC_2D\", [0.0 6.0 … 238.0 242.0; 6.0 0.0 … 237.0 242.0; … ; 238.0 237.0 … 0.0 7.0; 242.0 242.0 … 7.0 0.0], [1593.516 -362.358; 1591.409 -367.937; … ; 1803.644 -474.145; 1809.827 -471.34], false, TSPLIB.var\"#fFit#19\"{Matrix{Float64}, Int64}([0.0 6.0 … 238.0 242.0; 6.0 0.0 … 237.0 242.0; … ; 238.0 237.0 … 0.0 7.0; 242.0 242.0 … 7.0 0.0], 7275), TSPLIB.var\"#pFit#20\"{Matrix{Float64}, Int64}([0.0 6.0 … 238.0 242.0; 6.0 0.0 … 237.0 242.0; … ; 238.0 237.0 … 0.0 7.0; 242.0 242.0 … 7.0 0.0], 7275), -1.0)"
      ]
     },
     "execution_count": 18,
     "metadata": {},
     "output_type": "execute_result"
    }
   ],
   "source": []
  },
  {
   "cell_type": "code",
   "execution_count": 19,
   "id": "e7f9351c",
   "metadata": {},
   "outputs": [
    {
     "data": {
      "text/plain": [
       "7275×7275 Matrix{Float64}:\n",
       "   0.0    6.0   11.0   17.0   18.0  …  245.0  238.0  237.0  238.0  242.0\n",
       "   6.0    0.0    8.0   15.0   15.0     244.0  238.0  236.0  237.0  242.0\n",
       "  11.0    8.0    0.0    9.0    7.0     251.0  245.0  243.0  244.0  248.0\n",
       "  17.0   15.0    9.0    0.0    7.0     260.0  253.0  252.0  253.0  257.0\n",
       "  18.0   15.0    7.0    7.0    0.0     257.0  250.0  248.0  249.0  254.0\n",
       "   8.0    8.0    6.0    9.0   12.0  …  252.0  245.0  243.0  245.0  249.0\n",
       "   6.0   11.0   13.0   14.0   18.0     250.0  244.0  242.0  244.0  248.0\n",
       "  13.0   15.0   12.0    8.0   14.0     257.0  251.0  249.0  251.0  255.0\n",
       "  29.0   33.0   30.0   23.0   31.0     271.0  265.0  264.0  265.0  269.0\n",
       "  33.0   37.0   34.0   27.0   34.0     274.0  268.0  266.0  268.0  272.0\n",
       "  34.0   37.0   34.0   26.0   33.0  …  277.0  271.0  269.0  271.0  275.0\n",
       "  35.0   37.0   33.0   25.0   32.0     279.0  272.0  271.0  272.0  276.0\n",
       "  39.0   41.0   37.0   29.0   36.0     282.0  276.0  274.0  276.0  280.0\n",
       "   ⋮                                ⋱    ⋮                         \n",
       " 237.0  237.0  244.0  252.0  249.0       9.0    5.0    9.0   14.0   10.0\n",
       " 236.0  236.0  243.0  251.0  248.0      13.0    9.0   13.0   19.0   15.0\n",
       " 234.0  234.0  241.0  249.0  247.0  …   17.0   14.0   18.0   23.0   19.0\n",
       " 238.0  238.0  245.0  253.0  251.0      15.0   13.0   18.0   23.0   18.0\n",
       " 239.0  239.0  246.0  255.0  252.0      10.0    9.0   13.0   18.0   13.0\n",
       " 242.0  242.0  249.0  258.0  255.0       7.0    8.0   12.0   17.0   11.0\n",
       " 242.0  242.0  249.0  258.0  255.0       4.0    5.0   10.0   13.0    7.0\n",
       " 245.0  244.0  251.0  260.0  257.0  …    0.0    6.0    9.0   12.0    5.0\n",
       " 238.0  238.0  245.0  253.0  250.0       6.0    0.0    5.0   10.0    6.0\n",
       " 237.0  236.0  243.0  252.0  248.0       9.0    5.0    0.0    5.0    6.0\n",
       " 238.0  237.0  244.0  253.0  249.0      12.0   10.0    5.0    0.0    7.0\n",
       " 242.0  242.0  248.0  257.0  254.0       5.0    6.0    6.0    7.0    0.0"
      ]
     },
     "execution_count": 19,
     "metadata": {},
     "output_type": "execute_result"
    }
   ],
   "source": [
    "distances = tsp.weights"
   ]
  },
  {
   "cell_type": "code",
   "execution_count": null,
   "id": "b34ebb88",
   "metadata": {},
   "outputs": [],
   "source": []
  }
 ],
 "metadata": {
  "kernelspec": {
   "display_name": "Julia 1.8.5",
   "language": "julia",
   "name": "julia-1.8"
  },
  "language_info": {
   "file_extension": ".jl",
   "mimetype": "application/julia",
   "name": "julia",
   "version": "1.8.5"
  }
 },
 "nbformat": 4,
 "nbformat_minor": 5
}
