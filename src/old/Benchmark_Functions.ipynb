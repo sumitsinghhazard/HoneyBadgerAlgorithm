{
 "cells": [
  {
   "cell_type": "markdown",
   "id": "3388ac4a",
   "metadata": {},
   "source": [
    "Unimodal"
   ]
  },
  {
   "cell_type": "code",
   "execution_count": 11,
   "id": "f1ba6340",
   "metadata": {},
   "outputs": [],
   "source": [
    "#getting libraries\n",
    "using Distributions\n",
    "using Distances\n",
    "using Random\n",
    "using Plots"
   ]
  },
  {
   "cell_type": "code",
   "execution_count": 1,
   "id": "21902dfa",
   "metadata": {},
   "outputs": [
    {
     "data": {
      "text/plain": [
       "sphere (generic function with 1 method)"
      ]
     },
     "execution_count": 1,
     "metadata": {},
     "output_type": "execute_result"
    }
   ],
   "source": [
    "# De Jong (sphere) function\n",
    "\n",
    "sphere(x)=sum(x.^2)"
   ]
  },
  {
   "cell_type": "code",
   "execution_count": 3,
   "id": "f3949556",
   "metadata": {},
   "outputs": [
    {
     "data": {
      "text/plain": [
       "Chung_Reynolds (generic function with 1 method)"
      ]
     },
     "execution_count": 3,
     "metadata": {},
     "output_type": "execute_result"
    }
   ],
   "source": [
    "#Chung Reynolds\n",
    "\n",
    "function Chung_Reynolds(x)\n",
    "    sum = 0\n",
    "    n = length(x)\n",
    "    for i in 1:n\n",
    "        sum += x[i]^2\n",
    "    end\n",
    "    val = sum^2\n",
    "    return val\n",
    "end"
   ]
  },
  {
   "cell_type": "code",
   "execution_count": 2,
   "id": "8bda65ba",
   "metadata": {},
   "outputs": [
    {
     "data": {
      "text/plain": [
       "schwefel_2_22 (generic function with 1 method)"
      ]
     },
     "execution_count": 2,
     "metadata": {},
     "output_type": "execute_result"
    }
   ],
   "source": [
    "# Schwefel 2.22 function\n",
    "\n",
    "function schwefel_2_22(x)\n",
    "    sum = 0\n",
    "    prod = 1\n",
    "    n = length(x)\n",
    "    for i in 1:n\n",
    "        sum += abs(x[i])\n",
    "        prod *= abs(x[i])\n",
    "    end\n",
    "    val = sum+ prod\n",
    "    return val\n",
    "end"
   ]
  },
  {
   "cell_type": "code",
   "execution_count": 4,
   "id": "b683f873",
   "metadata": {},
   "outputs": [
    {
     "data": {
      "text/plain": [
       "schwefel_2_20 (generic function with 1 method)"
      ]
     },
     "execution_count": 4,
     "metadata": {},
     "output_type": "execute_result"
    }
   ],
   "source": [
    "# Schwefel 2.20 function\n",
    "\n",
    "function schwefel_2_20(x)\n",
    "    sum = 0\n",
    "    n = length(x)\n",
    "    for i in 1:n\n",
    "        sum += abs(x[i])\n",
    "    end\n",
    "    val = sum\n",
    "    return val\n",
    "end"
   ]
  },
  {
   "cell_type": "code",
   "execution_count": 5,
   "id": "e0498301",
   "metadata": {},
   "outputs": [
    {
     "data": {
      "text/plain": [
       "schwefel_2_23 (generic function with 1 method)"
      ]
     },
     "execution_count": 5,
     "metadata": {},
     "output_type": "execute_result"
    }
   ],
   "source": [
    "# Schwefel 2.23 function\n",
    "\n",
    "function schwefel_2_23(x)\n",
    "    sum = 0\n",
    "    n = length(x)\n",
    "    for i in 1:n\n",
    "        sum += x[i]^10\n",
    "    end\n",
    "    val = sum\n",
    "    return val\n",
    "end"
   ]
  },
  {
   "cell_type": "code",
   "execution_count": 6,
   "id": "19c93295",
   "metadata": {},
   "outputs": [
    {
     "data": {
      "text/plain": [
       "Sum_Squares (generic function with 1 method)"
      ]
     },
     "execution_count": 6,
     "metadata": {},
     "output_type": "execute_result"
    }
   ],
   "source": [
    "# Sum Squares function\n",
    "\n",
    "function Sum_Squares(x)\n",
    "    sum = 0\n",
    "    n = length(x)\n",
    "    for i in 1:n\n",
    "        ele = x[i]^2\n",
    "        sum += (i*ele)\n",
    "    end\n",
    "    val = sum\n",
    "    return val\n",
    "end"
   ]
  },
  {
   "cell_type": "code",
   "execution_count": 7,
   "id": "cd579997",
   "metadata": {},
   "outputs": [
    {
     "data": {
      "text/plain": [
       "Powell_Sum (generic function with 1 method)"
      ]
     },
     "execution_count": 7,
     "metadata": {},
     "output_type": "execute_result"
    }
   ],
   "source": [
    "# Powell Sum function\n",
    "\n",
    "function Powell_Sum(x)\n",
    "    sum = 0\n",
    "    n = length(x)\n",
    "    for i in 1:n\n",
    "        ele = abs(x[i])\n",
    "        sum += ele^(i+1)\n",
    "    end\n",
    "    val = sum\n",
    "    return val\n",
    "end"
   ]
  },
  {
   "cell_type": "code",
   "execution_count": 8,
   "id": "20e4bf8e",
   "metadata": {},
   "outputs": [
    {
     "data": {
      "text/plain": [
       "Powell_Singular_2 (generic function with 1 method)"
      ]
     },
     "execution_count": 8,
     "metadata": {},
     "output_type": "execute_result"
    }
   ],
   "source": [
    "# Powell Singular-2 function\n",
    "\n",
    "function Powell_Singular_2(x)\n",
    "    sum = 0\n",
    "    n = length(x)\n",
    "    for i in 2:n-3\n",
    "        p1 = (x[i-1] - 10x[i])^2\n",
    "        p2 = 5*((x[i+1] + x[i+2])^2)\n",
    "        p3 = (x[i] - x[i+1])^4\n",
    "        p4 = 10*((x[i-1] + x[i+2])^4)\n",
    "        sum += p1 + p2 + p3 +p4\n",
    "    end\n",
    "    val = sum\n",
    "    return val\n",
    "end"
   ]
  },
  {
   "cell_type": "markdown",
   "id": "20f8db31",
   "metadata": {},
   "source": [
    "Multimodal"
   ]
  },
  {
   "cell_type": "code",
   "execution_count": 22,
   "id": "70845e7b",
   "metadata": {},
   "outputs": [
    {
     "data": {
      "text/plain": [
       "ackley (generic function with 1 method)"
      ]
     },
     "execution_count": 22,
     "metadata": {},
     "output_type": "execute_result"
    }
   ],
   "source": [
    "# ackley function\n",
    "\n",
    "function ackley(x)\n",
    "    # x = [x1, x2, ..., xd]\n",
    "    # a = default value 20\n",
    "    # b = default value 0.2\n",
    "    # c = default value 2*pi\n",
    "    a = 20\n",
    "    b = 0.2\n",
    "    c = 2*π\n",
    "    n = length(x)\n",
    "    sum1 = 0\n",
    "    sum2 = 0\n",
    "    for i in 1:n\n",
    "        sum1 += x[i]^2\n",
    "        sum2 += cos(c*x[i])\n",
    "    end\n",
    "    \n",
    "    term1 = -a * exp(-b*sqrt(sum1/n))\n",
    "    term2 = -exp(sum2/n)\n",
    "    y = term1 + term2 + a + exp(1)\n",
    "    return y\n",
    "end"
   ]
  },
  {
   "cell_type": "code",
   "execution_count": 23,
   "id": "2798eefc",
   "metadata": {},
   "outputs": [
    {
     "data": {
      "text/plain": [
       "rastrigin (generic function with 1 method)"
      ]
     },
     "execution_count": 23,
     "metadata": {},
     "output_type": "execute_result"
    }
   ],
   "source": [
    "# rastrigin function\n",
    "\n",
    "function rastrigin(x)\n",
    "    val = -10length(x)\n",
    "    n = length(x)\n",
    "    for i in 1:n\n",
    "        val += -x[i]^2+10cos(π*x[i])\n",
    "    end\n",
    "    val =-val\n",
    "    return val\n",
    "end"
   ]
  },
  {
   "cell_type": "code",
   "execution_count": 25,
   "id": "ca0a83b7",
   "metadata": {},
   "outputs": [
    {
     "data": {
      "text/plain": [
       "brown (generic function with 1 method)"
      ]
     },
     "execution_count": 25,
     "metadata": {},
     "output_type": "execute_result"
    }
   ],
   "source": [
    "# Brown function\n",
    "\n",
    "function brown(x)\n",
    "    val = 0\n",
    "    n = length(x)\n",
    "    for i in 1:n-1\n",
    "        p1 = x[i]^2\n",
    "        p2 = x[i+1]^2\n",
    "        val += p1^(x[i+1]^2 + 1) + p2^(x[i]^2+1) \n",
    "    end\n",
    "    return val\n",
    "end"
   ]
  },
  {
   "cell_type": "code",
   "execution_count": 26,
   "id": "1a5fe09a",
   "metadata": {},
   "outputs": [
    {
     "data": {
      "text/plain": [
       "cigar (generic function with 1 method)"
      ]
     },
     "execution_count": 26,
     "metadata": {},
     "output_type": "execute_result"
    }
   ],
   "source": [
    "# cigar function\n",
    "\n",
    "function cigar(x)\n",
    "    val = 0\n",
    "    n = length(x)\n",
    "    for i in 2:n\n",
    "        val += x[i]^2\n",
    "    end\n",
    "    val *= 10^6\n",
    "    val += x[1]^2\n",
    "    return val\n",
    "end\n"
   ]
  },
  {
   "cell_type": "code",
   "execution_count": 28,
   "id": "7836718c",
   "metadata": {},
   "outputs": [
    {
     "data": {
      "text/plain": [
       "csendes (generic function with 1 method)"
      ]
     },
     "execution_count": 28,
     "metadata": {},
     "output_type": "execute_result"
    }
   ],
   "source": [
    "# Csendes function\n",
    "\n",
    "function csendes(x)\n",
    "    val = -10length(x)\n",
    "    n = length(x)\n",
    "    for i in 1:n\n",
    "        val += (x[i]^6) *(2 + sin(1/x[i]))\n",
    "    end\n",
    "    return val\n",
    "end"
   ]
  },
  {
   "cell_type": "code",
   "execution_count": 31,
   "id": "d1e737f2",
   "metadata": {},
   "outputs": [
    {
     "data": {
      "text/plain": [
       "griewank (generic function with 1 method)"
      ]
     },
     "execution_count": 31,
     "metadata": {},
     "output_type": "execute_result"
    }
   ],
   "source": [
    "# Griewank function\n",
    "\n",
    "function griewank(x)\n",
    "    sum = 0\n",
    "    prod = 1\n",
    "    n = length(x)\n",
    "    for i in 1:n\n",
    "        sum += (x[i]^2) / 4000\n",
    "        prod *= cos(x[i]/(i^1/2))\n",
    "    end\n",
    "    val = 1+ sum - prod\n",
    "    return val\n",
    "end"
   ]
  },
  {
   "cell_type": "code",
   "execution_count": 30,
   "id": "d4907f02",
   "metadata": {},
   "outputs": [
    {
     "data": {
      "text/plain": [
       "schwefel_2_25 (generic function with 1 method)"
      ]
     },
     "execution_count": 30,
     "metadata": {},
     "output_type": "execute_result"
    }
   ],
   "source": [
    "# Schwefel 2.25 function\n",
    "\n",
    "function schwefel_2_25(x)\n",
    "    sum = 0\n",
    "    n = length(x)\n",
    "    for i in 2:n\n",
    "        p1 = (x[i]-1)^2\n",
    "        p2 = (x[1] - x[i]^2)^2\n",
    "        sum += p1 + p2\n",
    "    end\n",
    "    val = sum\n",
    "    return val\n",
    "end"
   ]
  },
  {
   "cell_type": "code",
   "execution_count": 34,
   "id": "cc20bf9b",
   "metadata": {},
   "outputs": [
    {
     "data": {
      "text/plain": [
       "zakharov (generic function with 1 method)"
      ]
     },
     "execution_count": 34,
     "metadata": {},
     "output_type": "execute_result"
    }
   ],
   "source": [
    "# Zakharov function\n",
    "\n",
    "function zakharov(x)\n",
    "    sum1 = 0\n",
    "    sum2 = 0\n",
    "    n = length(x)\n",
    "    for i in 2:n\n",
    "        sum1 += x[i]^2\n",
    "        sum2 += 0.5 * i * x[i]\n",
    "    end\n",
    "    val = sum1 + sum2^2 + sum2^4\n",
    "    return val\n",
    "end"
   ]
  },
  {
   "cell_type": "markdown",
   "id": "03cfd568",
   "metadata": {},
   "source": [
    "Fixed Dimension"
   ]
  },
  {
   "cell_type": "code",
   "execution_count": 41,
   "id": "fb809daf",
   "metadata": {},
   "outputs": [
    {
     "data": {
      "text/plain": [
       "zirilli2 (generic function with 1 method)"
      ]
     },
     "execution_count": 41,
     "metadata": {},
     "output_type": "execute_result"
    }
   ],
   "source": [
    "# zirilli function\n",
    "\n",
    "function zirilli2(x)\n",
    "    x1 = x[1]\n",
    "    x2 = x[2]\n",
    "    val = (0.5 * (x1 ^ 2)) + (0.5 * (1 - cos(2*x1)) ) + (x2 ^ 2)\n",
    "    return val\n",
    "end"
   ]
  },
  {
   "cell_type": "code",
   "execution_count": 42,
   "id": "085ec7c2",
   "metadata": {},
   "outputs": [
    {
     "data": {
      "text/plain": [
       "matyas2 (generic function with 1 method)"
      ]
     },
     "execution_count": 42,
     "metadata": {},
     "output_type": "execute_result"
    }
   ],
   "source": [
    "# matyas function\n",
    "\n",
    "function matyas2(x)\n",
    "    x1 = x[1]\n",
    "    x2 = x[2]\n",
    "    val = (0.26 * ((x1 ^ 2) + (x2 ^ 2) ))  - (0.48 * x1 * x2)\n",
    "    return val\n",
    "end"
   ]
  },
  {
   "cell_type": "code",
   "execution_count": 43,
   "id": "8a9b0e70",
   "metadata": {},
   "outputs": [
    {
     "data": {
      "text/plain": [
       "trecanni2 (generic function with 1 method)"
      ]
     },
     "execution_count": 43,
     "metadata": {},
     "output_type": "execute_result"
    }
   ],
   "source": [
    "# Trecanni function\n",
    "\n",
    "function trecanni2(x)\n",
    "    x1 = x[1]\n",
    "    x2 = x[2]\n",
    "    val = 4 − 4*(x1^3) + 4*x1 + x2\n",
    "    return val\n",
    "end"
   ]
  },
  {
   "cell_type": "code",
   "execution_count": 44,
   "id": "aaca8fa4",
   "metadata": {},
   "outputs": [
    {
     "data": {
      "text/plain": [
       "price2 (generic function with 1 method)"
      ]
     },
     "execution_count": 44,
     "metadata": {},
     "output_type": "execute_result"
    }
   ],
   "source": [
    "# Price function\n",
    "\n",
    "function price2(x)\n",
    "    x1 = x[1]\n",
    "    x2 = x[2]\n",
    "    val = ((2*(x1^3)*x2) - x2^3)^2 + (6*x1 - x2^2 + x2)^2\n",
    "    return val\n",
    "end"
   ]
  },
  {
   "cell_type": "code",
   "execution_count": 45,
   "id": "00141668",
   "metadata": {},
   "outputs": [
    {
     "data": {
      "text/plain": [
       "chen_bird2 (generic function with 1 method)"
      ]
     },
     "execution_count": 45,
     "metadata": {},
     "output_type": "execute_result"
    }
   ],
   "source": [
    "# Chen Bird function\n",
    "\n",
    "function chen_bird2(x)\n",
    "    x1 = x[1]\n",
    "    x2 = x[2]\n",
    "    val = (0.001 / (floor(0.001^2 + (x1 -0.4x2 -0.1)^2))) - (0.001 / (floor(0.001^2 + (2x1 +x2 -1.5)^2)))\n",
    "    return val\n",
    "end"
   ]
  },
  {
   "cell_type": "code",
   "execution_count": 46,
   "id": "7eb002d5",
   "metadata": {},
   "outputs": [
    {
     "data": {
      "text/plain": [
       "colville4 (generic function with 1 method)"
      ]
     },
     "execution_count": 46,
     "metadata": {},
     "output_type": "execute_result"
    }
   ],
   "source": [
    "# Colville function\n",
    "\n",
    "function colville4(x)\n",
    "    x1 = x[1]\n",
    "    x2 = x[2]\n",
    "    x3 = x[3]\n",
    "    x4 = x[4]\n",
    "    val = (100*(x1-x2^2)^2) + ((1-x1)^2) + (90*(x4-x3^2)^2) + ((1-x3)^2) + (10.1*(x2-1)^2) + ((x4-1)^2) + (19.8*(x2-1)*(x4-1))\n",
    "    return val\n",
    "end"
   ]
  },
  {
   "cell_type": "code",
   "execution_count": null,
   "id": "b9a25b8a",
   "metadata": {},
   "outputs": [],
   "source": [
    "# Damavandi function"
   ]
  },
  {
   "cell_type": "code",
   "execution_count": null,
   "id": "06f4b61e",
   "metadata": {},
   "outputs": [],
   "source": [
    "# Sawtoothxy function"
   ]
  },
  {
   "cell_type": "markdown",
   "id": "1a355984",
   "metadata": {},
   "source": [
    "Testing"
   ]
  },
  {
   "cell_type": "code",
   "execution_count": 9,
   "id": "afeadff7",
   "metadata": {},
   "outputs": [
    {
     "data": {
      "text/plain": [
       "rand_population_uniform (generic function with 1 method)"
      ]
     },
     "execution_count": 9,
     "metadata": {},
     "output_type": "execute_result"
    }
   ],
   "source": [
    "# create m random vectors of d dimensions in the range [a,b]\n",
    "function rand_population_uniform(m, d, a, b)\n",
    "    return [rand(Uniform(a,b),d) for i in 1:m]\n",
    "end"
   ]
  },
  {
   "cell_type": "code",
   "execution_count": 50,
   "id": "f6d40e95",
   "metadata": {},
   "outputs": [
    {
     "data": {
      "text/plain": [
       "10-element Vector{Vector{Float64}}:\n",
       " [1.1789794652221879, 2.584173239583677]\n",
       " [4.397751453795131, 2.224811132560953]\n",
       " [-4.279671187402552, -0.7649280785852852]\n",
       " [1.9827162326334147, -1.3153382641727998]\n",
       " [0.2717124944351301, 3.2124110561168475]\n",
       " [0.8535940897499561, 4.022289420982663]\n",
       " [0.8555878218951918, 1.8648677504178437]\n",
       " [3.5514543507289638, 4.847199506437674]\n",
       " [4.4379349113690765, 3.120735029002349]\n",
       " [2.186893427880169, -0.13984632929196827]"
      ]
     },
     "execution_count": 50,
     "metadata": {},
     "output_type": "execute_result"
    }
   ],
   "source": [
    "a = rand_population_uniform(10, 2, -5, 5)"
   ]
  },
  {
   "cell_type": "code",
   "execution_count": 53,
   "id": "0eeb53df",
   "metadata": {},
   "outputs": [
    {
     "data": {
      "text/plain": [
       "10-element Vector{Float64}:\n",
       "    4.745000268703593\n",
       " -316.39806770715893\n",
       "  299.65512087636745\n",
       "  -20.562001334164712\n",
       "    8.21902142189252\n",
       "    8.948873077836488\n",
       "    6.781953441990174\n",
       " -156.12251466848767\n",
       " -324.7527645328908\n",
       "  -29.227568954090756"
      ]
     },
     "execution_count": 53,
     "metadata": {},
     "output_type": "execute_result"
    }
   ],
   "source": [
    "trecanni2.(a)"
   ]
  },
  {
   "cell_type": "code",
   "execution_count": null,
   "id": "b58434b9",
   "metadata": {},
   "outputs": [],
   "source": []
  }
 ],
 "metadata": {
  "kernelspec": {
   "display_name": "Julia 1.8.5",
   "language": "julia",
   "name": "julia-1.8"
  },
  "language_info": {
   "file_extension": ".jl",
   "mimetype": "application/julia",
   "name": "julia",
   "version": "1.8.5"
  }
 },
 "nbformat": 4,
 "nbformat_minor": 5
}
