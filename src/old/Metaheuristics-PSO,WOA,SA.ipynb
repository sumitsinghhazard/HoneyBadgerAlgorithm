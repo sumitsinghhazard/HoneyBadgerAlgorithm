{
 "cells": [
  {
   "cell_type": "code",
   "execution_count": 1,
   "id": "0dee01f3",
   "metadata": {},
   "outputs": [],
   "source": [
    "#using Pkg\n",
    "#Pkg.add(\"Metaheuristics\")"
   ]
  },
  {
   "cell_type": "code",
   "execution_count": 29,
   "id": "03460ed7",
   "metadata": {},
   "outputs": [],
   "source": [
    "using Metaheuristics"
   ]
  },
  {
   "cell_type": "markdown",
   "id": "e9799876",
   "metadata": {},
   "source": [
    "# Function Definitions"
   ]
  },
  {
   "cell_type": "markdown",
   "id": "c6a4aeee",
   "metadata": {},
   "source": [
    "### Unimodal functions"
   ]
  },
  {
   "cell_type": "code",
   "execution_count": 3,
   "id": "00f50fd3",
   "metadata": {},
   "outputs": [
    {
     "data": {
      "text/plain": [
       "sphere (generic function with 1 method)"
      ]
     },
     "execution_count": 3,
     "metadata": {},
     "output_type": "execute_result"
    }
   ],
   "source": [
    "# De Jong's (sphere) function\n",
    "\n",
    "sphere(x)=sum(x.^2)"
   ]
  },
  {
   "cell_type": "code",
   "execution_count": 4,
   "id": "9a64c905",
   "metadata": {},
   "outputs": [
    {
     "data": {
      "text/plain": [
       "schwefel_2_22 (generic function with 1 method)"
      ]
     },
     "execution_count": 4,
     "metadata": {},
     "output_type": "execute_result"
    }
   ],
   "source": [
    "# Schwefel 2.22 function\n",
    "\n",
    "function schwefel_2_22(x)\n",
    "    sum = 0\n",
    "    prod = 1\n",
    "    n = length(x)\n",
    "    for i in 1:n\n",
    "        sum += abs(x[i])\n",
    "        prod *= abs(x[i])\n",
    "    end\n",
    "    val = sum+ prod\n",
    "    return val\n",
    "end"
   ]
  },
  {
   "cell_type": "markdown",
   "id": "5c48b57d",
   "metadata": {},
   "source": [
    "### Multimodal functions"
   ]
  },
  {
   "cell_type": "code",
   "execution_count": 5,
   "id": "6ccb6a9d",
   "metadata": {},
   "outputs": [
    {
     "data": {
      "text/plain": [
       "ackley (generic function with 1 method)"
      ]
     },
     "execution_count": 5,
     "metadata": {},
     "output_type": "execute_result"
    }
   ],
   "source": [
    "# ackley function\n",
    "\n",
    "function ackley(x)\n",
    "    # x = [x1, x2, ..., xd]\n",
    "    # a = default value 20\n",
    "    # b = default value 0.2\n",
    "    # c = default value 2*pi\n",
    "    a = 20\n",
    "    b = 0.2\n",
    "    c = 2*π\n",
    "    n = length(x)\n",
    "    sum1 = 0\n",
    "    sum2 = 0\n",
    "    for i in 1:n\n",
    "        sum1 += x[i]^2\n",
    "        sum2 += cos(c*x[i])\n",
    "    end\n",
    "    \n",
    "    term1 = -a * exp(-b*sqrt(sum1/n))\n",
    "    term2 = -exp(sum2/n)\n",
    "    y = term1 + term2 + a + exp(1)\n",
    "    return y\n",
    "end"
   ]
  },
  {
   "cell_type": "code",
   "execution_count": 6,
   "id": "7486cad1",
   "metadata": {},
   "outputs": [
    {
     "data": {
      "text/plain": [
       "rastrigin (generic function with 1 method)"
      ]
     },
     "execution_count": 6,
     "metadata": {},
     "output_type": "execute_result"
    }
   ],
   "source": [
    "# rastrigin function\n",
    "\n",
    "function rastrigin(x)\n",
    "    val = -10length(x)\n",
    "    n = length(x)\n",
    "    for i in 1:n\n",
    "        val += -x[i]^2+10cos(π*x[i])\n",
    "    end\n",
    "    val =-val\n",
    "    return val\n",
    "end"
   ]
  },
  {
   "cell_type": "markdown",
   "id": "2a611901",
   "metadata": {},
   "source": [
    "### Fixed Dimensions Functions"
   ]
  },
  {
   "cell_type": "code",
   "execution_count": 7,
   "id": "b901858b",
   "metadata": {
    "scrolled": true
   },
   "outputs": [
    {
     "data": {
      "text/plain": [
       "matyas2 (generic function with 1 method)"
      ]
     },
     "execution_count": 7,
     "metadata": {},
     "output_type": "execute_result"
    }
   ],
   "source": [
    "# matyas function\n",
    "\n",
    "function matyas2(x)\n",
    "    x1 = x[1]\n",
    "    x2 = x[2]\n",
    "    val = (0.26 * ((x1 ^ 2) + (x2 ^ 2) ))  - (0.48 * x1 * x2)\n",
    "    return val\n",
    "end"
   ]
  },
  {
   "cell_type": "code",
   "execution_count": 8,
   "id": "7a7f0bdd",
   "metadata": {},
   "outputs": [
    {
     "data": {
      "text/plain": [
       "zirilli2 (generic function with 1 method)"
      ]
     },
     "execution_count": 8,
     "metadata": {},
     "output_type": "execute_result"
    }
   ],
   "source": [
    "# zirilli function\n",
    "\n",
    "function zirilli2(x)\n",
    "    x1 = x[1]\n",
    "    x2 = x[2]\n",
    "    val = (0.5 * (x1 ^ 2)) + (0.5 * (1 - cos(2*x1)) ) + (x2 ^ 2)\n",
    "    return val\n",
    "end"
   ]
  },
  {
   "cell_type": "markdown",
   "id": "f067be60",
   "metadata": {},
   "source": [
    "#  PARTICLE SWARM OPTIMIZATION"
   ]
  },
  {
   "cell_type": "markdown",
   "id": "71023eba",
   "metadata": {},
   "source": [
    "### For PSO -> N = 50; c1 and c2 are 1.5 and ω = 0.7"
   ]
  },
  {
   "cell_type": "markdown",
   "id": "725e2979",
   "metadata": {},
   "source": [
    " #### Optimization Results for Unimodal Functions"
   ]
  },
  {
   "cell_type": "code",
   "execution_count": 9,
   "id": "0dc915aa",
   "metadata": {
    "scrolled": true
   },
   "outputs": [
    {
     "data": {
      "text/html": [
       "<pre>\n",
       "+=========== RESULT ==========+\n",
       "  iteration: 1144\n",
       "    minimum: 3945.76\n",
       "  minimizer: [2.9715485865509295, -8.475158501130894, -0.1010354693358171, 8.338221621014368, -14.49970628311615, -8.789488302658734, 6.572699505868489, 19.84414574001275, -11.284863084581286, -2.809717627309274  …  -8.137817240748442, -4.792540831242272, -12.800255671048362, -15.896242106673508, 4.989334731868968, -28.22338560262041, -3.897553094737057, -17.96968306889818, 6.9011848844906405, 4.370235389611016]\n",
       "    f calls: 57200\n",
       " total time: 1.6450 s\n",
       "stop reason: Small difference of objective function values.\n",
       "+============================+\n",
       "</pre>\n"
      ],
      "text/plain": [
       "+=========== RESULT ==========+\n",
       "  iteration: 1144\n",
       "    minimum: 3945.76\n",
       "  minimizer: [2.9715485865509295, -8.475158501130894, -0.1010354693358171, 8.338221621014368, -14.49970628311615, -8.789488302658734, 6.572699505868489, 19.84414574001275, -11.284863084581286, -2.809717627309274  …  -8.137817240748442, -4.792540831242272, -12.800255671048362, -15.896242106673508, 4.989334731868968, -28.22338560262041, -3.897553094737057, -17.96968306889818, 6.9011848844906405, 4.370235389611016]\n",
       "    f calls: 57200\n",
       " total time: 1.6450 s\n",
       "stop reason: Small difference of objective function values.\n",
       "+============================+\n"
      ]
     },
     "execution_count": 9,
     "metadata": {},
     "output_type": "execute_result"
    }
   ],
   "source": [
    "# Optimize de jong's sphere function = 30 Dimension; bounds -100 to 100\n",
    "a = repeat([-100.0],30)\n",
    "b = repeat([100.0],30)\n",
    "\n",
    "optimize(sphere,[a b], PSO(N = 50, C1 = 1.5, C2 = 1.5, ω = 0.7))"
   ]
  },
  {
   "cell_type": "code",
   "execution_count": 10,
   "id": "aac45998",
   "metadata": {},
   "outputs": [
    {
     "data": {
      "text/html": [
       "<pre>\n",
       "+=========== RESULT ==========+\n",
       "  iteration: 721\n",
       "    minimum: 637.105\n",
       "  minimizer: [17.966704753767278, 3.797421127743773, -0.000588098947882381, -47.090946212132316, 11.320172952333287, 1.7150237259263663e-34, -67.09792665338317, -67.10279289575203, 14.716594792677162, 34.47716187586759  …  47.31698534139477, 0.008813484401495061, -26.13077850597173, 62.51842926972804, -8.800805069513347, -6.17238688796549, -4.788861013373669e-5, -16.674892773280632, 30.71420580033492, 7.327659170242092]\n",
       "    f calls: 36050\n",
       " total time: 0.1550 s\n",
       "stop reason: Small difference of objective function values.\n",
       "+============================+\n",
       "</pre>\n"
      ],
      "text/plain": [
       "+=========== RESULT ==========+\n",
       "  iteration: 721\n",
       "    minimum: 637.105\n",
       "  minimizer: [17.966704753767278, 3.797421127743773, -0.000588098947882381, -47.090946212132316, 11.320172952333287, 1.7150237259263663e-34, -67.09792665338317, -67.10279289575203, 14.716594792677162, 34.47716187586759  …  47.31698534139477, 0.008813484401495061, -26.13077850597173, 62.51842926972804, -8.800805069513347, -6.17238688796549, -4.788861013373669e-5, -16.674892773280632, 30.71420580033492, 7.327659170242092]\n",
       "    f calls: 36050\n",
       " total time: 0.1550 s\n",
       "stop reason: Small difference of objective function values.\n",
       "+============================+\n"
      ]
     },
     "execution_count": 10,
     "metadata": {},
     "output_type": "execute_result"
    }
   ],
   "source": [
    "# Optimize schewefel 2.22 function = 30 Dimensions; bounds -100 to 100\n",
    "a = repeat([-100.0],30)\n",
    "b = repeat([100.0],30)\n",
    "\n",
    "optimize(schwefel_2_22, [a b], PSO(N = 50, C1 = 1.5, C2 = 1.5, ω = 0.7)) "
   ]
  },
  {
   "cell_type": "markdown",
   "id": "711cf8c8",
   "metadata": {},
   "source": [
    " #### Optimization Results for Multimodal Functions"
   ]
  },
  {
   "cell_type": "code",
   "execution_count": 11,
   "id": "145ae6c3",
   "metadata": {},
   "outputs": [
    {
     "data": {
      "text/html": [
       "<pre>\n",
       "+=========== RESULT ==========+\n",
       "  iteration: 1910\n",
       "    minimum: 12.6884\n",
       "  minimizer: [-3.099151455181239, 3.01119713326023, 2.1993379923072767, -5.0463280568439135, 2.9991648927449015, -6.971440092376595, 0.014989476786728906, 3.06252006584526, -4.944166092032737, 5.050069742693214  …  1.8883990029749829, -4.9271677096715845, 7.9623135239976355, -2.0211744296561776, -12.00033088858095, 6.887321719348977, -5.821344515303034, 2.963242434399717, 2.950968220049543, -4.0230432079443625]\n",
       "    f calls: 95500\n",
       " total time: 0.5070 s\n",
       "stop reason: Small difference of objective function values.\n",
       "+============================+\n",
       "</pre>\n"
      ],
      "text/plain": [
       "+=========== RESULT ==========+\n",
       "  iteration: 1910\n",
       "    minimum: 12.6884\n",
       "  minimizer: [-3.099151455181239, 3.01119713326023, 2.1993379923072767, -5.0463280568439135, 2.9991648927449015, -6.971440092376595, 0.014989476786728906, 3.06252006584526, -4.944166092032737, 5.050069742693214  …  1.8883990029749829, -4.9271677096715845, 7.9623135239976355, -2.0211744296561776, -12.00033088858095, 6.887321719348977, -5.821344515303034, 2.963242434399717, 2.950968220049543, -4.0230432079443625]\n",
       "    f calls: 95500\n",
       " total time: 0.5070 s\n",
       "stop reason: Small difference of objective function values.\n",
       "+============================+\n"
      ]
     },
     "execution_count": 11,
     "metadata": {},
     "output_type": "execute_result"
    }
   ],
   "source": [
    "# Optimize ackley fucntion = 30 Dimensions; bounds -32 to 32\n",
    "a = repeat([-32.0],30)\n",
    "b = repeat([32.0],30)\n",
    "\n",
    "optimize(ackley, [a b], PSO(N = 50, C1 = 1.5, C2 = 1.5, ω = 0.7))"
   ]
  },
  {
   "cell_type": "code",
   "execution_count": 12,
   "id": "2c376f87",
   "metadata": {
    "scrolled": true
   },
   "outputs": [
    {
     "data": {
      "text/html": [
       "<pre>\n",
       "+=========== RESULT ==========+\n",
       "  iteration: 1214\n",
       "    minimum: 115.056\n",
       "  minimizer: [0.09001992348779088, 0.0908923463242265, 0.01612410452120639, -0.7485508161546868, 3.8482630355837335, 0.373493593025014, -0.10426772614002408, -1.9458636754419214, 2.080352641864176, 1.9682258614723172  …  0.014526432950083825, 0.12395842512747891, 0.2065632848744013, 2.0072160069995566, 0.11618286807088925, -2.1692557138050645, -0.273408049754099, 0.05789658400232779, 1.8601317923792373, -2.051211357902459]\n",
       "    f calls: 60700\n",
       " total time: 0.2500 s\n",
       "stop reason: Small difference of objective function values.\n",
       "+============================+\n",
       "</pre>\n"
      ],
      "text/plain": [
       "+=========== RESULT ==========+\n",
       "  iteration: 1214\n",
       "    minimum: 115.056\n",
       "  minimizer: [0.09001992348779088, 0.0908923463242265, 0.01612410452120639, -0.7485508161546868, 3.8482630355837335, 0.373493593025014, -0.10426772614002408, -1.9458636754419214, 2.080352641864176, 1.9682258614723172  …  0.014526432950083825, 0.12395842512747891, 0.2065632848744013, 2.0072160069995566, 0.11618286807088925, -2.1692557138050645, -0.273408049754099, 0.05789658400232779, 1.8601317923792373, -2.051211357902459]\n",
       "    f calls: 60700\n",
       " total time: 0.2500 s\n",
       "stop reason: Small difference of objective function values.\n",
       "+============================+\n"
      ]
     },
     "execution_count": 12,
     "metadata": {},
     "output_type": "execute_result"
    }
   ],
   "source": [
    "# Optimize rastrigin function = 30 Dimensions; bounds -5.12 to 5.12\n",
    "a = repeat([-5.12],30)\n",
    "b = repeat([5.12],30)\n",
    "\n",
    "optimize(rastrigin, [a b], PSO(N = 50, C1=1.5, C2=1.5, ω = 0.7))"
   ]
  },
  {
   "cell_type": "markdown",
   "id": "32ed8638",
   "metadata": {},
   "source": [
    "#### Optimization Results for Fixed Dimensional Functions"
   ]
  },
  {
   "cell_type": "code",
   "execution_count": 13,
   "id": "47e0249d",
   "metadata": {},
   "outputs": [
    {
     "data": {
      "text/html": [
       "<pre>\n",
       "+=========== RESULT ==========+\n",
       "  iteration: 400\n",
       "    minimum: 3.3255e-49\n",
       "  minimizer: [-4.979978932275726e-25, 6.549179247098188e-25]\n",
       "    f calls: 20000\n",
       " total time: 0.0730 s\n",
       "stop reason: Maximum objective function calls exceeded.\n",
       "+============================+\n",
       "</pre>\n"
      ],
      "text/plain": [
       "+=========== RESULT ==========+\n",
       "  iteration: 400\n",
       "    minimum: 3.3255e-49\n",
       "  minimizer: [-4.979978932275726e-25, 6.549179247098188e-25]\n",
       "    f calls: 20000\n",
       " total time: 0.0730 s\n",
       "stop reason: Maximum objective function calls exceeded.\n",
       "+============================+\n"
      ]
     },
     "execution_count": 13,
     "metadata": {},
     "output_type": "execute_result"
    }
   ],
   "source": [
    "# Optimize matyas2 function = 2 Dimensions; bounds -10 to 10\n",
    "\n",
    "optimize(matyas2, [-10 -10 ; 10 10.0], PSO(N = 50, C1=1.5, C2=1.5, ω = 0.7))"
   ]
  },
  {
   "cell_type": "code",
   "execution_count": 14,
   "id": "3fa54e2a",
   "metadata": {
    "scrolled": true
   },
   "outputs": [
    {
     "data": {
      "text/html": [
       "<pre>\n",
       "+=========== RESULT ==========+\n",
       "  iteration: 400\n",
       "    minimum: 1.28534e-47\n",
       "  minimizer: [-3.196236606339427e-24, -2.7830594768188413e-24]\n",
       "    f calls: 20000\n",
       " total time: 0.0810 s\n",
       "stop reason: Maximum objective function calls exceeded.\n",
       "+============================+\n",
       "</pre>\n"
      ],
      "text/plain": [
       "+=========== RESULT ==========+\n",
       "  iteration: 400\n",
       "    minimum: 1.28534e-47\n",
       "  minimizer: [-3.196236606339427e-24, -2.7830594768188413e-24]\n",
       "    f calls: 20000\n",
       " total time: 0.0810 s\n",
       "stop reason: Maximum objective function calls exceeded.\n",
       "+============================+\n"
      ]
     },
     "execution_count": 14,
     "metadata": {},
     "output_type": "execute_result"
    }
   ],
   "source": [
    "# Optimize zirilli2 function = 2 Dimensions; bounds -10 to 10\n",
    "\n",
    "optimize(zirilli2, [-500 -500 ; 500 500.0], PSO(N = 50, C1=1.5, C2=1.5, ω = 0.7))"
   ]
  },
  {
   "cell_type": "markdown",
   "id": "d81ff89f",
   "metadata": {},
   "source": [
    "#  SIMULATED ANNEALING OPTIMIZATION"
   ]
  },
  {
   "cell_type": "markdown",
   "id": "ba1e07a9",
   "metadata": {},
   "source": [
    "### For SA -> N = 50"
   ]
  },
  {
   "cell_type": "markdown",
   "id": "2513cd81",
   "metadata": {},
   "source": [
    " #### Optimization Results for Unimodal Functions"
   ]
  },
  {
   "cell_type": "code",
   "execution_count": 15,
   "id": "57da6fcc",
   "metadata": {
    "scrolled": true
   },
   "outputs": [
    {
     "data": {
      "text/html": [
       "<pre>\n",
       "+=========== RESULT ==========+\n",
       "  iteration: 6000\n",
       "    minimum: 7.77691e-18\n",
       "  minimizer: [1.3770934719639156e-11, -3.458708798896274e-11, 4.008309293228862e-11, 4.171944238518635e-10, -5.384324844290546e-10, -7.553738081755416e-11, 2.054819711562492e-10, -2.2823705581420046e-10, 7.234727383871075e-10, 1.3509240689073543e-10  …  4.846661182272747e-10, 1.0009345163873383e-10, 1.9388100298532992e-10, 1.2212319400486647e-10, -9.437684488885011e-11, -6.629480919236505e-10, 3.5691935096954987e-10, -6.740468722404018e-11, 3.182380221284401e-10, -1.321103869312833e-10]\n",
       "    f calls: 299902\n",
       " total time: 0.7780 s\n",
       "stop reason: Maximum number of iterations exceeded.\n",
       "+============================+\n",
       "</pre>\n"
      ],
      "text/plain": [
       "+=========== RESULT ==========+\n",
       "  iteration: 6000\n",
       "    minimum: 7.77691e-18\n",
       "  minimizer: [1.3770934719639156e-11, -3.458708798896274e-11, 4.008309293228862e-11, 4.171944238518635e-10, -5.384324844290546e-10, -7.553738081755416e-11, 2.054819711562492e-10, -2.2823705581420046e-10, 7.234727383871075e-10, 1.3509240689073543e-10  …  4.846661182272747e-10, 1.0009345163873383e-10, 1.9388100298532992e-10, 1.2212319400486647e-10, -9.437684488885011e-11, -6.629480919236505e-10, 3.5691935096954987e-10, -6.740468722404018e-11, 3.182380221284401e-10, -1.321103869312833e-10]\n",
       "    f calls: 299902\n",
       " total time: 0.7780 s\n",
       "stop reason: Maximum number of iterations exceeded.\n",
       "+============================+\n"
      ]
     },
     "execution_count": 15,
     "metadata": {},
     "output_type": "execute_result"
    }
   ],
   "source": [
    "# Optimize de jong's sphere fucntion = 30 Dimension; bounds -100 to 100\n",
    "a = repeat([-100.0],30)\n",
    "b = repeat([100.0],30)\n",
    "\n",
    "optimize(sphere, [a b], SA(N = 50, x_initial = []))"
   ]
  },
  {
   "cell_type": "code",
   "execution_count": 16,
   "id": "546727ee",
   "metadata": {},
   "outputs": [
    {
     "data": {
      "text/html": [
       "<pre>\n",
       "+=========== RESULT ==========+\n",
       "  iteration: 6000\n",
       "    minimum: 3.25478e-09\n",
       "  minimizer: [1.4792296404815124e-10, -2.2938772711022738e-10, 9.45885948787304e-12, 8.669057993010214e-11, -3.496877733769625e-11, 5.0134273140259895e-12, -3.3954956691197893e-10, 1.89923045053529e-12, -3.4416233975676806e-12, 4.5925074184272047e-10  …  1.6065911428315781e-10, 9.363498508528406e-12, 2.5410683112516008e-11, -3.903341771284661e-12, 1.337264315253963e-10, -1.2926997958530358e-11, 4.027845511622096e-11, 1.1905540835260477e-10, 8.32485345696202e-10, 6.138457375428212e-11]\n",
       "    f calls: 299902\n",
       " total time: 0.6020 s\n",
       "stop reason: Maximum number of iterations exceeded.\n",
       "+============================+\n",
       "</pre>\n"
      ],
      "text/plain": [
       "+=========== RESULT ==========+\n",
       "  iteration: 6000\n",
       "    minimum: 3.25478e-09\n",
       "  minimizer: [1.4792296404815124e-10, -2.2938772711022738e-10, 9.45885948787304e-12, 8.669057993010214e-11, -3.496877733769625e-11, 5.0134273140259895e-12, -3.3954956691197893e-10, 1.89923045053529e-12, -3.4416233975676806e-12, 4.5925074184272047e-10  …  1.6065911428315781e-10, 9.363498508528406e-12, 2.5410683112516008e-11, -3.903341771284661e-12, 1.337264315253963e-10, -1.2926997958530358e-11, 4.027845511622096e-11, 1.1905540835260477e-10, 8.32485345696202e-10, 6.138457375428212e-11]\n",
       "    f calls: 299902\n",
       " total time: 0.6020 s\n",
       "stop reason: Maximum number of iterations exceeded.\n",
       "+============================+\n"
      ]
     },
     "execution_count": 16,
     "metadata": {},
     "output_type": "execute_result"
    }
   ],
   "source": [
    "# Optimize schewefel 2.22 fucntion = 30 Dimension; bounds -100 to 100\n",
    "a = repeat([-100.0],30)\n",
    "b = repeat([100.0],30)\n",
    "\n",
    "optimize(schwefel_2_22, [a b], SA(N = 50, x_initial = []))"
   ]
  },
  {
   "cell_type": "markdown",
   "id": "c39e868d",
   "metadata": {},
   "source": [
    " #### Optimization Results for Multimodal Functions"
   ]
  },
  {
   "cell_type": "code",
   "execution_count": 17,
   "id": "f49ab909",
   "metadata": {},
   "outputs": [
    {
     "data": {
      "text/html": [
       "<pre>\n",
       "+=========== RESULT ==========+\n",
       "  iteration: 6000\n",
       "    minimum: 7.14213e-10\n",
       "  minimizer: [2.5094574139443097e-11, 1.2314552594121258e-10, 1.9666700611445155e-10, 1.3263964789379802e-10, 3.3836543836178817e-11, -2.1616008760564974e-11, -2.2757950494068327e-11, -3.2959669802556174e-11, 8.021229437056572e-12, -2.0217140439968521e-10  …  -1.138216611145896e-10, -2.174572591539965e-11, -6.007064407621285e-10, -6.4386043229953445e-12, 9.833387367213275e-12, -7.122558998489671e-11, 2.260296305303848e-11, 1.0002770351712543e-11, 1.2530890593228682e-10, -8.001698044966192e-11]\n",
       "    f calls: 299902\n",
       " total time: 0.6770 s\n",
       "stop reason: Maximum number of iterations exceeded.\n",
       "+============================+\n",
       "</pre>\n"
      ],
      "text/plain": [
       "+=========== RESULT ==========+\n",
       "  iteration: 6000\n",
       "    minimum: 7.14213e-10\n",
       "  minimizer: [2.5094574139443097e-11, 1.2314552594121258e-10, 1.9666700611445155e-10, 1.3263964789379802e-10, 3.3836543836178817e-11, -2.1616008760564974e-11, -2.2757950494068327e-11, -3.2959669802556174e-11, 8.021229437056572e-12, -2.0217140439968521e-10  …  -1.138216611145896e-10, -2.174572591539965e-11, -6.007064407621285e-10, -6.4386043229953445e-12, 9.833387367213275e-12, -7.122558998489671e-11, 2.260296305303848e-11, 1.0002770351712543e-11, 1.2530890593228682e-10, -8.001698044966192e-11]\n",
       "    f calls: 299902\n",
       " total time: 0.6770 s\n",
       "stop reason: Maximum number of iterations exceeded.\n",
       "+============================+\n"
      ]
     },
     "execution_count": 17,
     "metadata": {},
     "output_type": "execute_result"
    }
   ],
   "source": [
    "# Optimize ackley fucntion - 30 Dimensions; bounds -32 to 32\n",
    "a = repeat([-32.0],30)\n",
    "b = repeat([32.0],30)\n",
    "\n",
    "optimize(ackley,[a b], SA(N = 50, x_initial = []))"
   ]
  },
  {
   "cell_type": "code",
   "execution_count": 18,
   "id": "42df76c4",
   "metadata": {
    "scrolled": true
   },
   "outputs": [
    {
     "data": {
      "text/html": [
       "<pre>\n",
       "+=========== RESULT ==========+\n",
       "  iteration: 6000\n",
       "    minimum: -0\n",
       "  minimizer: [1.62641370287479e-8, 1.5095419166915646e-8, 6.209028609816552e-9, 1.0897679229531712e-8, -4.922920523348519e-9, -6.620121939346666e-9, -1.2525092076567142e-8, 4.3088032825947915e-9, 8.453582432121797e-9, 1.7122452256361802e-8  …  6.364313272677027e-9, -9.071191609134214e-9, 1.0974692506912739e-8, -6.8132325425183996e-9, 7.641030599667257e-9, 7.183124661370328e-9, -3.6898307762933102e-9, 5.166913735751717e-9, 1.535410777719888e-9, -3.2249523596851964e-9]\n",
       "    f calls: 299902\n",
       " total time: 0.6510 s\n",
       "stop reason: Maximum number of iterations exceeded.\n",
       "+============================+\n",
       "</pre>\n"
      ],
      "text/plain": [
       "+=========== RESULT ==========+\n",
       "  iteration: 6000\n",
       "    minimum: -0\n",
       "  minimizer: [1.62641370287479e-8, 1.5095419166915646e-8, 6.209028609816552e-9, 1.0897679229531712e-8, -4.922920523348519e-9, -6.620121939346666e-9, -1.2525092076567142e-8, 4.3088032825947915e-9, 8.453582432121797e-9, 1.7122452256361802e-8  …  6.364313272677027e-9, -9.071191609134214e-9, 1.0974692506912739e-8, -6.8132325425183996e-9, 7.641030599667257e-9, 7.183124661370328e-9, -3.6898307762933102e-9, 5.166913735751717e-9, 1.535410777719888e-9, -3.2249523596851964e-9]\n",
       "    f calls: 299902\n",
       " total time: 0.6510 s\n",
       "stop reason: Maximum number of iterations exceeded.\n",
       "+============================+\n"
      ]
     },
     "execution_count": 18,
     "metadata": {},
     "output_type": "execute_result"
    }
   ],
   "source": [
    "# Optimize rastrigin function = 30 Dimensions; bounds -5.12 to 5.12\n",
    "a = repeat([-5.12],30)\n",
    "b = repeat([5.12],30)\n",
    "\n",
    "optimize(rastrigin,[a b], SA(N = 50, x_initial = []))"
   ]
  },
  {
   "cell_type": "markdown",
   "id": "be84baa8",
   "metadata": {},
   "source": [
    "#### Optimization Results for Fixed Dimensional Functions"
   ]
  },
  {
   "cell_type": "code",
   "execution_count": 19,
   "id": "7e8b80d8",
   "metadata": {},
   "outputs": [
    {
     "data": {
      "text/html": [
       "<pre>\n",
       "+=========== RESULT ==========+\n",
       "  iteration: 400\n",
       "    minimum: 5.12145e-19\n",
       "  minimizer: [3.6490524555984393e-9, 3.373427668004282e-9]\n",
       "    f calls: 19902\n",
       " total time: 0.0250 s\n",
       "stop reason: Maximum number of iterations exceeded.\n",
       "+============================+\n",
       "</pre>\n"
      ],
      "text/plain": [
       "+=========== RESULT ==========+\n",
       "  iteration: 400\n",
       "    minimum: 5.12145e-19\n",
       "  minimizer: [3.6490524555984393e-9, 3.373427668004282e-9]\n",
       "    f calls: 19902\n",
       " total time: 0.0250 s\n",
       "stop reason: Maximum number of iterations exceeded.\n",
       "+============================+\n"
      ]
     },
     "execution_count": 19,
     "metadata": {},
     "output_type": "execute_result"
    }
   ],
   "source": [
    "# Optimize matyas2 function = 2 Dimensions; bounds -10 to 10\n",
    "\n",
    "optimize(matyas2, [-10 -10 ; 10 10.0], SA(N = 50, x_initial = []))"
   ]
  },
  {
   "cell_type": "code",
   "execution_count": 20,
   "id": "4fbac57f",
   "metadata": {
    "scrolled": true
   },
   "outputs": [
    {
     "data": {
      "text/html": [
       "<pre>\n",
       "+=========== RESULT ==========+\n",
       "  iteration: 400\n",
       "    minimum: 4.35353e-75\n",
       "  minimizer: [-9.304353378266874e-38, 4.998018022054575e-39]\n",
       "    f calls: 19902\n",
       " total time: 0.0160 s\n",
       "stop reason: Maximum number of iterations exceeded.\n",
       "+============================+\n",
       "</pre>\n"
      ],
      "text/plain": [
       "+=========== RESULT ==========+\n",
       "  iteration: 400\n",
       "    minimum: 4.35353e-75\n",
       "  minimizer: [-9.304353378266874e-38, 4.998018022054575e-39]\n",
       "    f calls: 19902\n",
       " total time: 0.0160 s\n",
       "stop reason: Maximum number of iterations exceeded.\n",
       "+============================+\n"
      ]
     },
     "execution_count": 20,
     "metadata": {},
     "output_type": "execute_result"
    }
   ],
   "source": [
    "# Optimize zirilli2 function = 2 Dimensions; bounds -10 to 10\n",
    "\n",
    "optimize(zirilli2, [-500 -500; 500 500.0], SA(N = 50, x_initial = []))"
   ]
  },
  {
   "cell_type": "markdown",
   "id": "38a1bb76",
   "metadata": {},
   "source": [
    "#  DIFFERENTIAL EVOLUTION OPTIMIZATION"
   ]
  },
  {
   "cell_type": "markdown",
   "id": "2c2ac329",
   "metadata": {},
   "source": [
    "**Code: optimize(f, [a b], DE(N=50, F=1.0, CR=0.8))**\n",
    "\n",
    "f is the benchmark function;\n",
    "\n",
    "a and b are bounds;\n",
    "\n",
    "N is the population size;\n",
    "\n",
    "F is the step size\n",
    "\n",
    "CR is a constant which controls binomial crossover"
   ]
  },
  {
   "cell_type": "markdown",
   "id": "19a065a2",
   "metadata": {},
   "source": [
    " #### Optimization Results for Unimodal Functions"
   ]
  },
  {
   "cell_type": "code",
   "execution_count": 21,
   "id": "b18bf7ce",
   "metadata": {
    "scrolled": true
   },
   "outputs": [
    {
     "data": {
      "text/html": [
       "<pre>\n",
       "+=========== RESULT ==========+\n",
       "  iteration: 6000\n",
       "    minimum: 1089.54\n",
       "  minimizer: [5.3193470602241515, 1.7646915019416802, -0.8748659944916284, 2.934358569274682, -4.415347424501352, -11.063150221143815, -9.237109831896568, -9.059441329579254, 4.844991973257454, -2.980737374731568  …  -2.4423181508116443, 2.1134840662638794, -6.0109913381087665, 6.887729540409602, -3.5482526194474, -12.172784617349382, 4.259960047454058, -9.263825847171361, 0.9152426368658269, 1.3711421483943411]\n",
       "    f calls: 300000\n",
       " total time: 0.6050 s\n",
       "stop reason: Maximum objective function calls exceeded.\n",
       "+============================+\n",
       "</pre>\n"
      ],
      "text/plain": [
       "+=========== RESULT ==========+\n",
       "  iteration: 6000\n",
       "    minimum: 1089.54\n",
       "  minimizer: [5.3193470602241515, 1.7646915019416802, -0.8748659944916284, 2.934358569274682, -4.415347424501352, -11.063150221143815, -9.237109831896568, -9.059441329579254, 4.844991973257454, -2.980737374731568  …  -2.4423181508116443, 2.1134840662638794, -6.0109913381087665, 6.887729540409602, -3.5482526194474, -12.172784617349382, 4.259960047454058, -9.263825847171361, 0.9152426368658269, 1.3711421483943411]\n",
       "    f calls: 300000\n",
       " total time: 0.6050 s\n",
       "stop reason: Maximum objective function calls exceeded.\n",
       "+============================+\n"
      ]
     },
     "execution_count": 21,
     "metadata": {},
     "output_type": "execute_result"
    }
   ],
   "source": [
    "# Optimize de jong's sphere fucntion = 30 Dimension; bounds -100 to 100\n",
    "a = repeat([-100.0],30)\n",
    "b = repeat([100.0],30)\n",
    "\n",
    "optimize(sphere, [a b], DE(N=50, F=1.0, CR=0.8))"
   ]
  },
  {
   "cell_type": "code",
   "execution_count": 22,
   "id": "de6e4d44",
   "metadata": {},
   "outputs": [
    {
     "data": {
      "text/html": [
       "<pre>\n",
       "+=========== RESULT ==========+\n",
       "  iteration: 6000\n",
       "    minimum: 165.364\n",
       "  minimizer: [-2.8686680119171584, -0.8212283459949781, 3.163562621649536, -16.707322781296373, -3.338466364567644, 15.126621590969695, -15.1302836011759, 0.03614186107042627, 0.01354895719791216, 15.786970049821662  …  -10.897723502525743, -4.046940950496753, -0.021884568669335636, 3.4856083389572277, -4.768743814871058, -5.517354466380853, 0.03138338116925787, 2.9375090819813856, 2.2549781916287497, -14.036659405430317]\n",
       "    f calls: 300000\n",
       " total time: 0.2900 s\n",
       "stop reason: Maximum objective function calls exceeded.\n",
       "+============================+\n",
       "</pre>\n"
      ],
      "text/plain": [
       "+=========== RESULT ==========+\n",
       "  iteration: 6000\n",
       "    minimum: 165.364\n",
       "  minimizer: [-2.8686680119171584, -0.8212283459949781, 3.163562621649536, -16.707322781296373, -3.338466364567644, 15.126621590969695, -15.1302836011759, 0.03614186107042627, 0.01354895719791216, 15.786970049821662  …  -10.897723502525743, -4.046940950496753, -0.021884568669335636, 3.4856083389572277, -4.768743814871058, -5.517354466380853, 0.03138338116925787, 2.9375090819813856, 2.2549781916287497, -14.036659405430317]\n",
       "    f calls: 300000\n",
       " total time: 0.2900 s\n",
       "stop reason: Maximum objective function calls exceeded.\n",
       "+============================+\n"
      ]
     },
     "execution_count": 22,
     "metadata": {},
     "output_type": "execute_result"
    }
   ],
   "source": [
    "# Optimize schewefel 2.22 fucntion = 30 Dimension; bounds -100 to 100\n",
    "a = repeat([-100.0],30)\n",
    "b = repeat([100.0],30)\n",
    "\n",
    "optimize(schwefel_2_22, [a b], DE(N=50, F=1.0, CR=0.8))"
   ]
  },
  {
   "cell_type": "markdown",
   "id": "b6135efd",
   "metadata": {},
   "source": [
    " #### Optimization Results for Multimodal Functions"
   ]
  },
  {
   "cell_type": "code",
   "execution_count": 23,
   "id": "7260069c",
   "metadata": {},
   "outputs": [
    {
     "data": {
      "text/html": [
       "<pre>\n",
       "+=========== RESULT ==========+\n",
       "  iteration: 6000\n",
       "    minimum: 8.82917\n",
       "  minimizer: [2.4598741884786213, 0.24632702260039174, 2.1147931288552044, -1.54886845986701, -1.4032267973034216, -4.519012093387274, -2.2349347816062526, 0.66329863867138, -2.3721610201003323, -2.1008206332014483  …  -0.7463350643786413, -4.781237084486833, -1.9184428597925685, 0.3844051926700711, -0.8493845121628834, -0.0924939322557794, -0.6383022508183984, 0.06602866158472054, 3.104368069435399, 0.038008943546557816]\n",
       "    f calls: 300000\n",
       " total time: 0.4330 s\n",
       "stop reason: Maximum objective function calls exceeded.\n",
       "+============================+\n",
       "</pre>\n"
      ],
      "text/plain": [
       "+=========== RESULT ==========+\n",
       "  iteration: 6000\n",
       "    minimum: 8.82917\n",
       "  minimizer: [2.4598741884786213, 0.24632702260039174, 2.1147931288552044, -1.54886845986701, -1.4032267973034216, -4.519012093387274, -2.2349347816062526, 0.66329863867138, -2.3721610201003323, -2.1008206332014483  …  -0.7463350643786413, -4.781237084486833, -1.9184428597925685, 0.3844051926700711, -0.8493845121628834, -0.0924939322557794, -0.6383022508183984, 0.06602866158472054, 3.104368069435399, 0.038008943546557816]\n",
       "    f calls: 300000\n",
       " total time: 0.4330 s\n",
       "stop reason: Maximum objective function calls exceeded.\n",
       "+============================+\n"
      ]
     },
     "execution_count": 23,
     "metadata": {},
     "output_type": "execute_result"
    }
   ],
   "source": [
    "# Optimize ackley fucntion - 30 Dimensions; bounds -32 to 32\n",
    "a = repeat([-32.0],30)\n",
    "b = repeat([32.0],30)\n",
    "\n",
    "optimize(ackley, [a b], DE(N=50, F=1.0, CR=0.8))"
   ]
  },
  {
   "cell_type": "code",
   "execution_count": 27,
   "id": "6acf7d91",
   "metadata": {
    "scrolled": true
   },
   "outputs": [
    {
     "data": {
      "text/html": [
       "<pre>\n",
       "+=========== RESULT ==========+\n",
       "  iteration: 6000\n",
       "    minimum: 52.0531\n",
       "  minimizer: [0.0883398682658354, 0.0919073280478373, 1.854042186721326, 1.9999692447672208, 0.02326859033010442, -0.17745945843553668, -0.04092713551441496, 0.06668906208302561, 0.261694104735569, 0.03768069943885033  …  0.039292429636990756, -0.03438519892678049, 0.10883077832638888, -0.26116787739507363, 1.865824385973542, -0.2837387875765447, 0.01768299467998613, 1.8068232559221282, -0.024645839347962717, 0.04167057975074773]\n",
       "    f calls: 300000\n",
       " total time: 0.4230 s\n",
       "stop reason: Maximum objective function calls exceeded.\n",
       "+============================+\n",
       "</pre>\n"
      ],
      "text/plain": [
       "+=========== RESULT ==========+\n",
       "  iteration: 6000\n",
       "    minimum: 52.0531\n",
       "  minimizer: [0.0883398682658354, 0.0919073280478373, 1.854042186721326, 1.9999692447672208, 0.02326859033010442, -0.17745945843553668, -0.04092713551441496, 0.06668906208302561, 0.261694104735569, 0.03768069943885033  …  0.039292429636990756, -0.03438519892678049, 0.10883077832638888, -0.26116787739507363, 1.865824385973542, -0.2837387875765447, 0.01768299467998613, 1.8068232559221282, -0.024645839347962717, 0.04167057975074773]\n",
       "    f calls: 300000\n",
       " total time: 0.4230 s\n",
       "stop reason: Maximum objective function calls exceeded.\n",
       "+============================+\n"
      ]
     },
     "execution_count": 27,
     "metadata": {},
     "output_type": "execute_result"
    }
   ],
   "source": [
    "# Optimize rastrigin function = 30 Dimensions; bounds -5.12 to 5.12\n",
    "a = repeat([-5.12],30)\n",
    "b = repeat([5.12],30)\n",
    "\n",
    "optimize(rastrigin, [a b], DE(N=50, F=1.0, CR=0.8))"
   ]
  },
  {
   "cell_type": "markdown",
   "id": "be27d102",
   "metadata": {},
   "source": [
    "#### Optimization Results for Fixed Dimensional Functions"
   ]
  },
  {
   "cell_type": "code",
   "execution_count": 25,
   "id": "27b50856",
   "metadata": {},
   "outputs": [
    {
     "data": {
      "text/html": [
       "<pre>\n",
       "+=========== RESULT ==========+\n",
       "  iteration: 309\n",
       "    minimum: 0\n",
       "  minimizer: [0.0, 0.0]\n",
       "    f calls: 15450\n",
       " total time: 0.0070 s\n",
       "stop reason: Small difference of objective function values.\n",
       "+============================+\n",
       "</pre>\n"
      ],
      "text/plain": [
       "+=========== RESULT ==========+\n",
       "  iteration: 309\n",
       "    minimum: 0\n",
       "  minimizer: [0.0, 0.0]\n",
       "    f calls: 15450\n",
       " total time: 0.0070 s\n",
       "stop reason: Small difference of objective function values.\n",
       "+============================+\n"
      ]
     },
     "execution_count": 25,
     "metadata": {},
     "output_type": "execute_result"
    }
   ],
   "source": [
    "# Optimize matyas2 function = 2 Dimensions; bounds -10 to 10\n",
    "\n",
    "optimize(matyas2, [-10 -10 ; 10 10.0], DE(N=50, F=1.0, CR=0.8))"
   ]
  },
  {
   "cell_type": "code",
   "execution_count": 26,
   "id": "141812d6",
   "metadata": {
    "scrolled": false
   },
   "outputs": [
    {
     "data": {
      "text/html": [
       "<pre>\n",
       "+=========== RESULT ==========+\n",
       "  iteration: 267\n",
       "    minimum: 0\n",
       "  minimizer: [0.0, 0.0]\n",
       "    f calls: 13350\n",
       " total time: 0.0140 s\n",
       "stop reason: Small difference of objective function values.\n",
       "+============================+\n",
       "</pre>\n"
      ],
      "text/plain": [
       "+=========== RESULT ==========+\n",
       "  iteration: 267\n",
       "    minimum: 0\n",
       "  minimizer: [0.0, 0.0]\n",
       "    f calls: 13350\n",
       " total time: 0.0140 s\n",
       "stop reason: Small difference of objective function values.\n",
       "+============================+\n"
      ]
     },
     "execution_count": 26,
     "metadata": {},
     "output_type": "execute_result"
    }
   ],
   "source": [
    "# Optimize zirilli2 function = 2 Dimensions; bounds -10 to 10\n",
    "\n",
    "optimize(zirilli2, [-500 -500; 500 500.0], DE(N=50, F=1.0, CR=0.8))"
   ]
  },
  {
   "cell_type": "markdown",
   "id": "b3a39274",
   "metadata": {},
   "source": [
    "# Covariance matrix adaptation evolution strategy (CMA-ES) "
   ]
  },
  {
   "cell_type": "code",
   "execution_count": 75,
   "id": "3e59a019",
   "metadata": {},
   "outputs": [],
   "source": [
    "using Evolutionary"
   ]
  },
  {
   "cell_type": "markdown",
   "id": "9ccb9d85",
   "metadata": {},
   "source": [
    " #### Optimization Results for Unimodal Functions"
   ]
  },
  {
   "cell_type": "code",
   "execution_count": 76,
   "id": "22f8661f",
   "metadata": {
    "scrolled": true
   },
   "outputs": [
    {
     "data": {
      "text/plain": [
       "\n",
       " * Status: failure (reached maximum number of iterations)\n",
       "\n",
       " * Candidate solution\n",
       "    Minimizer:  [67.22560587834614, -39.23859987197671, 62.06368398245071,  ...]\n",
       "    Minimum:    101620.46873381149\n",
       "    Iterations: 1500\n",
       "\n",
       " * Found with\n",
       "    Algorithm: (10,20)-CMA-ES\n",
       "\n",
       " * Convergence measures\n",
       "    |f(x) - f(x')| = 2.9103830456733704e-11 ≰ 1.0e-12\n",
       "\n",
       " * Work counters\n",
       "    Seconds run:   0.716 (vs limit Inf)\n",
       "    Iterations:    1500\n",
       "    f(x) calls:    30000\n"
      ]
     },
     "execution_count": 76,
     "metadata": {},
     "output_type": "execute_result"
    }
   ],
   "source": [
    "# Optimize de jong's sphere fucntion = 30 Dimension; bounds -100 to 100\n",
    "d = 30\n",
    "x0 = rand(d).*200\n",
    "x = x0.-100\n",
    "N = 50  #no. of populations\n",
    "μ = N/2 # no of parents\n",
    "\n",
    "#println(x)\n",
    "\n",
    "Evolutionary.optimize(sphere, x, CMAES())"
   ]
  },
  {
   "cell_type": "code",
   "execution_count": 77,
   "id": "718970ba",
   "metadata": {},
   "outputs": [
    {
     "data": {
      "text/plain": [
       "\n",
       " * Status: failure (reached maximum number of iterations)\n",
       "\n",
       " * Candidate solution\n",
       "    Minimizer:  [-9.445826196398137, 44.52569231344745, -82.2730377108342,  ...]\n",
       "    Minimum:    1874.144978271078\n",
       "    Iterations: 1500\n",
       "\n",
       " * Found with\n",
       "    Algorithm: (10,20)-CMA-ES\n",
       "\n",
       " * Convergence measures\n",
       "    |f(x) - f(x')| = 12964.53228435227 ≰ 1.0e-12\n",
       "\n",
       " * Work counters\n",
       "    Seconds run:   0.756 (vs limit Inf)\n",
       "    Iterations:    1500\n",
       "    f(x) calls:    30000\n"
      ]
     },
     "execution_count": 77,
     "metadata": {},
     "output_type": "execute_result"
    }
   ],
   "source": [
    "# Optimize schewefel 2.22 fucntion = 30 Dimension; bounds -100 to 100\n",
    "d = 30\n",
    "x0 = rand(d).*200\n",
    "x = x0.-100\n",
    "N = 50  #no. of populations\n",
    "μ = N/2 # no of parents\n",
    "\n",
    "#println(x)\n",
    "\n",
    "Evolutionary.optimize(schwefel_2_22, x, CMAES())"
   ]
  },
  {
   "cell_type": "markdown",
   "id": "bc96ae28",
   "metadata": {},
   "source": [
    " #### Optimization Results for Multimodal Functions"
   ]
  },
  {
   "cell_type": "code",
   "execution_count": 78,
   "id": "7fff86dc",
   "metadata": {},
   "outputs": [
    {
     "data": {
      "text/plain": [
       "\n",
       " * Status: success\n",
       "\n",
       " * Candidate solution\n",
       "    Minimizer:  [-11.999321536740606, 7.994890623746361, 1.003320236982485,  ...]\n",
       "    Minimum:    19.497643036778488\n",
       "    Iterations: 1134\n",
       "\n",
       " * Found with\n",
       "    Algorithm: (10,20)-CMA-ES\n",
       "\n",
       " * Convergence measures\n",
       "    |f(x) - f(x')| = 3.197442310920451e-14 ≤ 1.0e-12\n",
       "\n",
       " * Work counters\n",
       "    Seconds run:   0.526 (vs limit Inf)\n",
       "    Iterations:    1134\n",
       "    f(x) calls:    22680\n"
      ]
     },
     "execution_count": 78,
     "metadata": {},
     "output_type": "execute_result"
    }
   ],
   "source": [
    "# Optimize ackley fucntion - 30 Dimensions; bounds -32 to 32\n",
    "a = repeat([-32.0],30)\n",
    "b = repeat([32.0],30)\n",
    "\n",
    "d = 30\n",
    "x0 = rand(d).*64\n",
    "x = x0.-32\n",
    "N = 50  #no. of populations\n",
    "μ = N/2 # no of parents\n",
    "\n",
    "#println(x)\n",
    "\n",
    "Evolutionary.optimize(ackley, x, CMAES())"
   ]
  },
  {
   "cell_type": "code",
   "execution_count": 79,
   "id": "fb66b5bb",
   "metadata": {
    "scrolled": true
   },
   "outputs": [
    {
     "data": {
      "text/plain": [
       "\n",
       " * Status: success\n",
       "\n",
       " * Candidate solution\n",
       "    Minimizer:  [-0.015743220895991412, 1.9496681560418085, 1.9489020188746715,  ...]\n",
       "    Minimum:    238.2521845928987\n",
       "    Iterations: 809\n",
       "\n",
       " * Found with\n",
       "    Algorithm: (10,20)-CMA-ES\n",
       "\n",
       " * Convergence measures\n",
       "    |f(x) - f(x')| = 6.821210263296962e-13 ≤ 1.0e-12\n",
       "\n",
       " * Work counters\n",
       "    Seconds run:   0.407 (vs limit Inf)\n",
       "    Iterations:    809\n",
       "    f(x) calls:    16180\n"
      ]
     },
     "execution_count": 79,
     "metadata": {},
     "output_type": "execute_result"
    }
   ],
   "source": [
    "# Optimize rastrigin function = 30 Dimensions; bounds -5.12 to 5.12\n",
    "a = repeat([-5.12],30)\n",
    "b = repeat([5.12],30)\n",
    "\n",
    "d = 30\n",
    "x0 = rand(d).*10.24\n",
    "x = x0.-5.12\n",
    "N = 50  #no. of populations\n",
    "μ = N/2 # no of parents\n",
    "\n",
    "#println(x)\n",
    "\n",
    "Evolutionary.optimize(rastrigin, x, CMAES())"
   ]
  },
  {
   "cell_type": "markdown",
   "id": "b1b24013",
   "metadata": {},
   "source": [
    "#### Optimization Results for Fixed Dimensional Functions"
   ]
  },
  {
   "cell_type": "code",
   "execution_count": 80,
   "id": "ddde3264",
   "metadata": {},
   "outputs": [
    {
     "data": {
      "text/plain": [
       "\n",
       " * Status: success\n",
       "\n",
       " * Candidate solution\n",
       "    Minimizer:  [7.451699452567796e-5, 8.115050488164113e-5]\n",
       "    Minimum:    2.5332456862794476e-10\n",
       "    Iterations: 168\n",
       "\n",
       " * Found with\n",
       "    Algorithm: (10,20)-CMA-ES\n",
       "\n",
       " * Convergence measures\n",
       "    |f(x) - f(x')| = 4.977908753672199e-15 ≤ 1.0e-12\n",
       "\n",
       " * Work counters\n",
       "    Seconds run:   0.002 (vs limit Inf)\n",
       "    Iterations:    168\n",
       "    f(x) calls:    3360\n"
      ]
     },
     "execution_count": 80,
     "metadata": {},
     "output_type": "execute_result"
    }
   ],
   "source": [
    "# Optimize matyas2 function = 2 Dimensions; bounds -10 to 10\n",
    "\n",
    "d = 2\n",
    "x0 = rand(d).*20\n",
    "x = x0.-10\n",
    "N = 50  #no. of populations\n",
    "μ = N/2 # no of parents\n",
    "\n",
    "#println(x)\n",
    "\n",
    "\n",
    "Evolutionary.optimize(matyas2, x, CMAES())"
   ]
  },
  {
   "cell_type": "code",
   "execution_count": 81,
   "id": "5695810a",
   "metadata": {
    "scrolled": false
   },
   "outputs": [
    {
     "data": {
      "text/plain": [
       "\n",
       " * Status: success\n",
       "\n",
       " * Candidate solution\n",
       "    Minimizer:  [2.131566274602877e-7, 9.963825922803127e-7]\n",
       "    Minimum:    1.0609042658215267e-12\n",
       "    Iterations: 277\n",
       "\n",
       " * Found with\n",
       "    Algorithm: (10,20)-CMA-ES\n",
       "\n",
       " * Convergence measures\n",
       "    |f(x) - f(x')| = 6.096082504028714e-14 ≤ 1.0e-12\n",
       "\n",
       " * Work counters\n",
       "    Seconds run:   0.003 (vs limit Inf)\n",
       "    Iterations:    277\n",
       "    f(x) calls:    5540\n"
      ]
     },
     "execution_count": 81,
     "metadata": {},
     "output_type": "execute_result"
    }
   ],
   "source": [
    "# Optimize zirilli2 function = 2 Dimensions; bounds -10 to 10\n",
    "d = 2\n",
    "x0 = rand(d).*20\n",
    "x = x0.-10\n",
    "N = 50  #no. of populations\n",
    "μ = N/2 # no of parents\n",
    "\n",
    "#println(x)\n",
    "\n",
    "Evolutionary.optimize(zirilli2, x, CMAES())"
   ]
  }
 ],
 "metadata": {
  "@webio": {
   "lastCommId": null,
   "lastKernelId": null
  },
  "kernelspec": {
   "display_name": "Julia 1.8.0",
   "language": "julia",
   "name": "julia-1.8"
  },
  "language_info": {
   "file_extension": ".jl",
   "mimetype": "application/julia",
   "name": "julia",
   "version": "1.8.0"
  }
 },
 "nbformat": 4,
 "nbformat_minor": 5
}
